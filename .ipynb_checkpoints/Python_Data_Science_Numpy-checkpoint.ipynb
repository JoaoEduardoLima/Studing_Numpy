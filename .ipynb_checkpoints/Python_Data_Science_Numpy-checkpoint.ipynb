{
 "cells": [
  {
   "cell_type": "markdown",
   "metadata": {
    "id": "do3kUOLbltjE"
   },
   "source": [
    "# <font color=green> PYTHON PARA DATA SCIENCE - NUMPY BÁSICO\n",
    "---"
   ]
  },
  {
   "cell_type": "markdown",
   "metadata": {
    "id": "umSz9TLxltjG"
   },
   "source": [
    "# <font color=green> 1. INTRODUÇÃO AO PYTHON\n",
    "---"
   ]
  },
  {
   "cell_type": "markdown",
   "metadata": {
    "id": "gSnX12-sltjH"
   },
   "source": [
    "# 1.1 Introdução"
   ]
  },
  {
   "cell_type": "markdown",
   "metadata": {
    "id": "SRG_k55kltjI"
   },
   "source": [
    "> Python é uma linguagem de programação de alto nível com suporte a múltiplos paradigmas de programação. É um projeto *open source* e desde seu surgimento, em 1991, vem se tornando uma das linguagens de programação interpretadas mais populares. \n",
    ">\n",
    "> Nos últimos anos Python desenvolveu uma comunidade ativa de processamento científico e análise de dados e vem se destacando como uma das linguagens mais relevantes quando o assunto é ciência de dados e machine learning, tanto no ambiente acadêmico como também no mercado."
   ]
  },
  {
   "cell_type": "markdown",
   "metadata": {
    "id": "2oZuKvWkltjJ"
   },
   "source": [
    "# 1.2 Instalação e ambiente de desenvolvimento"
   ]
  },
  {
   "cell_type": "markdown",
   "metadata": {
    "id": "v4P8bMEIltjK"
   },
   "source": [
    "### Instalação Local\n",
    "\n",
    "### https://www.python.org/downloads/\n",
    "### ou\n",
    "### https://www.anaconda.com/distribution/"
   ]
  },
  {
   "cell_type": "markdown",
   "metadata": {
    "id": "FZtu5tjrltjL"
   },
   "source": [
    "### Google Colaboratory\n",
    "\n",
    "### https://colab.research.google.com"
   ]
  },
  {
   "cell_type": "markdown",
   "metadata": {
    "id": "C6vbfq8DltjM"
   },
   "source": [
    "### Verificando versão"
   ]
  },
  {
   "cell_type": "code",
   "execution_count": null,
   "metadata": {
    "colab": {
     "base_uri": "https://localhost:8080/"
    },
    "id": "jeuAt-4NltjM",
    "outputId": "4a1734e0-3cf7-4a7d-ca32-aedd62a1f5fb"
   },
   "outputs": [
    {
     "name": "stdout",
     "output_type": "stream",
     "text": [
      "Python 3.7.10\n"
     ]
    }
   ],
   "source": [
    "!python -V"
   ]
  },
  {
   "cell_type": "markdown",
   "metadata": {
    "id": "v86aEyR2ltjR"
   },
   "source": [
    "# 1.3 Trabalhando com arrays Numpy"
   ]
  },
  {
   "cell_type": "code",
   "execution_count": null,
   "metadata": {
    "id": "6FEhElzNltjR"
   },
   "outputs": [],
   "source": [
    "import numpy as np"
   ]
  },
  {
   "cell_type": "code",
   "execution_count": null,
   "metadata": {
    "id": "qjL5wPLKltjU"
   },
   "outputs": [],
   "source": [
    "km = np.loadtxt('carros-km.txt')"
   ]
  },
  {
   "cell_type": "code",
   "execution_count": null,
   "metadata": {
    "id": "OFaxgUptltjW",
    "scrolled": true
   },
   "outputs": [],
   "source": [
    "km"
   ]
  },
  {
   "cell_type": "code",
   "execution_count": null,
   "metadata": {
    "id": "FXjYowRDltjZ"
   },
   "outputs": [],
   "source": [
    "anos = np.loadtxt('carros-anos.txt', dtype = int)"
   ]
  },
  {
   "cell_type": "code",
   "execution_count": null,
   "metadata": {
    "id": "f_d2Ya-vltjb"
   },
   "outputs": [],
   "source": [
    "anos"
   ]
  },
  {
   "cell_type": "markdown",
   "metadata": {
    "id": "wMdUsAq4ltjs"
   },
   "source": [
    "### Obtendo a quilometragem média por ano"
   ]
  },
  {
   "cell_type": "code",
   "execution_count": null,
   "metadata": {
    "colab": {
     "base_uri": "https://localhost:8080/"
    },
    "id": "cD2M3s3Fltjt",
    "outputId": "44e811c5-f0d2-4c14-e23a-f694fbd74c4c"
   },
   "outputs": [
    {
     "name": "stderr",
     "output_type": "stream",
     "text": [
      "/usr/local/lib/python3.7/dist-packages/ipykernel_launcher.py:1: RuntimeWarning: invalid value encountered in true_divide\n",
      "  \"\"\"Entry point for launching an IPython kernel.\n"
     ]
    }
   ],
   "source": [
    "km_media = km / (2019 - anos)"
   ]
  },
  {
   "cell_type": "code",
   "execution_count": null,
   "metadata": {
    "id": "65IyPzKKltjv"
   },
   "outputs": [],
   "source": [
    "km_media"
   ]
  },
  {
   "cell_type": "code",
   "execution_count": null,
   "metadata": {
    "colab": {
     "base_uri": "https://localhost:8080/"
    },
    "id": "Z0JCmAWvltjy",
    "outputId": "af4ae7cf-573d-4987-d879-39dc3a36be41"
   },
   "outputs": [
    {
     "data": {
      "text/plain": [
       "numpy.ndarray"
      ]
     },
     "execution_count": 13,
     "metadata": {
      "tags": []
     },
     "output_type": "execute_result"
    }
   ],
   "source": [
    "type(km_media)"
   ]
  },
  {
   "cell_type": "markdown",
   "metadata": {
    "id": "KdG5NmmGltj0"
   },
   "source": [
    "# <font color=green> 2. CARACTERÍSTICAS BÁSICAS DA LINGUAGEM\n",
    "---"
   ]
  },
  {
   "cell_type": "markdown",
   "metadata": {
    "id": "X1K5kisFltj1"
   },
   "source": [
    "# 2.1 Operações matemáticas\n",
    "\n",
    "### Operadores aritméticos: $+$, $-$, $*$, $/$, $**$, $\\%$, $//$"
   ]
  },
  {
   "cell_type": "markdown",
   "metadata": {
    "id": "8YCDVpbYltj1"
   },
   "source": [
    "### Adição ($+$)"
   ]
  },
  {
   "cell_type": "code",
   "execution_count": null,
   "metadata": {
    "colab": {
     "base_uri": "https://localhost:8080/"
    },
    "id": "h6DsMqhaltj2",
    "outputId": "9fb9cdf9-2524-4b1c-c066-62d53006b529"
   },
   "outputs": [
    {
     "data": {
      "text/plain": [
       "4"
      ]
     },
     "execution_count": 14,
     "metadata": {
      "tags": []
     },
     "output_type": "execute_result"
    }
   ],
   "source": [
    "2 + 2"
   ]
  },
  {
   "cell_type": "markdown",
   "metadata": {
    "id": "WeJG-WJBltj8"
   },
   "source": [
    "### Subtração ($-$)"
   ]
  },
  {
   "cell_type": "code",
   "execution_count": null,
   "metadata": {
    "colab": {
     "base_uri": "https://localhost:8080/"
    },
    "id": "zoB7_OcRltj9",
    "outputId": "459a6414-b27e-48fe-c6da-ca0fe1255c48"
   },
   "outputs": [
    {
     "data": {
      "text/plain": [
       "0"
      ]
     },
     "execution_count": 15,
     "metadata": {
      "tags": []
     },
     "output_type": "execute_result"
    }
   ],
   "source": [
    "2 - 2"
   ]
  },
  {
   "cell_type": "markdown",
   "metadata": {
    "id": "zuv8N7fjltkC"
   },
   "source": [
    "### Multiplicação ($*$)"
   ]
  },
  {
   "cell_type": "code",
   "execution_count": null,
   "metadata": {
    "colab": {
     "base_uri": "https://localhost:8080/"
    },
    "id": "TAWG7xSTltkD",
    "outputId": "db735642-15b5-4a86-96d3-cc1fd6627aa7"
   },
   "outputs": [
    {
     "data": {
      "text/plain": [
       "6"
      ]
     },
     "execution_count": 16,
     "metadata": {
      "tags": []
     },
     "output_type": "execute_result"
    }
   ],
   "source": [
    "2 * 3"
   ]
  },
  {
   "cell_type": "markdown",
   "metadata": {
    "id": "dMp7BsnwltkF"
   },
   "source": [
    "### Divisão ($/$) e ($//$)\n",
    "A operação divisão sempre retorna um número de ponto flutuante"
   ]
  },
  {
   "cell_type": "code",
   "execution_count": null,
   "metadata": {
    "colab": {
     "base_uri": "https://localhost:8080/"
    },
    "id": "DD5kx3H3ltkF",
    "outputId": "31a62b70-3a60-4d65-c3d0-a9db716b14ca"
   },
   "outputs": [
    {
     "data": {
      "text/plain": [
       "3.3333333333333335"
      ]
     },
     "execution_count": 17,
     "metadata": {
      "tags": []
     },
     "output_type": "execute_result"
    }
   ],
   "source": [
    "10 / 3"
   ]
  },
  {
   "cell_type": "code",
   "execution_count": null,
   "metadata": {
    "colab": {
     "base_uri": "https://localhost:8080/"
    },
    "id": "ji0CYH3UltkI",
    "outputId": "f2d43410-7e3c-4797-d176-a23ef0cf9eb5"
   },
   "outputs": [
    {
     "data": {
      "text/plain": [
       "3"
      ]
     },
     "execution_count": 18,
     "metadata": {
      "tags": []
     },
     "output_type": "execute_result"
    }
   ],
   "source": [
    "10 // 3"
   ]
  },
  {
   "cell_type": "markdown",
   "metadata": {
    "id": "3DSO7TcvltkL"
   },
   "source": [
    "### Exponenciação ($**$)"
   ]
  },
  {
   "cell_type": "code",
   "execution_count": null,
   "metadata": {
    "colab": {
     "base_uri": "https://localhost:8080/"
    },
    "id": "tBKvl2TWltkM",
    "outputId": "c0a15f43-1326-44d8-b0b8-60cbc7d494e7"
   },
   "outputs": [
    {
     "data": {
      "text/plain": [
       "8"
      ]
     },
     "execution_count": 19,
     "metadata": {
      "tags": []
     },
     "output_type": "execute_result"
    }
   ],
   "source": [
    "2 ** 3"
   ]
  },
  {
   "cell_type": "markdown",
   "metadata": {
    "id": "MhD56p-9ltkQ"
   },
   "source": [
    "### Resto da divisão ($\\%$)"
   ]
  },
  {
   "cell_type": "code",
   "execution_count": null,
   "metadata": {
    "colab": {
     "base_uri": "https://localhost:8080/"
    },
    "id": "bfa7phO6ltkR",
    "outputId": "3335580b-3ec0-4bb2-a3fa-43eaa8688909"
   },
   "outputs": [
    {
     "data": {
      "text/plain": [
       "1"
      ]
     },
     "execution_count": 20,
     "metadata": {
      "tags": []
     },
     "output_type": "execute_result"
    }
   ],
   "source": [
    "10 % 3"
   ]
  },
  {
   "cell_type": "code",
   "execution_count": null,
   "metadata": {
    "colab": {
     "base_uri": "https://localhost:8080/"
    },
    "id": "khIEx6olltkT",
    "outputId": "9c6a2f6c-f0eb-49b5-bf06-b3d6cdff2218"
   },
   "outputs": [
    {
     "data": {
      "text/plain": [
       "0"
      ]
     },
     "execution_count": 21,
     "metadata": {
      "tags": []
     },
     "output_type": "execute_result"
    }
   ],
   "source": [
    "10 % 2"
   ]
  },
  {
   "cell_type": "markdown",
   "metadata": {
    "id": "8pVVp5fsltkV"
   },
   "source": [
    "### Expressões matemáticas"
   ]
  },
  {
   "cell_type": "code",
   "execution_count": null,
   "metadata": {
    "colab": {
     "base_uri": "https://localhost:8080/"
    },
    "id": "jlQTk4gNltkW",
    "outputId": "bf11863f-ff4a-4e38-c884-989aed589c2d"
   },
   "outputs": [
    {
     "data": {
      "text/plain": [
       "16"
      ]
     },
     "execution_count": 22,
     "metadata": {
      "tags": []
     },
     "output_type": "execute_result"
    }
   ],
   "source": [
    "5 * 2 + 3 * 2"
   ]
  },
  {
   "cell_type": "code",
   "execution_count": null,
   "metadata": {
    "colab": {
     "base_uri": "https://localhost:8080/"
    },
    "id": "kkCb6Crgltka",
    "outputId": "6b7dfc6a-6c67-4e6e-aac9-867e47dbd34a"
   },
   "outputs": [
    {
     "data": {
      "text/plain": [
       "16"
      ]
     },
     "execution_count": 23,
     "metadata": {
      "tags": []
     },
     "output_type": "execute_result"
    }
   ],
   "source": [
    "(5 * 2) + (3 * 2)"
   ]
  },
  {
   "cell_type": "code",
   "execution_count": null,
   "metadata": {
    "colab": {
     "base_uri": "https://localhost:8080/"
    },
    "id": "UD12tlgAltkd",
    "outputId": "00f602a3-b315-46f9-acc5-a4b306958a37"
   },
   "outputs": [
    {
     "data": {
      "text/plain": [
       "50"
      ]
     },
     "execution_count": 24,
     "metadata": {
      "tags": []
     },
     "output_type": "execute_result"
    }
   ],
   "source": [
    "5 * (2 + 3)* 2"
   ]
  },
  {
   "cell_type": "markdown",
   "metadata": {
    "id": "a5tKQ5Beltkf"
   },
   "source": [
    "### A variável _\n",
    "\n",
    "No modo interativo, o último resultado impresso é atribuído à variável _"
   ]
  },
  {
   "cell_type": "code",
   "execution_count": null,
   "metadata": {
    "colab": {
     "base_uri": "https://localhost:8080/"
    },
    "id": "VkHEx516ltkg",
    "outputId": "efe850b7-3683-4d3b-f9d7-883e9f244331"
   },
   "outputs": [
    {
     "data": {
      "text/plain": [
       "10"
      ]
     },
     "execution_count": 25,
     "metadata": {
      "tags": []
     },
     "output_type": "execute_result"
    }
   ],
   "source": [
    "5 * 2"
   ]
  },
  {
   "cell_type": "code",
   "execution_count": null,
   "metadata": {
    "colab": {
     "base_uri": "https://localhost:8080/"
    },
    "id": "dFShsobXltki",
    "outputId": "9cae8889-4273-4698-d44c-0fc28b91aa66"
   },
   "outputs": [
    {
     "data": {
      "text/plain": [
       "16"
      ]
     },
     "execution_count": 26,
     "metadata": {
      "tags": []
     },
     "output_type": "execute_result"
    }
   ],
   "source": [
    "_ + 3 * 2"
   ]
  },
  {
   "cell_type": "code",
   "execution_count": null,
   "metadata": {
    "colab": {
     "base_uri": "https://localhost:8080/"
    },
    "id": "hJIpR3KUltkk",
    "outputId": "9338e517-11db-4cbc-b93f-76b306294b9d"
   },
   "outputs": [
    {
     "data": {
      "text/plain": [
       "8.0"
      ]
     },
     "execution_count": 27,
     "metadata": {
      "tags": []
     },
     "output_type": "execute_result"
    }
   ],
   "source": [
    "_ / 2"
   ]
  },
  {
   "cell_type": "markdown",
   "metadata": {
    "id": "MUrQAf6Mltkm"
   },
   "source": [
    "# 2.2 Variáveis "
   ]
  },
  {
   "cell_type": "markdown",
   "metadata": {
    "id": "qaVLKIeultkn"
   },
   "source": [
    "### Nomes de variáveis\n",
    "\n",
    "- Nomes de variáveis pode começar com letras (a - z, A - Z) ou o caractere *underscore* (_):\n",
    "\n",
    "    > Altura\n",
    "    >\n",
    "    > _peso\n",
    "    \n",
    "- O restante do nome pode conter letras, números e o caractere \"_\":\n",
    "\n",
    "    > nome_da_variavel\n",
    "    >\n",
    "    > _valor\n",
    "    >\n",
    "    > dia_28_11_\n",
    "    \n",
    "\n",
    "- O nomes são *case sensitive*:\n",
    "\n",
    "    > Nome_Da_Variável $\\ne$ nome_da_variavel $\\ne$ NOME_DA_VARIAVEL\n",
    "    \n",
    "### <font color=red>Observações:\n",
    "- Existem algumas palavras reservadas da linguagem que não podem ser utilizadas como nomes de variável:\n",
    "\n",
    "| |Lista de palavras <br>reservadas em Python| |\n",
    "|:-------------:|:------------:|:-------------:|\n",
    "| and           | as           | not           | \n",
    "| assert        | finally      | or            | \n",
    "| break         | for          | pass          | \n",
    "| class         | from         | nonlocal      | \n",
    "| continue      | global       | raise         | \n",
    "| def           | if           | return        | \n",
    "| del           | import       | try           | \n",
    "| elif          | in           | while         | \n",
    "| else          | is           | with          | \n",
    "| except        | lambda       | yield         | \n",
    "| False         | True         | None          | "
   ]
  },
  {
   "cell_type": "markdown",
   "metadata": {
    "id": "3frWjfAtltkn"
   },
   "source": [
    "### Declaração de variáveis\n",
    "\n",
    "### Operadores de atribuição: $=$, $+=$, $-=$, $*=$, $/=$, $**=$, $\\%=$, $//=$"
   ]
  },
  {
   "cell_type": "code",
   "execution_count": null,
   "metadata": {
    "id": "7VIcrXNHltko"
   },
   "outputs": [],
   "source": [
    "ano_atual = 2019\n",
    "ano_fabricacao = 2003\n",
    "km_total = 44410.0"
   ]
  },
  {
   "cell_type": "code",
   "execution_count": null,
   "metadata": {
    "colab": {
     "base_uri": "https://localhost:8080/"
    },
    "id": "atVoqp6bltkq",
    "outputId": "c6d8ef8a-36f4-49b2-d6c5-b0c35d6bc146"
   },
   "outputs": [
    {
     "data": {
      "text/plain": [
       "2019"
      ]
     },
     "execution_count": 30,
     "metadata": {
      "tags": []
     },
     "output_type": "execute_result"
    }
   ],
   "source": [
    "ano_atual"
   ]
  },
  {
   "cell_type": "code",
   "execution_count": null,
   "metadata": {
    "colab": {
     "base_uri": "https://localhost:8080/"
    },
    "id": "_t82qXrOltkt",
    "outputId": "0a7872eb-cfc6-47f0-ba53-c0ae3eadbdb4"
   },
   "outputs": [
    {
     "data": {
      "text/plain": [
       "2003"
      ]
     },
     "execution_count": 31,
     "metadata": {
      "tags": []
     },
     "output_type": "execute_result"
    }
   ],
   "source": [
    "ano_fabricacao"
   ]
  },
  {
   "cell_type": "code",
   "execution_count": null,
   "metadata": {
    "colab": {
     "base_uri": "https://localhost:8080/"
    },
    "id": "1anwuDHiltkv",
    "outputId": "58203cea-ff7e-4260-fe6a-bd3bf6eeecd6"
   },
   "outputs": [
    {
     "data": {
      "text/plain": [
       "44410.0"
      ]
     },
     "execution_count": 32,
     "metadata": {
      "tags": []
     },
     "output_type": "execute_result"
    }
   ],
   "source": [
    "km_total"
   ]
  },
  {
   "cell_type": "markdown",
   "metadata": {
    "id": "gCBkfq_8ltky"
   },
   "source": [
    "# $$km_{média} = \\frac {km_{total}}{(Ano_{atual} - Ano_{fabricação})}$$"
   ]
  },
  {
   "cell_type": "markdown",
   "metadata": {
    "id": "zswWS4hNltky"
   },
   "source": [
    "### Operações com variáveis"
   ]
  },
  {
   "cell_type": "code",
   "execution_count": null,
   "metadata": {
    "colab": {
     "base_uri": "https://localhost:8080/"
    },
    "id": "HxxU0rnfltkz",
    "outputId": "ad80f06e-d783-438c-8f10-940b277f7d78"
   },
   "outputs": [
    {
     "data": {
      "text/plain": [
       "2775.625"
      ]
     },
     "execution_count": 33,
     "metadata": {
      "tags": []
     },
     "output_type": "execute_result"
    }
   ],
   "source": [
    "km_media = km_total / (ano_atual - ano_fabricacao)\n",
    "km_media"
   ]
  },
  {
   "cell_type": "code",
   "execution_count": null,
   "metadata": {
    "colab": {
     "base_uri": "https://localhost:8080/"
    },
    "id": "_2Qhb32jltk1",
    "outputId": "0d95f6e2-3005-4713-f623-e18f1581198e"
   },
   "outputs": [
    {
     "data": {
      "text/plain": [
       "2775.625"
      ]
     },
     "execution_count": 36,
     "metadata": {
      "tags": []
     },
     "output_type": "execute_result"
    }
   ],
   "source": [
    "ano_atual = 2019\n",
    "ano_fabricacao = 2003\n",
    "km_total = 44410.0\n",
    "km_media = km_total / (ano_atual - ano_fabricacao)\n",
    "km_media"
   ]
  },
  {
   "cell_type": "code",
   "execution_count": null,
   "metadata": {
    "colab": {
     "base_uri": "https://localhost:8080/"
    },
    "id": "nCJzA7dyltk3",
    "outputId": "c89ac284-5d79-4d41-b9aa-84fdb769f87d"
   },
   "outputs": [
    {
     "data": {
      "text/plain": [
       "47185.625"
      ]
     },
     "execution_count": 35,
     "metadata": {
      "tags": []
     },
     "output_type": "execute_result"
    }
   ],
   "source": [
    "ano_atual = 2019\n",
    "ano_fabricacao = 2003\n",
    "km_total = 44410.0\n",
    "km_media = km_total / (ano_atual - ano_fabricacao)\n",
    "\n",
    "km_total = km_total + km_media\n",
    "km_total"
   ]
  },
  {
   "cell_type": "code",
   "execution_count": null,
   "metadata": {
    "colab": {
     "base_uri": "https://localhost:8080/"
    },
    "id": "ifRwQ0vEltk9",
    "outputId": "f8f83b5a-6e02-48c1-f74c-6b6a1c2fc2fb"
   },
   "outputs": [
    {
     "data": {
      "text/plain": [
       "47185.625"
      ]
     },
     "execution_count": 37,
     "metadata": {
      "tags": []
     },
     "output_type": "execute_result"
    }
   ],
   "source": [
    "ano_atual = 2019\n",
    "ano_fabricacao = 2003\n",
    "km_total = 44410.0\n",
    "km_media = km_total / (ano_atual - ano_fabricacao)\n",
    "\n",
    "km_total += km_media\n",
    "km_total"
   ]
  },
  {
   "cell_type": "markdown",
   "metadata": {
    "id": "fDBrHWSBltlB"
   },
   "source": [
    "### Conclusão:\n",
    "```\n",
    "\"valor = valor + 1\" é equivalente a \"valor += 1\"\n",
    "```"
   ]
  },
  {
   "cell_type": "markdown",
   "metadata": {
    "id": "uVAyJbmAltlC"
   },
   "source": [
    "### Declaração múltipla"
   ]
  },
  {
   "cell_type": "code",
   "execution_count": null,
   "metadata": {
    "id": "oMWEzjPOltlC"
   },
   "outputs": [],
   "source": [
    "ano_atual, ano_fabricacao, km_total = 2019, 2003, 44410.0"
   ]
  },
  {
   "cell_type": "code",
   "execution_count": null,
   "metadata": {
    "colab": {
     "base_uri": "https://localhost:8080/"
    },
    "id": "9ZKlHkLultlE",
    "outputId": "4f0575d6-b418-4954-ce64-60e646eba4a0"
   },
   "outputs": [
    {
     "data": {
      "text/plain": [
       "2019"
      ]
     },
     "execution_count": 39,
     "metadata": {
      "tags": []
     },
     "output_type": "execute_result"
    }
   ],
   "source": [
    "ano_atual"
   ]
  },
  {
   "cell_type": "code",
   "execution_count": null,
   "metadata": {
    "colab": {
     "base_uri": "https://localhost:8080/"
    },
    "id": "-mcMuW9nltlG",
    "outputId": "40aa7f6d-6c58-452d-f56c-063289cd96bc"
   },
   "outputs": [
    {
     "data": {
      "text/plain": [
       "2003"
      ]
     },
     "execution_count": 40,
     "metadata": {
      "tags": []
     },
     "output_type": "execute_result"
    }
   ],
   "source": [
    "ano_fabricacao"
   ]
  },
  {
   "cell_type": "code",
   "execution_count": null,
   "metadata": {
    "colab": {
     "base_uri": "https://localhost:8080/"
    },
    "id": "WFFavLIvltlL",
    "outputId": "2d7d946a-eab2-486d-dbac-5e9298ead7a0"
   },
   "outputs": [
    {
     "data": {
      "text/plain": [
       "44410.0"
      ]
     },
     "execution_count": 41,
     "metadata": {
      "tags": []
     },
     "output_type": "execute_result"
    }
   ],
   "source": [
    "km_total"
   ]
  },
  {
   "cell_type": "code",
   "execution_count": null,
   "metadata": {
    "colab": {
     "base_uri": "https://localhost:8080/"
    },
    "id": "iFawOJe6ltlO",
    "outputId": "9483d79e-6f20-4bd0-c942-438ba642ea8a"
   },
   "outputs": [
    {
     "data": {
      "text/plain": [
       "2775.625"
      ]
     },
     "execution_count": 42,
     "metadata": {
      "tags": []
     },
     "output_type": "execute_result"
    }
   ],
   "source": [
    "ano_atual, ano_fabricacao, km_total = 2019, 2003, 44410.0\n",
    "km_media = km_total / (ano_atual - ano_fabricacao)\n",
    "km_media"
   ]
  },
  {
   "cell_type": "markdown",
   "metadata": {
    "id": "uoRXMeRDltlQ"
   },
   "source": [
    "# 2.3 Tipos de dados"
   ]
  },
  {
   "cell_type": "markdown",
   "metadata": {
    "id": "sW_G6EjWltlQ"
   },
   "source": [
    "Os tipos de dados especificam como números e caracteres serão armazenados e manipulados dentro de um programa. Os tipos de dados básicos do Python são:\n",
    "\n",
    "1. **Números**\n",
    "    1. ***int*** - Inteiros\n",
    "    - ***float*** - Ponto flutuante\n",
    "- **Booleanos** - Assume os valores True ou False. Essencial quando começarmos a trabalhar com declarações condicionais\n",
    "- ***Strings*** - Sequência de um ou mais caracteres que pode incluir letras, números e outros tipos de caracteres. Representa um texto.\n",
    "- **None** - Representa a ausência de valor"
   ]
  },
  {
   "cell_type": "markdown",
   "metadata": {
    "id": "-HRRxQOtltlQ"
   },
   "source": [
    "### Números"
   ]
  },
  {
   "cell_type": "code",
   "execution_count": null,
   "metadata": {
    "id": "5PKIcIuUltlR"
   },
   "outputs": [],
   "source": [
    "ano_atual = 2019"
   ]
  },
  {
   "cell_type": "code",
   "execution_count": null,
   "metadata": {
    "colab": {
     "base_uri": "https://localhost:8080/"
    },
    "id": "G32Yd1g0ltlT",
    "outputId": "62d23865-a2ac-4773-af53-7d9f1b0ae062"
   },
   "outputs": [
    {
     "data": {
      "text/plain": [
       "int"
      ]
     },
     "execution_count": 44,
     "metadata": {
      "tags": []
     },
     "output_type": "execute_result"
    }
   ],
   "source": [
    "type(ano_atual)"
   ]
  },
  {
   "cell_type": "code",
   "execution_count": null,
   "metadata": {
    "id": "b9_v__dEltlV"
   },
   "outputs": [],
   "source": [
    "km_total = 44410.0"
   ]
  },
  {
   "cell_type": "code",
   "execution_count": null,
   "metadata": {
    "colab": {
     "base_uri": "https://localhost:8080/"
    },
    "id": "A0nySb3LltlZ",
    "outputId": "8d1dcb08-dfb1-4a5f-e271-9709cbe7646a"
   },
   "outputs": [
    {
     "data": {
      "text/plain": [
       "float"
      ]
     },
     "execution_count": 46,
     "metadata": {
      "tags": []
     },
     "output_type": "execute_result"
    }
   ],
   "source": [
    "type(km_total)"
   ]
  },
  {
   "cell_type": "markdown",
   "metadata": {
    "id": "7X9iheAnltld"
   },
   "source": [
    "### Booleanos"
   ]
  },
  {
   "cell_type": "code",
   "execution_count": null,
   "metadata": {
    "id": "liUYdchPltle"
   },
   "outputs": [],
   "source": [
    "zero_km = True"
   ]
  },
  {
   "cell_type": "code",
   "execution_count": null,
   "metadata": {
    "colab": {
     "base_uri": "https://localhost:8080/"
    },
    "id": "oZIQAghaltlh",
    "outputId": "5c563744-4435-4eff-dc2a-5444d6518eaa"
   },
   "outputs": [
    {
     "data": {
      "text/plain": [
       "bool"
      ]
     },
     "execution_count": 48,
     "metadata": {
      "tags": []
     },
     "output_type": "execute_result"
    }
   ],
   "source": [
    "type(zero_km)"
   ]
  },
  {
   "cell_type": "code",
   "execution_count": null,
   "metadata": {
    "id": "XCAYApe3ltlj"
   },
   "outputs": [],
   "source": [
    "zero_km = False"
   ]
  },
  {
   "cell_type": "code",
   "execution_count": null,
   "metadata": {
    "colab": {
     "base_uri": "https://localhost:8080/"
    },
    "id": "mJ0nGEV7ltll",
    "outputId": "d5c32a68-a339-4ef3-87fa-fe300bfc2c39"
   },
   "outputs": [
    {
     "data": {
      "text/plain": [
       "bool"
      ]
     },
     "execution_count": 50,
     "metadata": {
      "tags": []
     },
     "output_type": "execute_result"
    }
   ],
   "source": [
    "type(zero_km)"
   ]
  },
  {
   "cell_type": "markdown",
   "metadata": {
    "id": "Ipjq4eiSltlp"
   },
   "source": [
    "### Strings"
   ]
  },
  {
   "cell_type": "code",
   "execution_count": null,
   "metadata": {
    "colab": {
     "base_uri": "https://localhost:8080/",
     "height": 36
    },
    "id": "OeW_GQzOltlr",
    "outputId": "c63ca965-c6c8-48b1-a134-48e31fbac151"
   },
   "outputs": [
    {
     "data": {
      "application/vnd.google.colaboratory.intrinsic+json": {
       "type": "string"
      },
      "text/plain": [
       "'Jetta Variante'"
      ]
     },
     "execution_count": 52,
     "metadata": {
      "tags": []
     },
     "output_type": "execute_result"
    }
   ],
   "source": [
    "nome = 'Jetta Variante'\n",
    "nome"
   ]
  },
  {
   "cell_type": "code",
   "execution_count": null,
   "metadata": {
    "colab": {
     "base_uri": "https://localhost:8080/",
     "height": 36
    },
    "id": "xF1Bi-Rkltlu",
    "outputId": "7d4709a5-ab12-4427-e9f8-0f0e1a3f8a90"
   },
   "outputs": [
    {
     "data": {
      "application/vnd.google.colaboratory.intrinsic+json": {
       "type": "string"
      },
      "text/plain": [
       "'Jetta Variante'"
      ]
     },
     "execution_count": 53,
     "metadata": {
      "tags": []
     },
     "output_type": "execute_result"
    }
   ],
   "source": [
    "nome = \"Jetta Variante\"\n",
    "nome"
   ]
  },
  {
   "cell_type": "code",
   "execution_count": null,
   "metadata": {
    "colab": {
     "base_uri": "https://localhost:8080/",
     "height": 36
    },
    "id": "QlobSFUtltlw",
    "outputId": "d279a99a-7bd4-4ba1-950e-5d025a2e0837"
   },
   "outputs": [
    {
     "data": {
      "application/vnd.google.colaboratory.intrinsic+json": {
       "type": "string"
      },
      "text/plain": [
       "'Jetta \"Variante\"'"
      ]
     },
     "execution_count": 54,
     "metadata": {
      "tags": []
     },
     "output_type": "execute_result"
    }
   ],
   "source": [
    "nome = 'Jetta \"Variante\"'\n",
    "nome"
   ]
  },
  {
   "cell_type": "code",
   "execution_count": null,
   "metadata": {
    "colab": {
     "base_uri": "https://localhost:8080/",
     "height": 36
    },
    "id": "8LBWzzfbltly",
    "outputId": "d3f8b20f-58aa-4f32-af4b-8177ef9ef5f3"
   },
   "outputs": [
    {
     "data": {
      "application/vnd.google.colaboratory.intrinsic+json": {
       "type": "string"
      },
      "text/plain": [
       "\"Jetta 'Variante'\""
      ]
     },
     "execution_count": 55,
     "metadata": {
      "tags": []
     },
     "output_type": "execute_result"
    }
   ],
   "source": [
    "nome = \"Jetta 'Variante'\"\n",
    "nome"
   ]
  },
  {
   "cell_type": "code",
   "execution_count": null,
   "metadata": {
    "colab": {
     "base_uri": "https://localhost:8080/"
    },
    "id": "ycEhoxtUltl0",
    "outputId": "d76e300f-aad2-4ad6-9655-13ff9e838142"
   },
   "outputs": [
    {
     "data": {
      "text/plain": [
       "str"
      ]
     },
     "execution_count": 57,
     "metadata": {
      "tags": []
     },
     "output_type": "execute_result"
    }
   ],
   "source": [
    "carro = '''\n",
    "Nome\n",
    "Idade\n",
    "Nota\n",
    "'''\n",
    "type(carro)"
   ]
  },
  {
   "cell_type": "markdown",
   "metadata": {
    "id": "w6bJU-R9ltl5"
   },
   "source": [
    "### None"
   ]
  },
  {
   "cell_type": "code",
   "execution_count": null,
   "metadata": {
    "id": "RgeVhXGxltl5"
   },
   "outputs": [],
   "source": [
    "quilometragem = None\n",
    "quilometragem"
   ]
  },
  {
   "cell_type": "code",
   "execution_count": null,
   "metadata": {
    "colab": {
     "base_uri": "https://localhost:8080/"
    },
    "id": "MJI6PKS6ltl8",
    "outputId": "ec71711f-eb7a-402f-ba72-6f41cffdd1e4"
   },
   "outputs": [
    {
     "data": {
      "text/plain": [
       "NoneType"
      ]
     },
     "execution_count": 59,
     "metadata": {
      "tags": []
     },
     "output_type": "execute_result"
    }
   ],
   "source": [
    "type(quilometragem)"
   ]
  },
  {
   "cell_type": "markdown",
   "metadata": {
    "id": "_ilupwV-ltl-"
   },
   "source": [
    "# 2.4 Conversão de tipos"
   ]
  },
  {
   "cell_type": "code",
   "execution_count": null,
   "metadata": {
    "id": "D5hq5Qbvltl-"
   },
   "outputs": [],
   "source": [
    "a = 10\n",
    "b = 20\n",
    "c = 'Python é '\n",
    "d = 'legal'"
   ]
  },
  {
   "cell_type": "code",
   "execution_count": null,
   "metadata": {
    "colab": {
     "base_uri": "https://localhost:8080/"
    },
    "id": "aJ0vi8_Nltl_",
    "outputId": "a04343bf-2784-40e0-8e4f-8bf5d43b46dd"
   },
   "outputs": [
    {
     "data": {
      "text/plain": [
       "int"
      ]
     },
     "execution_count": 61,
     "metadata": {
      "tags": []
     },
     "output_type": "execute_result"
    }
   ],
   "source": [
    "type(a)"
   ]
  },
  {
   "cell_type": "code",
   "execution_count": null,
   "metadata": {
    "colab": {
     "base_uri": "https://localhost:8080/"
    },
    "id": "29FVH7p7ltmB",
    "outputId": "b15516f8-eb83-4a6e-8d98-e07291cbc535"
   },
   "outputs": [
    {
     "data": {
      "text/plain": [
       "int"
      ]
     },
     "execution_count": 62,
     "metadata": {
      "tags": []
     },
     "output_type": "execute_result"
    }
   ],
   "source": [
    "type(b)"
   ]
  },
  {
   "cell_type": "code",
   "execution_count": null,
   "metadata": {
    "colab": {
     "base_uri": "https://localhost:8080/"
    },
    "id": "NGseTO2SltmC",
    "outputId": "b24500bf-db68-4d70-b19a-b411e06e13f1"
   },
   "outputs": [
    {
     "data": {
      "text/plain": [
       "str"
      ]
     },
     "execution_count": 63,
     "metadata": {
      "tags": []
     },
     "output_type": "execute_result"
    }
   ],
   "source": [
    "type(c)"
   ]
  },
  {
   "cell_type": "code",
   "execution_count": null,
   "metadata": {
    "colab": {
     "base_uri": "https://localhost:8080/"
    },
    "id": "yaSBhwNWltmE",
    "outputId": "3ba3a862-2607-4e74-b91e-492e9915b79e"
   },
   "outputs": [
    {
     "data": {
      "text/plain": [
       "str"
      ]
     },
     "execution_count": 64,
     "metadata": {
      "tags": []
     },
     "output_type": "execute_result"
    }
   ],
   "source": [
    "type(d)"
   ]
  },
  {
   "cell_type": "code",
   "execution_count": null,
   "metadata": {
    "colab": {
     "base_uri": "https://localhost:8080/"
    },
    "id": "5zMXVwLHltmF",
    "outputId": "b1de4d49-0e61-4ddb-f2e7-b6084e6402b7"
   },
   "outputs": [
    {
     "data": {
      "text/plain": [
       "30"
      ]
     },
     "execution_count": 65,
     "metadata": {
      "tags": []
     },
     "output_type": "execute_result"
    }
   ],
   "source": [
    "a + b"
   ]
  },
  {
   "cell_type": "code",
   "execution_count": null,
   "metadata": {
    "colab": {
     "base_uri": "https://localhost:8080/",
     "height": 36
    },
    "id": "JJrqKRZFltmJ",
    "outputId": "81dfa86a-e729-4a33-8aa6-3134d2549f26"
   },
   "outputs": [
    {
     "data": {
      "application/vnd.google.colaboratory.intrinsic+json": {
       "type": "string"
      },
      "text/plain": [
       "'Python é legal'"
      ]
     },
     "execution_count": 66,
     "metadata": {
      "tags": []
     },
     "output_type": "execute_result"
    }
   ],
   "source": [
    "c + d"
   ]
  },
  {
   "cell_type": "code",
   "execution_count": null,
   "metadata": {
    "colab": {
     "base_uri": "https://localhost:8080/",
     "height": 168
    },
    "id": "hWEIttpgltmM",
    "outputId": "5c7a379d-54e3-4707-bf6f-4c8e67155a7d"
   },
   "outputs": [
    {
     "ename": "TypeError",
     "evalue": "ignored",
     "output_type": "error",
     "traceback": [
      "\u001b[0;31m---------------------------------------------------------------------------\u001b[0m",
      "\u001b[0;31mTypeError\u001b[0m                                 Traceback (most recent call last)",
      "\u001b[0;32m<ipython-input-67-72f9c903e6a0>\u001b[0m in \u001b[0;36m<module>\u001b[0;34m()\u001b[0m\n\u001b[0;32m----> 1\u001b[0;31m \u001b[0mc\u001b[0m \u001b[0;34m+\u001b[0m \u001b[0ma\u001b[0m\u001b[0;34m\u001b[0m\u001b[0;34m\u001b[0m\u001b[0m\n\u001b[0m",
      "\u001b[0;31mTypeError\u001b[0m: can only concatenate str (not \"int\") to str"
     ]
    }
   ],
   "source": [
    "# c + a"
   ]
  },
  {
   "cell_type": "markdown",
   "metadata": {
    "id": "dByigpENltmO"
   },
   "source": [
    "### Conversões de tipo\n",
    "\n",
    "Funções int(), float(), str()"
   ]
  },
  {
   "cell_type": "code",
   "execution_count": null,
   "metadata": {
    "colab": {
     "base_uri": "https://localhost:8080/",
     "height": 36
    },
    "id": "MtecvWlsltmP",
    "outputId": "4e13bdb0-963c-40ac-a582-b19bf2f32802"
   },
   "outputs": [
    {
     "data": {
      "application/vnd.google.colaboratory.intrinsic+json": {
       "type": "string"
      },
      "text/plain": [
       "'10'"
      ]
     },
     "execution_count": 68,
     "metadata": {
      "tags": []
     },
     "output_type": "execute_result"
    }
   ],
   "source": [
    "str(a)"
   ]
  },
  {
   "cell_type": "code",
   "execution_count": null,
   "metadata": {
    "colab": {
     "base_uri": "https://localhost:8080/"
    },
    "id": "S1NuIhDVltmS",
    "outputId": "4eac35dc-ea25-4905-9f04-c634725d4d89"
   },
   "outputs": [
    {
     "data": {
      "text/plain": [
       "str"
      ]
     },
     "execution_count": 69,
     "metadata": {
      "tags": []
     },
     "output_type": "execute_result"
    }
   ],
   "source": [
    "type(str(a))"
   ]
  },
  {
   "cell_type": "code",
   "execution_count": null,
   "metadata": {
    "colab": {
     "base_uri": "https://localhost:8080/",
     "height": 36
    },
    "id": "3kCUD1X-ltmT",
    "outputId": "f85be0be-00a0-4488-a37a-1ee3c572dbbb"
   },
   "outputs": [
    {
     "data": {
      "application/vnd.google.colaboratory.intrinsic+json": {
       "type": "string"
      },
      "text/plain": [
       "'Python é 10'"
      ]
     },
     "execution_count": 70,
     "metadata": {
      "tags": []
     },
     "output_type": "execute_result"
    }
   ],
   "source": [
    "c + str(a)"
   ]
  },
  {
   "cell_type": "code",
   "execution_count": null,
   "metadata": {
    "colab": {
     "base_uri": "https://localhost:8080/"
    },
    "id": "TTjSEVRaltmU",
    "outputId": "df56ef28-4252-4451-832b-34f0219cd057"
   },
   "outputs": [
    {
     "data": {
      "text/plain": [
       "10.0"
      ]
     },
     "execution_count": 71,
     "metadata": {
      "tags": []
     },
     "output_type": "execute_result"
    }
   ],
   "source": [
    "float(a)"
   ]
  },
  {
   "cell_type": "code",
   "execution_count": null,
   "metadata": {
    "id": "P1P1bXaYltmV"
   },
   "outputs": [],
   "source": [
    "var =3.141592"
   ]
  },
  {
   "cell_type": "code",
   "execution_count": null,
   "metadata": {
    "colab": {
     "base_uri": "https://localhost:8080/"
    },
    "id": "F_8Cn0aAltmW",
    "outputId": "e510ca90-52f0-476a-828a-232ed3c70f8b"
   },
   "outputs": [
    {
     "data": {
      "text/plain": [
       "float"
      ]
     },
     "execution_count": 73,
     "metadata": {
      "tags": []
     },
     "output_type": "execute_result"
    }
   ],
   "source": [
    "type(var)"
   ]
  },
  {
   "cell_type": "code",
   "execution_count": null,
   "metadata": {
    "colab": {
     "base_uri": "https://localhost:8080/"
    },
    "id": "_KA6MUgmltmY",
    "outputId": "0fec47d3-7bd8-4886-f078-21b0623dd02f"
   },
   "outputs": [
    {
     "data": {
      "text/plain": [
       "3"
      ]
     },
     "execution_count": 74,
     "metadata": {
      "tags": []
     },
     "output_type": "execute_result"
    }
   ],
   "source": [
    "int(var)"
   ]
  },
  {
   "cell_type": "code",
   "execution_count": null,
   "metadata": {
    "id": "7uiCxqUcltma"
   },
   "outputs": [],
   "source": [
    "var = 3.99"
   ]
  },
  {
   "cell_type": "code",
   "execution_count": null,
   "metadata": {
    "colab": {
     "base_uri": "https://localhost:8080/"
    },
    "id": "h_nX1rF3WkPM",
    "outputId": "4ab6b1ea-dcde-4856-fc19-bb49e9a98d25"
   },
   "outputs": [
    {
     "data": {
      "text/plain": [
       "3"
      ]
     },
     "execution_count": 76,
     "metadata": {
      "tags": []
     },
     "output_type": "execute_result"
    }
   ],
   "source": [
    "int(var)"
   ]
  },
  {
   "cell_type": "markdown",
   "metadata": {
    "id": "gGpflJMYltmd"
   },
   "source": [
    "# 2.5 Indentação, comentários e formatação de *strings*"
   ]
  },
  {
   "cell_type": "markdown",
   "metadata": {
    "id": "XbijUgqVltmw"
   },
   "source": [
    "### Indentação\n",
    "\n",
    "Na linguagem Python os programas são estruturados por meio de indentação. Em qualquer linguagem de programação a prática da indentação é bastante útil, facilitando a leitura e também a manutenção do código. Em Python a indentação não é somente uma questão de organização e estilo, mas sim um requisito da linguagem."
   ]
  },
  {
   "cell_type": "code",
   "execution_count": null,
   "metadata": {
    "id": "DqXANnyultmw"
   },
   "outputs": [],
   "source": [
    "ano_atual = 2019\n",
    "ano_fabricacao = 2019\n",
    "\n",
    "if (ano_atual == ano_fabricacao):\n",
    "    print('Verdadeiro')\n",
    "else:\n",
    "    print('Falso')"
   ]
  },
  {
   "cell_type": "markdown",
   "metadata": {
    "id": "dNBfv7x7ltmy"
   },
   "source": [
    "### Comentários\n",
    "\n",
    "Comentários são extremamente importantes em um programa. Consiste em um texto que descreve o que o programa ou uma parte específica do programa está fazendo. Os comentários são ignorados pelo interpretador Python. \n",
    "\n",
    "Podemos ter comentários de uma única linha ou de múltiplas linhas."
   ]
  },
  {
   "cell_type": "code",
   "execution_count": null,
   "metadata": {
    "id": "GN3DfwiRltmy"
   },
   "outputs": [],
   "source": [
    "# Isto é um comentário\n",
    "ano_atual = 2019\n",
    "ano_atual"
   ]
  },
  {
   "cell_type": "code",
   "execution_count": null,
   "metadata": {
    "id": "PICBiohFltm2"
   },
   "outputs": [],
   "source": [
    "# Isto\n",
    "# é um \n",
    "# comentário\n",
    "ano_atual = 2019\n",
    "ano_atual"
   ]
  },
  {
   "cell_type": "code",
   "execution_count": null,
   "metadata": {
    "id": "PTkJ4Vjultm4"
   },
   "outputs": [],
   "source": [
    "'''Isto é um\n",
    "comentário'''\n",
    "ano_atual = 2019\n",
    "ano_atual"
   ]
  },
  {
   "cell_type": "code",
   "execution_count": null,
   "metadata": {
    "colab": {
     "base_uri": "https://localhost:8080/"
    },
    "id": "SYEGdALxltm5",
    "outputId": "eb8edf99-8340-4925-d9ab-1763dab4e88d"
   },
   "outputs": [
    {
     "name": "stdout",
     "output_type": "stream",
     "text": [
      "Verdadeiro\n"
     ]
    }
   ],
   "source": [
    "# Definindo variáveis\n",
    "ano_atual = 2019\n",
    "ano_fabricacao = 2019\n",
    "\n",
    "'''\n",
    "Estrutura condicional que vamos \n",
    "aprender na próxima aula\n",
    "'''\n",
    "if (ano_atual == ano_fabricacao):   # Testando se condição é verdadeira\n",
    "    print('Verdadeiro')\n",
    "else:                               # Testando se condição é falsa\n",
    "    print('Falso')"
   ]
  },
  {
   "cell_type": "markdown",
   "metadata": {
    "id": "8--bcJ01ltm8"
   },
   "source": [
    "### Formatação de *strings*"
   ]
  },
  {
   "cell_type": "markdown",
   "metadata": {
    "id": "8lSC0XEDltm-"
   },
   "source": [
    "## *str % valor*\n",
    "https://docs.python.org/3.6/library/stdtypes.html#old-string-formatting"
   ]
  },
  {
   "cell_type": "code",
   "execution_count": null,
   "metadata": {
    "id": "aqqBQJ8kltm_"
   },
   "outputs": [],
   "source": []
  },
  {
   "cell_type": "code",
   "execution_count": null,
   "metadata": {
    "id": "EFK1y92vltnA"
   },
   "outputs": [],
   "source": []
  },
  {
   "cell_type": "code",
   "execution_count": null,
   "metadata": {
    "id": "3Y-V_AVDltnD"
   },
   "outputs": [],
   "source": []
  },
  {
   "cell_type": "code",
   "execution_count": null,
   "metadata": {
    "id": "pr4wrDaSltnE"
   },
   "outputs": [],
   "source": []
  },
  {
   "cell_type": "code",
   "execution_count": null,
   "metadata": {
    "id": "iQVGzKNvltnF"
   },
   "outputs": [],
   "source": []
  },
  {
   "cell_type": "markdown",
   "metadata": {
    "id": "CMovhJZ_ltnG"
   },
   "source": [
    "## *str.format()*\n",
    "\n",
    "https://docs.python.org/3.6/library/stdtypes.html#str.format"
   ]
  },
  {
   "cell_type": "code",
   "execution_count": null,
   "metadata": {
    "colab": {
     "base_uri": "https://localhost:8080/"
    },
    "id": "N12xmMehltnG",
    "outputId": "615b5f42-4f40-43f1-80b9-e1a1c877ad28"
   },
   "outputs": [
    {
     "name": "stdout",
     "output_type": "stream",
     "text": [
      "Olá, João Eduardo!\n"
     ]
    }
   ],
   "source": [
    "print('Olá, {}!'.format('João Eduardo'))"
   ]
  },
  {
   "cell_type": "code",
   "execution_count": null,
   "metadata": {
    "colab": {
     "base_uri": "https://localhost:8080/"
    },
    "id": "mRBmU9G1ltnJ",
    "outputId": "b862f6e9-3d8d-4061-a0f0-10b60689fe47"
   },
   "outputs": [
    {
     "name": "stdout",
     "output_type": "stream",
     "text": [
      "Olá, João Eduardo! Este é seu acesso de número 32\n"
     ]
    }
   ],
   "source": [
    "print('Olá, {}! Este é seu acesso de número {}'.format('João Eduardo', 32))"
   ]
  },
  {
   "cell_type": "code",
   "execution_count": null,
   "metadata": {
    "colab": {
     "base_uri": "https://localhost:8080/"
    },
    "id": "wpqEsTwnltnL",
    "outputId": "85ebd3f1-b4a2-49d3-89ae-163d9d7f13f8"
   },
   "outputs": [
    {
     "name": "stdout",
     "output_type": "stream",
     "text": [
      "Olá, João Eduardo! Este é seu acesso de número 32\n"
     ]
    }
   ],
   "source": [
    "print('Olá, {nome}! Este é seu acesso de número {acesso}'.format(nome = 'João Eduardo', acesso = 32))"
   ]
  },
  {
   "cell_type": "markdown",
   "metadata": {
    "id": "V-wPNUN9ltnN"
   },
   "source": [
    "## *f-Strings*\n",
    "\n",
    "https://docs.python.org/3.6/reference/lexical_analysis.html#f-strings"
   ]
  },
  {
   "cell_type": "code",
   "execution_count": null,
   "metadata": {
    "id": "7Fq_WPv0ltnO"
   },
   "outputs": [],
   "source": [
    "nome = 'João Eduardo'\n",
    "acesso = 32"
   ]
  },
  {
   "cell_type": "code",
   "execution_count": null,
   "metadata": {
    "colab": {
     "base_uri": "https://localhost:8080/"
    },
    "id": "bE3qbd6WltnR",
    "outputId": "adf37d3e-d20c-4ba9-d28b-3eadf3628f15"
   },
   "outputs": [
    {
     "name": "stdout",
     "output_type": "stream",
     "text": [
      "Olá, João Eduardo! Este é seu acesso de número 32\n"
     ]
    }
   ],
   "source": [
    "print(f'Olá, {nome}! Este é seu acesso de número {acesso}')"
   ]
  },
  {
   "cell_type": "markdown",
   "metadata": {
    "id": "_IZuNE48ltnS"
   },
   "source": [
    "# <font color=green> 3. TRABALHANDO COM LISTAS\n",
    "---"
   ]
  },
  {
   "cell_type": "markdown",
   "metadata": {
    "id": "zhS89xysltnS"
   },
   "source": [
    "# 3.1 Criando listas\n",
    "\n",
    "Listas são sequências **mutáveis** que são utilizadas para armazenar coleções de itens, geralmente homogêneos. Podem ser construídas de várias formas:\n",
    "```\n",
    "- Utilizando um par de colchetes: [ ], [ 1 ]\n",
    "- Utilizando um par de colchetes com itens separados por vírgulas: [ 1, 2, 3 ]\n",
    "```"
   ]
  },
  {
   "cell_type": "code",
   "execution_count": null,
   "metadata": {
    "colab": {
     "base_uri": "https://localhost:8080/"
    },
    "id": "aE4UWF10ltnS",
    "outputId": "ae04c603-f89a-4afd-e062-44f8b1029786"
   },
   "outputs": [
    {
     "data": {
      "text/plain": [
       "['Rodas de liga',\n",
       " 'Travas elétricas',\n",
       " 'Piloto automático',\n",
       " 'Bancos de couro',\n",
       " 'Ar condicionado',\n",
       " 'Sensor de estacionamento',\n",
       " 'Sensor crepuscular',\n",
       " 'Sensor de chuva']"
      ]
     },
     "execution_count": 141,
     "metadata": {
      "tags": []
     },
     "output_type": "execute_result"
    }
   ],
   "source": [
    "Acessorios = ['Rodas de liga', 'Travas elétricas', 'Piloto automático', 'Bancos de couro', 'Ar condicionado', 'Sensor de estacionamento', 'Sensor crepuscular', 'Sensor de chuva']\n",
    "Acessorios"
   ]
  },
  {
   "cell_type": "markdown",
   "metadata": {
    "id": "Mmlkh5TVltnT"
   },
   "source": [
    "### Lista com tipos de dados variados"
   ]
  },
  {
   "cell_type": "code",
   "execution_count": null,
   "metadata": {
    "id": "Mfpu7NoJltnT"
   },
   "outputs": [],
   "source": [
    "Carro_1 = ['Jetta Variant', 'Motor 4.0 Turbo', 2003, 44410.0, False, ['Rodas de liga', 'Travas elétricas', 'Piloto automático'], 88078.64]\n",
    "Carro_2 = ['Passat', 'Motor Diesel', 1991, 5712.0, False, ['Central multimídia', 'Teto panorâmico', 'Freios ABS'], 106161.94]"
   ]
  },
  {
   "cell_type": "code",
   "execution_count": null,
   "metadata": {
    "colab": {
     "base_uri": "https://localhost:8080/"
    },
    "id": "EJSJFJjKltnV",
    "outputId": "e4990f12-2f15-48b0-95c3-2ed0186584e1"
   },
   "outputs": [
    {
     "data": {
      "text/plain": [
       "['Jetta Variant',\n",
       " 'Motor 4.0 Turbo',\n",
       " 2003,\n",
       " 44410.0,\n",
       " False,\n",
       " ['Rodas de liga', 'Travas elétricas', 'Piloto automático'],\n",
       " 88078.64]"
      ]
     },
     "execution_count": 86,
     "metadata": {
      "tags": []
     },
     "output_type": "execute_result"
    }
   ],
   "source": [
    "Carro_1"
   ]
  },
  {
   "cell_type": "code",
   "execution_count": null,
   "metadata": {
    "colab": {
     "base_uri": "https://localhost:8080/"
    },
    "id": "7MMG7L8VltnX",
    "outputId": "fce1f2da-d9ae-4e6d-a8b3-08d0e75ce1d3"
   },
   "outputs": [
    {
     "data": {
      "text/plain": [
       "[['Jetta Variant',\n",
       "  'Motor 4.0 Turbo',\n",
       "  2003,\n",
       "  44410.0,\n",
       "  False,\n",
       "  ['Rodas de liga', 'Travas elétricas', 'Piloto automático'],\n",
       "  88078.64],\n",
       " ['Passat',\n",
       "  'Motor Diesel',\n",
       "  1991,\n",
       "  5712.0,\n",
       "  False,\n",
       "  ['Central multimídia', 'Teto panorâmico', 'Freios ABS'],\n",
       "  106161.94]]"
      ]
     },
     "execution_count": 87,
     "metadata": {
      "tags": []
     },
     "output_type": "execute_result"
    }
   ],
   "source": [
    "Carros = [Carro_1, Carro_2]\n",
    "Carros"
   ]
  },
  {
   "cell_type": "markdown",
   "metadata": {
    "id": "5yMXJ0xdltna"
   },
   "source": [
    "# 3.2 Operações com listas\n",
    "\n",
    "https://docs.python.org/3.6/library/stdtypes.html#common-sequence-operations"
   ]
  },
  {
   "cell_type": "markdown",
   "metadata": {
    "id": "YSorJOGlltna"
   },
   "source": [
    "## *x in A*\n",
    "\n",
    "Retorna **True** se um elemento da lista *A* for igual a *x*."
   ]
  },
  {
   "cell_type": "code",
   "execution_count": null,
   "metadata": {
    "colab": {
     "base_uri": "https://localhost:8080/"
    },
    "id": "GgSP_nlHltnb",
    "outputId": "6e622a07-ccbf-447b-80bd-3a08450097f1"
   },
   "outputs": [
    {
     "data": {
      "text/plain": [
       "['Rodas de liga',\n",
       " 'Travas elétricas',\n",
       " 'Piloto automático',\n",
       " 'Bancos de couro',\n",
       " 'Ar condicionado',\n",
       " 'Sensor de estacionamento',\n",
       " 'Sensor crepuscular',\n",
       " 'Sensor de chuva']"
      ]
     },
     "execution_count": 89,
     "metadata": {
      "tags": []
     },
     "output_type": "execute_result"
    }
   ],
   "source": [
    "Acessorios"
   ]
  },
  {
   "cell_type": "code",
   "execution_count": null,
   "metadata": {
    "colab": {
     "base_uri": "https://localhost:8080/"
    },
    "id": "_JyyHPmWltnd",
    "outputId": "ff40cfd3-fedb-4024-ff70-af636bf2f990"
   },
   "outputs": [
    {
     "data": {
      "text/plain": [
       "True"
      ]
     },
     "execution_count": 90,
     "metadata": {
      "tags": []
     },
     "output_type": "execute_result"
    }
   ],
   "source": [
    "'Rodas de liga' in Acessorios"
   ]
  },
  {
   "cell_type": "code",
   "execution_count": null,
   "metadata": {
    "colab": {
     "base_uri": "https://localhost:8080/"
    },
    "id": "tebg9gAyltne",
    "outputId": "dadc26a3-61a6-4139-d678-81b7b35a8246"
   },
   "outputs": [
    {
     "data": {
      "text/plain": [
       "False"
      ]
     },
     "execution_count": 91,
     "metadata": {
      "tags": []
     },
     "output_type": "execute_result"
    }
   ],
   "source": [
    "'4 x 4' in Acessorios"
   ]
  },
  {
   "cell_type": "code",
   "execution_count": null,
   "metadata": {
    "colab": {
     "base_uri": "https://localhost:8080/"
    },
    "id": "W_1PKJYsltnf",
    "outputId": "19fa362d-d8e6-4e36-ffd7-5b10dc9b63b3"
   },
   "outputs": [
    {
     "data": {
      "text/plain": [
       "False"
      ]
     },
     "execution_count": 92,
     "metadata": {
      "tags": []
     },
     "output_type": "execute_result"
    }
   ],
   "source": [
    "'Rodas de liga' not in Acessorios"
   ]
  },
  {
   "cell_type": "code",
   "execution_count": null,
   "metadata": {
    "colab": {
     "base_uri": "https://localhost:8080/"
    },
    "id": "1WNsBXFyltng",
    "outputId": "ea017721-d339-47cc-a703-de4716b15916"
   },
   "outputs": [
    {
     "data": {
      "text/plain": [
       "True"
      ]
     },
     "execution_count": 93,
     "metadata": {
      "tags": []
     },
     "output_type": "execute_result"
    }
   ],
   "source": [
    "'4 x 4' not in Acessorios"
   ]
  },
  {
   "cell_type": "markdown",
   "metadata": {
    "id": "RF6_rf90ltnh"
   },
   "source": [
    "## *A + B*\n",
    "\n",
    "Concatena as listas *A* e *B*."
   ]
  },
  {
   "cell_type": "code",
   "execution_count": null,
   "metadata": {
    "id": "8lnzbYnRltnh"
   },
   "outputs": [],
   "source": [
    "A = ['Rodas de liga', 'Travas elétricas', 'Piloto automático', 'Bancos de couro']\n",
    "B = ['Ar condicionado', 'Sensor de estacionamento', 'Sensor crepuscular', 'Sensor de chuva']"
   ]
  },
  {
   "cell_type": "code",
   "execution_count": null,
   "metadata": {
    "colab": {
     "base_uri": "https://localhost:8080/"
    },
    "id": "SzbiHHF4ltni",
    "outputId": "b5e383cf-dacb-41f9-d27f-1d953da9a350"
   },
   "outputs": [
    {
     "data": {
      "text/plain": [
       "['Rodas de liga', 'Travas elétricas', 'Piloto automático', 'Bancos de couro']"
      ]
     },
     "execution_count": 96,
     "metadata": {
      "tags": []
     },
     "output_type": "execute_result"
    }
   ],
   "source": [
    "A"
   ]
  },
  {
   "cell_type": "code",
   "execution_count": null,
   "metadata": {
    "colab": {
     "base_uri": "https://localhost:8080/"
    },
    "id": "It5Cn5aXltni",
    "outputId": "d153ba3b-d3b9-4a9d-bfb5-87740c0ed411"
   },
   "outputs": [
    {
     "data": {
      "text/plain": [
       "['Ar condicionado',\n",
       " 'Sensor de estacionamento',\n",
       " 'Sensor crepuscular',\n",
       " 'Sensor de chuva']"
      ]
     },
     "execution_count": 97,
     "metadata": {
      "tags": []
     },
     "output_type": "execute_result"
    }
   ],
   "source": [
    "B"
   ]
  },
  {
   "cell_type": "code",
   "execution_count": null,
   "metadata": {
    "colab": {
     "base_uri": "https://localhost:8080/"
    },
    "id": "l7gF4Ph5ltnj",
    "outputId": "74f98e8d-4a96-4ab7-9edb-e954fbec591e"
   },
   "outputs": [
    {
     "data": {
      "text/plain": [
       "['Rodas de liga',\n",
       " 'Travas elétricas',\n",
       " 'Piloto automático',\n",
       " 'Bancos de couro',\n",
       " 'Ar condicionado',\n",
       " 'Sensor de estacionamento',\n",
       " 'Sensor crepuscular',\n",
       " 'Sensor de chuva']"
      ]
     },
     "execution_count": 98,
     "metadata": {
      "tags": []
     },
     "output_type": "execute_result"
    }
   ],
   "source": [
    "A + B"
   ]
  },
  {
   "cell_type": "markdown",
   "metadata": {
    "id": "iTv5t7zAltnk"
   },
   "source": [
    "## *len(A)*\n",
    "\n",
    "Tamanho da lista A."
   ]
  },
  {
   "cell_type": "code",
   "execution_count": null,
   "metadata": {
    "colab": {
     "base_uri": "https://localhost:8080/"
    },
    "id": "dtbuCDSOltnk",
    "outputId": "9468a144-9c35-4d22-d2e1-be3176a86c28"
   },
   "outputs": [
    {
     "data": {
      "text/plain": [
       "8"
      ]
     },
     "execution_count": 99,
     "metadata": {
      "tags": []
     },
     "output_type": "execute_result"
    }
   ],
   "source": [
    "len(Acessorios)"
   ]
  },
  {
   "cell_type": "markdown",
   "metadata": {
    "id": "k7wWCbAmltnl"
   },
   "source": [
    "# 3.3 Seleções em listas"
   ]
  },
  {
   "cell_type": "markdown",
   "metadata": {
    "id": "uF3NmgUaltnl"
   },
   "source": [
    "## *A[ i ]*\n",
    "\n",
    "Retorna o i-ésimo item da lista *A*.\n",
    "\n",
    "<font color=red>**Observação:**</font> Listas têm indexação com origem no zero."
   ]
  },
  {
   "cell_type": "code",
   "execution_count": null,
   "metadata": {
    "colab": {
     "base_uri": "https://localhost:8080/"
    },
    "id": "f5ct7w1Wltnm",
    "outputId": "2d8c1ffa-1744-402e-d478-f46b0173c2ff"
   },
   "outputs": [
    {
     "data": {
      "text/plain": [
       "['Rodas de liga',\n",
       " 'Travas elétricas',\n",
       " 'Piloto automático',\n",
       " 'Bancos de couro',\n",
       " 'Ar condicionado',\n",
       " 'Sensor de estacionamento',\n",
       " 'Sensor crepuscular',\n",
       " 'Sensor de chuva']"
      ]
     },
     "execution_count": 100,
     "metadata": {
      "tags": []
     },
     "output_type": "execute_result"
    }
   ],
   "source": [
    "Acessorios"
   ]
  },
  {
   "cell_type": "code",
   "execution_count": null,
   "metadata": {
    "colab": {
     "base_uri": "https://localhost:8080/",
     "height": 36
    },
    "id": "-BLG7yifltnn",
    "outputId": "5eb1ff99-c15f-4821-e855-b3ae73254214"
   },
   "outputs": [
    {
     "data": {
      "application/vnd.google.colaboratory.intrinsic+json": {
       "type": "string"
      },
      "text/plain": [
       "'Rodas de liga'"
      ]
     },
     "execution_count": 101,
     "metadata": {
      "tags": []
     },
     "output_type": "execute_result"
    }
   ],
   "source": [
    "Acessorios[0]"
   ]
  },
  {
   "cell_type": "code",
   "execution_count": null,
   "metadata": {
    "colab": {
     "base_uri": "https://localhost:8080/",
     "height": 36
    },
    "id": "SoL6PIjJltno",
    "outputId": "a382a01c-58a8-4d8c-b549-dc782d92b1bf"
   },
   "outputs": [
    {
     "data": {
      "application/vnd.google.colaboratory.intrinsic+json": {
       "type": "string"
      },
      "text/plain": [
       "'Travas elétricas'"
      ]
     },
     "execution_count": 102,
     "metadata": {
      "tags": []
     },
     "output_type": "execute_result"
    }
   ],
   "source": [
    "Acessorios[1]"
   ]
  },
  {
   "cell_type": "code",
   "execution_count": null,
   "metadata": {
    "colab": {
     "base_uri": "https://localhost:8080/",
     "height": 36
    },
    "id": "pGMDc5FLltnq",
    "outputId": "d595fbee-5244-4b25-d709-5dcb9949337f"
   },
   "outputs": [
    {
     "data": {
      "application/vnd.google.colaboratory.intrinsic+json": {
       "type": "string"
      },
      "text/plain": [
       "'Sensor de chuva'"
      ]
     },
     "execution_count": 103,
     "metadata": {
      "tags": []
     },
     "output_type": "execute_result"
    }
   ],
   "source": [
    "Acessorios[-1]"
   ]
  },
  {
   "cell_type": "code",
   "execution_count": null,
   "metadata": {
    "colab": {
     "base_uri": "https://localhost:8080/"
    },
    "id": "m3AaFe73ltnr",
    "outputId": "14e60408-45ff-4a6e-e6c9-2a22c4642fce"
   },
   "outputs": [
    {
     "data": {
      "text/plain": [
       "[['Jetta Variant',\n",
       "  'Motor 4.0 Turbo',\n",
       "  2003,\n",
       "  44410.0,\n",
       "  False,\n",
       "  ['Rodas de liga', 'Travas elétricas', 'Piloto automático'],\n",
       "  88078.64],\n",
       " ['Passat',\n",
       "  'Motor Diesel',\n",
       "  1991,\n",
       "  5712.0,\n",
       "  False,\n",
       "  ['Central multimídia', 'Teto panorâmico', 'Freios ABS'],\n",
       "  106161.94]]"
      ]
     },
     "execution_count": 104,
     "metadata": {
      "tags": []
     },
     "output_type": "execute_result"
    }
   ],
   "source": [
    "Carros"
   ]
  },
  {
   "cell_type": "code",
   "execution_count": null,
   "metadata": {
    "colab": {
     "base_uri": "https://localhost:8080/"
    },
    "id": "AeDJviqoltns",
    "outputId": "1aafcfec-55db-4020-e84a-4fc3e6c357a8"
   },
   "outputs": [
    {
     "data": {
      "text/plain": [
       "['Jetta Variant',\n",
       " 'Motor 4.0 Turbo',\n",
       " 2003,\n",
       " 44410.0,\n",
       " False,\n",
       " ['Rodas de liga', 'Travas elétricas', 'Piloto automático'],\n",
       " 88078.64]"
      ]
     },
     "execution_count": 105,
     "metadata": {
      "tags": []
     },
     "output_type": "execute_result"
    }
   ],
   "source": [
    "Carros[0]"
   ]
  },
  {
   "cell_type": "code",
   "execution_count": null,
   "metadata": {
    "colab": {
     "base_uri": "https://localhost:8080/",
     "height": 36
    },
    "id": "KdenG1BZltnt",
    "outputId": "56e64bc1-9af9-40dc-ae81-a46ea9b581ef"
   },
   "outputs": [
    {
     "data": {
      "application/vnd.google.colaboratory.intrinsic+json": {
       "type": "string"
      },
      "text/plain": [
       "'Jetta Variant'"
      ]
     },
     "execution_count": 106,
     "metadata": {
      "tags": []
     },
     "output_type": "execute_result"
    }
   ],
   "source": [
    "Carros[0][0]"
   ]
  },
  {
   "cell_type": "code",
   "execution_count": null,
   "metadata": {
    "colab": {
     "base_uri": "https://localhost:8080/"
    },
    "id": "iOjsfrlFltnu",
    "outputId": "f6c819a9-7ca3-4cde-eb71-5fc96e61b434"
   },
   "outputs": [
    {
     "data": {
      "text/plain": [
       "['Rodas de liga', 'Travas elétricas', 'Piloto automático']"
      ]
     },
     "execution_count": 107,
     "metadata": {
      "tags": []
     },
     "output_type": "execute_result"
    }
   ],
   "source": [
    "Carros[0][-2]"
   ]
  },
  {
   "cell_type": "code",
   "execution_count": null,
   "metadata": {
    "colab": {
     "base_uri": "https://localhost:8080/",
     "height": 36
    },
    "id": "6BrON70Zltnu",
    "outputId": "604c70c3-2eb8-4fb4-ef64-e448f2a5621a"
   },
   "outputs": [
    {
     "data": {
      "application/vnd.google.colaboratory.intrinsic+json": {
       "type": "string"
      },
      "text/plain": [
       "'Travas elétricas'"
      ]
     },
     "execution_count": 108,
     "metadata": {
      "tags": []
     },
     "output_type": "execute_result"
    }
   ],
   "source": [
    " Carros[0][-2][1]"
   ]
  },
  {
   "cell_type": "markdown",
   "metadata": {
    "id": "9WgwxPIMltnv"
   },
   "source": [
    "## *A[ i : j ]*\n",
    "\n",
    "Recorta a lista *A* do índice i até o j. Neste fatiamento o elemento com índice i é **incluído** e o elemento com índice j **não é incluído** no resultado."
   ]
  },
  {
   "cell_type": "code",
   "execution_count": null,
   "metadata": {
    "colab": {
     "base_uri": "https://localhost:8080/"
    },
    "id": "bJzL2PMiltnv",
    "outputId": "912a594c-5e05-41e5-8414-f74029ce6d79"
   },
   "outputs": [
    {
     "data": {
      "text/plain": [
       "['Rodas de liga',\n",
       " 'Travas elétricas',\n",
       " 'Piloto automático',\n",
       " 'Bancos de couro',\n",
       " 'Ar condicionado',\n",
       " 'Sensor de estacionamento',\n",
       " 'Sensor crepuscular',\n",
       " 'Sensor de chuva']"
      ]
     },
     "execution_count": 109,
     "metadata": {
      "tags": []
     },
     "output_type": "execute_result"
    }
   ],
   "source": [
    "Acessorios"
   ]
  },
  {
   "cell_type": "code",
   "execution_count": null,
   "metadata": {
    "colab": {
     "base_uri": "https://localhost:8080/"
    },
    "id": "sFAlJ4u_ltnw",
    "outputId": "0ddc4522-418f-4e33-a025-50f8c05114ca"
   },
   "outputs": [
    {
     "data": {
      "text/plain": [
       "['Piloto automático', 'Bancos de couro', 'Ar condicionado']"
      ]
     },
     "execution_count": 111,
     "metadata": {
      "tags": []
     },
     "output_type": "execute_result"
    }
   ],
   "source": [
    "Acessorios[2:5]"
   ]
  },
  {
   "cell_type": "code",
   "execution_count": null,
   "metadata": {
    "colab": {
     "base_uri": "https://localhost:8080/"
    },
    "id": "dFdTBWa9ltnz",
    "outputId": "dc9c312f-15c2-4b9f-c792-d625efed7218"
   },
   "outputs": [
    {
     "data": {
      "text/plain": [
       "['Piloto automático',\n",
       " 'Bancos de couro',\n",
       " 'Ar condicionado',\n",
       " 'Sensor de estacionamento',\n",
       " 'Sensor crepuscular',\n",
       " 'Sensor de chuva']"
      ]
     },
     "execution_count": 112,
     "metadata": {
      "tags": []
     },
     "output_type": "execute_result"
    }
   ],
   "source": [
    "Acessorios[2:]"
   ]
  },
  {
   "cell_type": "code",
   "execution_count": null,
   "metadata": {
    "colab": {
     "base_uri": "https://localhost:8080/"
    },
    "id": "yxxB2-_Dltn0",
    "outputId": "b60d78f9-3864-4ebd-e126-4d81b9cf440c"
   },
   "outputs": [
    {
     "data": {
      "text/plain": [
       "['Rodas de liga',\n",
       " 'Travas elétricas',\n",
       " 'Piloto automático',\n",
       " 'Bancos de couro',\n",
       " 'Ar condicionado']"
      ]
     },
     "execution_count": 113,
     "metadata": {
      "tags": []
     },
     "output_type": "execute_result"
    }
   ],
   "source": [
    "Acessorios[:5]"
   ]
  },
  {
   "cell_type": "markdown",
   "metadata": {
    "id": "R-S-LCPGltn0"
   },
   "source": [
    "# 3.4 Métodos de listas\n",
    "\n",
    "https://docs.python.org/3.6/library/stdtypes.html#mutable-sequence-types"
   ]
  },
  {
   "cell_type": "markdown",
   "metadata": {
    "id": "j9s2OyyPltn1"
   },
   "source": [
    "## *A.sort()*\n",
    "\n",
    "Ordena a lista *A*."
   ]
  },
  {
   "cell_type": "code",
   "execution_count": null,
   "metadata": {
    "colab": {
     "base_uri": "https://localhost:8080/"
    },
    "id": "A2dJGhFsltn1",
    "outputId": "ebe86640-1953-48f4-d4fd-4f1387c5c17a"
   },
   "outputs": [
    {
     "data": {
      "text/plain": [
       "['Rodas de liga',\n",
       " 'Travas elétricas',\n",
       " 'Piloto automático',\n",
       " 'Bancos de couro',\n",
       " 'Ar condicionado',\n",
       " 'Sensor de estacionamento',\n",
       " 'Sensor crepuscular',\n",
       " 'Sensor de chuva']"
      ]
     },
     "execution_count": 114,
     "metadata": {
      "tags": []
     },
     "output_type": "execute_result"
    }
   ],
   "source": [
    "Acessorios"
   ]
  },
  {
   "cell_type": "code",
   "execution_count": null,
   "metadata": {
    "colab": {
     "base_uri": "https://localhost:8080/"
    },
    "id": "VDWCHlTcltn2",
    "outputId": "864d01f3-9196-4976-a440-cab810115498"
   },
   "outputs": [
    {
     "data": {
      "text/plain": [
       "['Ar condicionado',\n",
       " 'Bancos de couro',\n",
       " 'Piloto automático',\n",
       " 'Rodas de liga',\n",
       " 'Sensor crepuscular',\n",
       " 'Sensor de chuva',\n",
       " 'Sensor de estacionamento',\n",
       " 'Travas elétricas']"
      ]
     },
     "execution_count": 117,
     "metadata": {
      "tags": []
     },
     "output_type": "execute_result"
    }
   ],
   "source": [
    "Acessorios.sort()\n",
    "Acessorios"
   ]
  },
  {
   "cell_type": "markdown",
   "metadata": {
    "id": "N9Spp7-xltn3"
   },
   "source": [
    "## *A.append(x)*\n",
    "\n",
    "Adiciona o elemnto *x* no final da lista *A*."
   ]
  },
  {
   "cell_type": "code",
   "execution_count": null,
   "metadata": {
    "colab": {
     "base_uri": "https://localhost:8080/"
    },
    "id": "l7I_U-sRltn4",
    "outputId": "879f42c9-4cd8-43ca-fdbb-4c26bbd1010f"
   },
   "outputs": [
    {
     "data": {
      "text/plain": [
       "['Ar condicionado',\n",
       " 'Bancos de couro',\n",
       " 'Piloto automático',\n",
       " 'Sensor crepuscular',\n",
       " 'Sensor de chuva',\n",
       " 'Sensor de estacionamento',\n",
       " 'Travas elétricas',\n",
       " '4 x 4']"
      ]
     },
     "execution_count": 124,
     "metadata": {
      "tags": []
     },
     "output_type": "execute_result"
    }
   ],
   "source": [
    "Acessorios.append('4 x 4')\n",
    "Acessorios"
   ]
  },
  {
   "cell_type": "markdown",
   "metadata": {
    "id": "eiP3oACPltn6"
   },
   "source": [
    "## *A.pop(i)*\n",
    "\n",
    "Remove e retorna o elemento de índice i da lista *A*.\n",
    "\n",
    "<font color=red>**Observação:**</font> Por *default* o método *pop()* remove e retorna o último elemento de uma lista."
   ]
  },
  {
   "cell_type": "code",
   "execution_count": null,
   "metadata": {
    "colab": {
     "base_uri": "https://localhost:8080/",
     "height": 36
    },
    "id": "BoCKa5Hqltn6",
    "outputId": "7c8360e9-c53b-4445-9469-b21d4bd7a7c2"
   },
   "outputs": [
    {
     "data": {
      "application/vnd.google.colaboratory.intrinsic+json": {
       "type": "string"
      },
      "text/plain": [
       "'4 x 4'"
      ]
     },
     "execution_count": 125,
     "metadata": {
      "tags": []
     },
     "output_type": "execute_result"
    }
   ],
   "source": [
    "Acessorios.pop()"
   ]
  },
  {
   "cell_type": "code",
   "execution_count": null,
   "metadata": {
    "colab": {
     "base_uri": "https://localhost:8080/",
     "height": 36
    },
    "id": "GfGX1jw-ltn9",
    "outputId": "12d86f94-2a06-4f85-9431-5da157d9707a"
   },
   "outputs": [
    {
     "data": {
      "application/vnd.google.colaboratory.intrinsic+json": {
       "type": "string"
      },
      "text/plain": [
       "'Sensor crepuscular'"
      ]
     },
     "execution_count": 126,
     "metadata": {
      "tags": []
     },
     "output_type": "execute_result"
    }
   ],
   "source": [
    "Acessorios.pop(3)"
   ]
  },
  {
   "cell_type": "code",
   "execution_count": null,
   "metadata": {
    "colab": {
     "base_uri": "https://localhost:8080/"
    },
    "id": "tppe9tqbltn-",
    "outputId": "d37237a4-2137-43b7-a98c-10449c7d525a"
   },
   "outputs": [
    {
     "data": {
      "text/plain": [
       "['Ar condicionado',\n",
       " 'Bancos de couro',\n",
       " 'Piloto automático',\n",
       " 'Sensor de chuva',\n",
       " 'Sensor de estacionamento',\n",
       " 'Travas elétricas']"
      ]
     },
     "execution_count": 127,
     "metadata": {
      "tags": []
     },
     "output_type": "execute_result"
    }
   ],
   "source": [
    "Acessorios"
   ]
  },
  {
   "cell_type": "code",
   "execution_count": null,
   "metadata": {
    "id": "Ku6ZHTdJltn_"
   },
   "outputs": [],
   "source": []
  },
  {
   "cell_type": "markdown",
   "metadata": {
    "id": "NySIp62hltoC"
   },
   "source": [
    "## *A.copy()*\n",
    "\n",
    "Cria uma cópia da lista *A*.\n",
    "\n",
    "<font color=red>**Observação:**</font> O mesmo resultado pode ser obtido com o seguinte código: \n",
    "```\n",
    "A[:]\n",
    "```"
   ]
  },
  {
   "cell_type": "code",
   "execution_count": null,
   "metadata": {
    "id": "yP9ODygcltoC"
   },
   "outputs": [],
   "source": [
    "Acessorios_2 = Acessorios"
   ]
  },
  {
   "cell_type": "code",
   "execution_count": null,
   "metadata": {
    "colab": {
     "base_uri": "https://localhost:8080/"
    },
    "id": "W3eQdVWkltoF",
    "outputId": "d545a9c3-c62d-4885-d391-ecdfc9a310f2"
   },
   "outputs": [
    {
     "data": {
      "text/plain": [
       "['Ar condicionado',\n",
       " 'Bancos de couro',\n",
       " 'Piloto automático',\n",
       " 'Sensor de chuva',\n",
       " 'Sensor de estacionamento',\n",
       " 'Travas elétricas',\n",
       " '4 x 4',\n",
       " '4 x 4',\n",
       " '4 x 4']"
      ]
     },
     "execution_count": 131,
     "metadata": {
      "tags": []
     },
     "output_type": "execute_result"
    }
   ],
   "source": [
    "Acessorios_2.append('4 x 4')\n",
    "Acessorios_2"
   ]
  },
  {
   "cell_type": "code",
   "execution_count": null,
   "metadata": {
    "colab": {
     "base_uri": "https://localhost:8080/"
    },
    "id": "OVbvjjmdltoG",
    "outputId": "01091dfe-c62c-4914-9ad2-95b5123932cf"
   },
   "outputs": [
    {
     "data": {
      "text/plain": [
       "['Ar condicionado',\n",
       " 'Bancos de couro',\n",
       " 'Piloto automático',\n",
       " 'Sensor de chuva',\n",
       " 'Sensor de estacionamento',\n",
       " 'Travas elétricas',\n",
       " '4 x 4',\n",
       " '4 x 4',\n",
       " '4 x 4']"
      ]
     },
     "execution_count": 132,
     "metadata": {
      "tags": []
     },
     "output_type": "execute_result"
    }
   ],
   "source": [
    "Acessorios"
   ]
  },
  {
   "cell_type": "code",
   "execution_count": null,
   "metadata": {
    "colab": {
     "base_uri": "https://localhost:8080/",
     "height": 36
    },
    "id": "P-MN1JfAltoH",
    "outputId": "e20c2182-fd91-418e-cab4-8f8cee58afcd"
   },
   "outputs": [
    {
     "data": {
      "application/vnd.google.colaboratory.intrinsic+json": {
       "type": "string"
      },
      "text/plain": [
       "'4 x 4'"
      ]
     },
     "execution_count": 135,
     "metadata": {
      "tags": []
     },
     "output_type": "execute_result"
    }
   ],
   "source": [
    "Acessorios.pop()"
   ]
  },
  {
   "cell_type": "code",
   "execution_count": null,
   "metadata": {
    "id": "ZVQ38eqVltoJ"
   },
   "outputs": [],
   "source": [
    "Acessorios_2 =  Acessorios.copy()"
   ]
  },
  {
   "cell_type": "code",
   "execution_count": null,
   "metadata": {
    "colab": {
     "base_uri": "https://localhost:8080/"
    },
    "id": "bqPiw5wSltoM",
    "outputId": "046122e4-8418-4a9e-cf40-507545fdd3eb"
   },
   "outputs": [
    {
     "data": {
      "text/plain": [
       "['Ar condicionado',\n",
       " 'Bancos de couro',\n",
       " 'Piloto automático',\n",
       " 'Sensor de chuva',\n",
       " 'Sensor de estacionamento',\n",
       " 'Travas elétricas',\n",
       " '4 x 4']"
      ]
     },
     "execution_count": 137,
     "metadata": {
      "tags": []
     },
     "output_type": "execute_result"
    }
   ],
   "source": [
    "Acessorios_2.append('4 x 4')\n",
    "Acessorios_2"
   ]
  },
  {
   "cell_type": "code",
   "execution_count": null,
   "metadata": {
    "colab": {
     "base_uri": "https://localhost:8080/"
    },
    "id": "Lo9WgzF6ltoP",
    "outputId": "8c7f1114-bf20-4e31-9ae9-1fb5ee543544"
   },
   "outputs": [
    {
     "data": {
      "text/plain": [
       "['Ar condicionado',\n",
       " 'Bancos de couro',\n",
       " 'Piloto automático',\n",
       " 'Sensor de chuva',\n",
       " 'Sensor de estacionamento',\n",
       " 'Travas elétricas']"
      ]
     },
     "execution_count": 138,
     "metadata": {
      "tags": []
     },
     "output_type": "execute_result"
    }
   ],
   "source": [
    "Acessorios"
   ]
  },
  {
   "cell_type": "code",
   "execution_count": null,
   "metadata": {
    "id": "r2LPHB34ltoQ"
   },
   "outputs": [],
   "source": [
    "Acessorios_2 =  Acessorios[:]"
   ]
  },
  {
   "cell_type": "code",
   "execution_count": null,
   "metadata": {
    "colab": {
     "base_uri": "https://localhost:8080/"
    },
    "id": "UQqUkO8YltoR",
    "outputId": "f25c3c72-437c-4f95-bcd0-d95a9c7cec73"
   },
   "outputs": [
    {
     "data": {
      "text/plain": [
       "['Ar condicionado',\n",
       " 'Bancos de couro',\n",
       " 'Piloto automático',\n",
       " 'Sensor de chuva',\n",
       " 'Sensor de estacionamento',\n",
       " 'Travas elétricas']"
      ]
     },
     "execution_count": 140,
     "metadata": {
      "tags": []
     },
     "output_type": "execute_result"
    }
   ],
   "source": [
    "Acessorios_2"
   ]
  },
  {
   "cell_type": "markdown",
   "metadata": {
    "id": "8zMZNsg2ltoU"
   },
   "source": [
    "# <font color=green> 4. ESTRUTURAS DE REPETIÇÃO E CONDICIONAIS\n",
    "---"
   ]
  },
  {
   "cell_type": "markdown",
   "metadata": {
    "id": "gxUmCLyJltoU"
   },
   "source": [
    "# 4.1 Instrução *for*\n",
    "\n",
    "#### Formato padrão\n",
    "\n",
    "```\n",
    "for <variável> in <coleção>:\n",
    "    <instruções>\n",
    "```"
   ]
  },
  {
   "cell_type": "markdown",
   "metadata": {
    "id": "Irl5oa0altoU"
   },
   "source": [
    "### Loops com listas"
   ]
  },
  {
   "cell_type": "code",
   "execution_count": null,
   "metadata": {
    "colab": {
     "base_uri": "https://localhost:8080/"
    },
    "id": "E1LZ5n25ltoV",
    "outputId": "70d8b8ad-e325-4850-eef2-d5bd4b67c8e6"
   },
   "outputs": [
    {
     "data": {
      "text/plain": [
       "['Rodas de liga',\n",
       " 'Travas elétricas',\n",
       " 'Piloto automático',\n",
       " 'Bancos de couro',\n",
       " 'Ar condicionado',\n",
       " 'Sensor de estacionamento',\n",
       " 'Sensor crepuscular',\n",
       " 'Sensor de chuva']"
      ]
     },
     "execution_count": 142,
     "metadata": {
      "tags": []
     },
     "output_type": "execute_result"
    }
   ],
   "source": [
    "Acessorios"
   ]
  },
  {
   "cell_type": "code",
   "execution_count": null,
   "metadata": {
    "colab": {
     "base_uri": "https://localhost:8080/"
    },
    "id": "Z459QqsFltoY",
    "outputId": "ac4d277b-b611-4f17-9823-974792a6dcc7"
   },
   "outputs": [
    {
     "name": "stdout",
     "output_type": "stream",
     "text": [
      "Rodas de liga\n",
      "Travas elétricas\n",
      "Piloto automático\n",
      "Bancos de couro\n",
      "Ar condicionado\n",
      "Sensor de estacionamento\n",
      "Sensor crepuscular\n",
      "Sensor de chuva\n"
     ]
    }
   ],
   "source": [
    "for item in Acessorios:\n",
    "  print(item)"
   ]
  },
  {
   "cell_type": "markdown",
   "metadata": {
    "id": "Gbztj9T4ltoZ"
   },
   "source": [
    "###  List comprehensions\n",
    "\n",
    "https://docs.python.org/3.6/tutorial/datastructures.html#list-comprehensions"
   ]
  },
  {
   "cell_type": "markdown",
   "metadata": {
    "id": "4Y8g0cSHjbof"
   },
   "source": [
    "*range()* -> https://docs.python.org/3.6/library/functions.html#func-range"
   ]
  },
  {
   "cell_type": "code",
   "execution_count": null,
   "metadata": {
    "colab": {
     "base_uri": "https://localhost:8080/"
    },
    "id": "xDo9TLdYltoZ",
    "outputId": "b734f269-aafc-4e49-af24-0e9cf292916a"
   },
   "outputs": [
    {
     "data": {
      "text/plain": [
       "range(0, 10)"
      ]
     },
     "execution_count": 144,
     "metadata": {
      "tags": []
     },
     "output_type": "execute_result"
    }
   ],
   "source": [
    "range(10)"
   ]
  },
  {
   "cell_type": "code",
   "execution_count": null,
   "metadata": {
    "colab": {
     "base_uri": "https://localhost:8080/"
    },
    "id": "V12p_CQBltoc",
    "outputId": "54bd63f4-4dbb-48c8-fc5b-ff29bb0f8f70"
   },
   "outputs": [
    {
     "data": {
      "text/plain": [
       "[0, 1, 2, 3, 4, 5, 6, 7, 8, 9]"
      ]
     },
     "execution_count": 145,
     "metadata": {
      "tags": []
     },
     "output_type": "execute_result"
    }
   ],
   "source": [
    "list(range(10))"
   ]
  },
  {
   "cell_type": "code",
   "execution_count": null,
   "metadata": {
    "colab": {
     "base_uri": "https://localhost:8080/"
    },
    "id": "OOzHHRWHltof",
    "outputId": "7e3df0c9-f50a-46ac-c700-533f5ab05263"
   },
   "outputs": [
    {
     "name": "stdout",
     "output_type": "stream",
     "text": [
      "0\n",
      "1\n",
      "4\n",
      "9\n",
      "16\n",
      "25\n",
      "36\n",
      "49\n",
      "64\n",
      "81\n"
     ]
    }
   ],
   "source": [
    "for i in range(10):\n",
    "  print(i ** 2)"
   ]
  },
  {
   "cell_type": "code",
   "execution_count": null,
   "metadata": {
    "colab": {
     "base_uri": "https://localhost:8080/"
    },
    "id": "TKynwnxgltog",
    "outputId": "cdae77ff-dae5-414b-b2ed-563c2189dc08"
   },
   "outputs": [
    {
     "data": {
      "text/plain": [
       "[0, 1, 4, 9, 16, 25, 36, 49, 64, 81]"
      ]
     },
     "execution_count": 147,
     "metadata": {
      "tags": []
     },
     "output_type": "execute_result"
    }
   ],
   "source": [
    "quadrado  = []\n",
    "for i in range(10):\n",
    "  quadrado.append(i ** 2)\n",
    "\n",
    "quadrado"
   ]
  },
  {
   "cell_type": "code",
   "execution_count": null,
   "metadata": {
    "colab": {
     "base_uri": "https://localhost:8080/"
    },
    "id": "d77YH_dVltoh",
    "outputId": "f0784736-99f3-4dba-c336-d9657ffe2e9c"
   },
   "outputs": [
    {
     "data": {
      "text/plain": [
       "[0, 1, 4, 9, 16, 25, 36, 49, 64, 81]"
      ]
     },
     "execution_count": 148,
     "metadata": {
      "tags": []
     },
     "output_type": "execute_result"
    }
   ],
   "source": [
    "[i ** 2 for i in range(10)]"
   ]
  },
  {
   "cell_type": "markdown",
   "metadata": {
    "id": "AcAcaKFXltom"
   },
   "source": [
    "# 4.2 Loops aninhados"
   ]
  },
  {
   "cell_type": "code",
   "execution_count": null,
   "metadata": {
    "colab": {
     "base_uri": "https://localhost:8080/"
    },
    "id": "mjgJCo3dlton",
    "outputId": "8c4157dc-ca2c-470c-920a-938acbac0405"
   },
   "outputs": [
    {
     "data": {
      "text/plain": [
       "[['Rodas de liga',\n",
       "  'Travas elétricas',\n",
       "  'Piloto automático',\n",
       "  'Bancos de couro',\n",
       "  'Ar condicionado',\n",
       "  'Sensor de estacionamento',\n",
       "  'Sensor crepuscular',\n",
       "  'Sensor de chuva'],\n",
       " ['Central multimídia',\n",
       "  'Teto panorâmico',\n",
       "  'Freios ABS',\n",
       "  '4 X 4',\n",
       "  'Painel digital',\n",
       "  'Piloto automático',\n",
       "  'Bancos de couro',\n",
       "  'Câmera de estacionamento'],\n",
       " ['Piloto automático',\n",
       "  'Controle de estabilidade',\n",
       "  'Sensor crepuscular',\n",
       "  'Freios ABS',\n",
       "  'Câmbio automático',\n",
       "  'Bancos de couro',\n",
       "  'Central multimídia',\n",
       "  'Vidros elétricos']]"
      ]
     },
     "execution_count": 149,
     "metadata": {
      "tags": []
     },
     "output_type": "execute_result"
    }
   ],
   "source": [
    "dados = [ \n",
    "    ['Rodas de liga', 'Travas elétricas', 'Piloto automático', 'Bancos de couro', 'Ar condicionado', 'Sensor de estacionamento', 'Sensor crepuscular', 'Sensor de chuva'],\n",
    "    ['Central multimídia', 'Teto panorâmico', 'Freios ABS', '4 X 4', 'Painel digital', 'Piloto automático', 'Bancos de couro', 'Câmera de estacionamento'],\n",
    "    ['Piloto automático', 'Controle de estabilidade', 'Sensor crepuscular', 'Freios ABS', 'Câmbio automático', 'Bancos de couro', 'Central multimídia', 'Vidros elétricos']\n",
    "]\n",
    "dados"
   ]
  },
  {
   "cell_type": "code",
   "execution_count": null,
   "metadata": {
    "colab": {
     "base_uri": "https://localhost:8080/"
    },
    "id": "pLgxwApVltop",
    "outputId": "c2f26b40-6c7a-4f0c-d274-dfa1a6958564"
   },
   "outputs": [
    {
     "name": "stdout",
     "output_type": "stream",
     "text": [
      "['Rodas de liga', 'Travas elétricas', 'Piloto automático', 'Bancos de couro', 'Ar condicionado', 'Sensor de estacionamento', 'Sensor crepuscular', 'Sensor de chuva']\n",
      "['Central multimídia', 'Teto panorâmico', 'Freios ABS', '4 X 4', 'Painel digital', 'Piloto automático', 'Bancos de couro', 'Câmera de estacionamento']\n",
      "['Piloto automático', 'Controle de estabilidade', 'Sensor crepuscular', 'Freios ABS', 'Câmbio automático', 'Bancos de couro', 'Central multimídia', 'Vidros elétricos']\n"
     ]
    }
   ],
   "source": [
    "for lista in dados:\n",
    "  print(lista)"
   ]
  },
  {
   "cell_type": "code",
   "execution_count": null,
   "metadata": {
    "colab": {
     "base_uri": "https://localhost:8080/"
    },
    "id": "OYnDRvcYltor",
    "outputId": "69201897-68f8-4aab-d618-7451de177cd4"
   },
   "outputs": [
    {
     "name": "stdout",
     "output_type": "stream",
     "text": [
      "Rodas de liga\n",
      "Travas elétricas\n",
      "Piloto automático\n",
      "Bancos de couro\n",
      "Ar condicionado\n",
      "Sensor de estacionamento\n",
      "Sensor crepuscular\n",
      "Sensor de chuva\n",
      "Central multimídia\n",
      "Teto panorâmico\n",
      "Freios ABS\n",
      "4 X 4\n",
      "Painel digital\n",
      "Piloto automático\n",
      "Bancos de couro\n",
      "Câmera de estacionamento\n",
      "Piloto automático\n",
      "Controle de estabilidade\n",
      "Sensor crepuscular\n",
      "Freios ABS\n",
      "Câmbio automático\n",
      "Bancos de couro\n",
      "Central multimídia\n",
      "Vidros elétricos\n"
     ]
    }
   ],
   "source": [
    "for lista in dados:\n",
    "  for item in lista:\n",
    "    print(item)"
   ]
  },
  {
   "cell_type": "code",
   "execution_count": null,
   "metadata": {
    "colab": {
     "base_uri": "https://localhost:8080/"
    },
    "id": "DbJa5_cJltos",
    "outputId": "cda71206-598d-4e7a-992d-c3b5ca9d7f0d"
   },
   "outputs": [
    {
     "data": {
      "text/plain": [
       "['Rodas de liga',\n",
       " 'Travas elétricas',\n",
       " 'Piloto automático',\n",
       " 'Bancos de couro',\n",
       " 'Ar condicionado',\n",
       " 'Sensor de estacionamento',\n",
       " 'Sensor crepuscular',\n",
       " 'Sensor de chuva',\n",
       " 'Central multimídia',\n",
       " 'Teto panorâmico',\n",
       " 'Freios ABS',\n",
       " '4 X 4',\n",
       " 'Painel digital',\n",
       " 'Piloto automático',\n",
       " 'Bancos de couro',\n",
       " 'Câmera de estacionamento',\n",
       " 'Piloto automático',\n",
       " 'Controle de estabilidade',\n",
       " 'Sensor crepuscular',\n",
       " 'Freios ABS',\n",
       " 'Câmbio automático',\n",
       " 'Bancos de couro',\n",
       " 'Central multimídia',\n",
       " 'Vidros elétricos']"
      ]
     },
     "execution_count": 152,
     "metadata": {
      "tags": []
     },
     "output_type": "execute_result"
    }
   ],
   "source": [
    "Acessorios = []\n",
    "\n",
    "for lista in dados:\n",
    "  for item in lista:\n",
    "    Acessorios.append(item)\n",
    "\n",
    "Acessorios"
   ]
  },
  {
   "cell_type": "markdown",
   "metadata": {
    "id": "RrGAOy1rn1Dj"
   },
   "source": [
    "## *set()*\n",
    "\n",
    "https://docs.python.org/3.6/library/stdtypes.html#types-set\n",
    "\n",
    "https://docs.python.org/3.6/library/functions.html#func-set"
   ]
  },
  {
   "cell_type": "code",
   "execution_count": null,
   "metadata": {
    "colab": {
     "base_uri": "https://localhost:8080/"
    },
    "id": "CuB-9ClSltos",
    "outputId": "64cccd16-fac8-48c4-9571-4c83a2564aab"
   },
   "outputs": [
    {
     "data": {
      "text/plain": [
       "{'4 X 4',\n",
       " 'Ar condicionado',\n",
       " 'Bancos de couro',\n",
       " 'Central multimídia',\n",
       " 'Controle de estabilidade',\n",
       " 'Câmbio automático',\n",
       " 'Câmera de estacionamento',\n",
       " 'Freios ABS',\n",
       " 'Painel digital',\n",
       " 'Piloto automático',\n",
       " 'Rodas de liga',\n",
       " 'Sensor crepuscular',\n",
       " 'Sensor de chuva',\n",
       " 'Sensor de estacionamento',\n",
       " 'Teto panorâmico',\n",
       " 'Travas elétricas',\n",
       " 'Vidros elétricos'}"
      ]
     },
     "execution_count": 153,
     "metadata": {
      "tags": []
     },
     "output_type": "execute_result"
    }
   ],
   "source": [
    "set((Acessorios))"
   ]
  },
  {
   "cell_type": "markdown",
   "metadata": {
    "id": "9hHKKABhltot"
   },
   "source": [
    "### List comprehensions"
   ]
  },
  {
   "cell_type": "code",
   "execution_count": null,
   "metadata": {
    "colab": {
     "base_uri": "https://localhost:8080/"
    },
    "id": "T6t79LTlltot",
    "outputId": "9cf01e6f-cb3a-4ff6-a211-bd7c3591c29b"
   },
   "outputs": [
    {
     "data": {
      "text/plain": [
       "['Rodas de liga',\n",
       " 'Travas elétricas',\n",
       " 'Piloto automático',\n",
       " 'Bancos de couro',\n",
       " 'Ar condicionado',\n",
       " 'Sensor de estacionamento',\n",
       " 'Sensor crepuscular',\n",
       " 'Sensor de chuva',\n",
       " 'Central multimídia',\n",
       " 'Teto panorâmico',\n",
       " 'Freios ABS',\n",
       " '4 X 4',\n",
       " 'Painel digital',\n",
       " 'Piloto automático',\n",
       " 'Bancos de couro',\n",
       " 'Câmera de estacionamento',\n",
       " 'Piloto automático',\n",
       " 'Controle de estabilidade',\n",
       " 'Sensor crepuscular',\n",
       " 'Freios ABS',\n",
       " 'Câmbio automático',\n",
       " 'Bancos de couro',\n",
       " 'Central multimídia',\n",
       " 'Vidros elétricos']"
      ]
     },
     "execution_count": 154,
     "metadata": {
      "tags": []
     },
     "output_type": "execute_result"
    }
   ],
   "source": [
    "[item for lista in dados for item in lista]"
   ]
  },
  {
   "cell_type": "code",
   "execution_count": null,
   "metadata": {
    "colab": {
     "base_uri": "https://localhost:8080/"
    },
    "id": "6eLf_UkHsOV4",
    "outputId": "164ab391-fca3-4ec4-d4ea-e7790adb82fa"
   },
   "outputs": [
    {
     "data": {
      "text/plain": [
       "['Piloto automático',\n",
       " 'Ar condicionado',\n",
       " 'Teto panorâmico',\n",
       " 'Freios ABS',\n",
       " 'Controle de estabilidade',\n",
       " 'Painel digital',\n",
       " 'Câmbio automático',\n",
       " 'Sensor de estacionamento',\n",
       " 'Rodas de liga',\n",
       " 'Central multimídia',\n",
       " 'Sensor crepuscular',\n",
       " 'Câmera de estacionamento',\n",
       " 'Bancos de couro',\n",
       " '4 X 4',\n",
       " 'Sensor de chuva',\n",
       " 'Vidros elétricos',\n",
       " 'Travas elétricas']"
      ]
     },
     "execution_count": 155,
     "metadata": {
      "tags": []
     },
     "output_type": "execute_result"
    }
   ],
   "source": [
    "list(set([item for lista in dados for item in lista]))"
   ]
  },
  {
   "cell_type": "markdown",
   "metadata": {
    "id": "cJ4fPdj5ltou"
   },
   "source": [
    "# 4.3 Instrução *if*\n",
    "\n",
    "#### Formato padrão\n",
    "\n",
    "```\n",
    "if <condição>:\n",
    "     <instruções caso a condição seja verdadeira>\n",
    "```"
   ]
  },
  {
   "cell_type": "markdown",
   "metadata": {
    "id": "bqOYDJiWltou"
   },
   "source": [
    "### Operadores de comparação: $==$, $!=$, $>$, $<$, $>=$, $<=$\n",
    "### e\n",
    "### Operadores lógicos: $and$, $or$, $not$"
   ]
  },
  {
   "cell_type": "code",
   "execution_count": null,
   "metadata": {
    "colab": {
     "base_uri": "https://localhost:8080/"
    },
    "id": "5eY_XPmrltov",
    "outputId": "8db42ed3-1203-41b7-b2a1-6a07be3a2a8e"
   },
   "outputs": [
    {
     "data": {
      "text/plain": [
       "[['Jetta Variant', 2003, False],\n",
       " ['Passat', 1991, False],\n",
       " ['Crossfox', 1990, False],\n",
       " ['DS5', 2019, True],\n",
       " ['Aston Martin DB4', 2006, False],\n",
       " ['Palio Weekend', 2012, False],\n",
       " ['A5', 2019, True],\n",
       " ['Série 3 Cabrio', 2009, False],\n",
       " ['Dodge Jorney', 2019, False],\n",
       " ['Carens', 2011, False]]"
      ]
     },
     "execution_count": 156,
     "metadata": {
      "tags": []
     },
     "output_type": "execute_result"
    }
   ],
   "source": [
    "# 1º item da lista - Nome do veículo\n",
    "# 2º item da lista - Ano de fabricação\n",
    "# 3º item da lista - Veículo é zero km?\n",
    "\n",
    "dados = [\n",
    "    ['Jetta Variant', 2003, False],\n",
    "    ['Passat', 1991, False],\n",
    "    ['Crossfox', 1990, False],\n",
    "    ['DS5', 2019, True],\n",
    "    ['Aston Martin DB4', 2006, False],\n",
    "    ['Palio Weekend', 2012, False],\n",
    "    ['A5', 2019, True],\n",
    "    ['Série 3 Cabrio', 2009, False],\n",
    "    ['Dodge Jorney', 2019, False],\n",
    "    ['Carens', 2011, False]\n",
    "]\n",
    "dados"
   ]
  },
  {
   "cell_type": "code",
   "execution_count": null,
   "metadata": {
    "colab": {
     "base_uri": "https://localhost:8080/"
    },
    "id": "nyb0iDH1ltoy",
    "outputId": "1a692ba0-88ec-42e7-f3d4-d81e211dbb7c"
   },
   "outputs": [
    {
     "data": {
      "text/plain": [
       "[['DS5', 2019, True], ['A5', 2019, True]]"
      ]
     },
     "execution_count": 161,
     "metadata": {
      "tags": []
     },
     "output_type": "execute_result"
    }
   ],
   "source": [
    "zero_km_Y = []\n",
    "\n",
    "for lista in dados:\n",
    "  if(lista[2] == True):\n",
    "    zero_km_Y.append(lista)\n",
    "\n",
    "zero_km_Y"
   ]
  },
  {
   "cell_type": "code",
   "execution_count": null,
   "metadata": {
    "colab": {
     "base_uri": "https://localhost:8080/"
    },
    "id": "5MlITJppltoy",
    "outputId": "3ecd5a25-7ab7-4195-9577-7d627da27daa"
   },
   "outputs": [
    {
     "data": {
      "text/plain": [
       "[['Jetta Variant', 2003, False],\n",
       " ['Passat', 1991, False],\n",
       " ['Crossfox', 1990, False],\n",
       " ['Aston Martin DB4', 2006, False],\n",
       " ['Palio Weekend', 2012, False],\n",
       " ['Série 3 Cabrio', 2009, False],\n",
       " ['Dodge Jorney', 2019, False],\n",
       " ['Carens', 2011, False]]"
      ]
     },
     "execution_count": 162,
     "metadata": {
      "tags": []
     },
     "output_type": "execute_result"
    }
   ],
   "source": [
    "zero_km_N = []\n",
    "\n",
    "for lista in dados:\n",
    "  if(lista[2] == False):\n",
    "    zero_km_N.append(lista)\n",
    "\n",
    "zero_km_N"
   ]
  },
  {
   "cell_type": "markdown",
   "metadata": {
    "id": "51Js0kXD0aRH"
   },
   "source": [
    "### List comprehensions"
   ]
  },
  {
   "cell_type": "code",
   "execution_count": null,
   "metadata": {
    "colab": {
     "base_uri": "https://localhost:8080/"
    },
    "id": "Ly4QUX5J0aRI",
    "outputId": "ee2386e6-11f6-4e2a-dabb-603a9fe56a0c"
   },
   "outputs": [
    {
     "data": {
      "text/plain": [
       "[['DS5', 2019, True], ['A5', 2019, True]]"
      ]
     },
     "execution_count": 163,
     "metadata": {
      "tags": []
     },
     "output_type": "execute_result"
    }
   ],
   "source": [
    "[lista for lista in dados if lista[2] == True]"
   ]
  },
  {
   "cell_type": "markdown",
   "metadata": {
    "id": "CKjrvO5Tltoz"
   },
   "source": [
    "# 4.4 Instruções *if-else* e *if-elif-else*\n",
    "\n",
    "#### Formato padrão\n",
    "\n",
    "```\n",
    "if <condição>:\n",
    "    <instruções caso a condição seja verdadeira>\n",
    "else:\n",
    "    <instruções caso a condição não seja verdadeira>\n",
    "```"
   ]
  },
  {
   "cell_type": "code",
   "execution_count": null,
   "metadata": {
    "id": "K_VORb47ltoz"
   },
   "outputs": [],
   "source": [
    "zero_km_Y, zero_km_N = [], []\n",
    "\n",
    "for lista in dados:\n",
    "  if(lista[2] == True):\n",
    "    zero_km_Y.append(lista)\n",
    "  else:\n",
    "    zero_km_N.append(lista)\n"
   ]
  },
  {
   "cell_type": "code",
   "execution_count": null,
   "metadata": {
    "colab": {
     "base_uri": "https://localhost:8080/"
    },
    "id": "vhz5T7jDlto1",
    "outputId": "def2aa25-0b5f-4e98-cb20-33275fdf5459"
   },
   "outputs": [
    {
     "data": {
      "text/plain": [
       "[['DS5', 2019, True], ['A5', 2019, True]]"
      ]
     },
     "execution_count": 165,
     "metadata": {
      "tags": []
     },
     "output_type": "execute_result"
    }
   ],
   "source": [
    "zero_km_Y"
   ]
  },
  {
   "cell_type": "code",
   "execution_count": null,
   "metadata": {
    "colab": {
     "base_uri": "https://localhost:8080/"
    },
    "id": "XlvlpPjhlto1",
    "outputId": "90caeffe-70c1-4c9d-9418-2b71aff337fc"
   },
   "outputs": [
    {
     "data": {
      "text/plain": [
       "[['Jetta Variant', 2003, False],\n",
       " ['Passat', 1991, False],\n",
       " ['Crossfox', 1990, False],\n",
       " ['Aston Martin DB4', 2006, False],\n",
       " ['Palio Weekend', 2012, False],\n",
       " ['Série 3 Cabrio', 2009, False],\n",
       " ['Dodge Jorney', 2019, False],\n",
       " ['Carens', 2011, False]]"
      ]
     },
     "execution_count": 166,
     "metadata": {
      "tags": []
     },
     "output_type": "execute_result"
    }
   ],
   "source": [
    "zero_km_N"
   ]
  },
  {
   "cell_type": "markdown",
   "metadata": {
    "id": "Z2-8WeN1lto2"
   },
   "source": [
    "#### Formato padrão\n",
    "\n",
    "```\n",
    "if <condição 1>:\n",
    "    <instruções caso a condição 1 seja verdadeira>\n",
    "elif <condição 2>:\n",
    "    <instruções caso a condição 2 seja verdadeira>\n",
    "elif <condição 3>:\n",
    "    <instruções caso a condição 3 seja verdadeira>\n",
    "                        .\n",
    "                        .\n",
    "                        .\n",
    "else:\n",
    "    <instruções caso as condições anteriores não sejam verdadeiras>\n",
    "```"
   ]
  },
  {
   "cell_type": "code",
   "execution_count": null,
   "metadata": {
    "colab": {
     "base_uri": "https://localhost:8080/"
    },
    "id": "ggrbaB4Tlto2",
    "outputId": "38d230d9-a9aa-4843-faaa-e3f1f81667a5"
   },
   "outputs": [
    {
     "data": {
      "text/plain": [
       "[['Jetta Variant', 2003, False],\n",
       " ['Passat', 1991, False],\n",
       " ['Crossfox', 1990, False],\n",
       " ['DS5', 2019, True],\n",
       " ['Aston Martin DB4', 2006, False],\n",
       " ['Palio Weekend', 2012, False],\n",
       " ['A5', 2019, True],\n",
       " ['Série 3 Cabrio', 2009, False],\n",
       " ['Dodge Jorney', 2019, False],\n",
       " ['Carens', 2011, False]]"
      ]
     },
     "execution_count": 167,
     "metadata": {
      "tags": []
     },
     "output_type": "execute_result"
    }
   ],
   "source": [
    "dados"
   ]
  },
  {
   "cell_type": "code",
   "execution_count": null,
   "metadata": {
    "colab": {
     "base_uri": "https://localhost:8080/"
    },
    "id": "KJgRc1F9lto3",
    "outputId": "257c0ce3-4e03-44fa-b915-ac007acc3bb3"
   },
   "outputs": [
    {
     "name": "stdout",
     "output_type": "stream",
     "text": [
      "AND\n",
      "(True and True) o resultado é: True\n",
      "(True and False) o resultado é: False\n",
      "(False and True) o resultado é: False\n",
      "(False and False) o resultado é: False\n"
     ]
    }
   ],
   "source": [
    "print('AND')\n",
    "print(f'(True and True) o resultado é: {True and True}')\n",
    "print(f'(True and False) o resultado é: {True and False}')\n",
    "print(f'(False and True) o resultado é: {False and True}')\n",
    "print(f'(False and False) o resultado é: {False and False}')"
   ]
  },
  {
   "cell_type": "code",
   "execution_count": null,
   "metadata": {
    "colab": {
     "base_uri": "https://localhost:8080/"
    },
    "id": "sb0mSh-o0aRM",
    "outputId": "c83f9478-8f57-4a96-f906-4e9a28c80a14"
   },
   "outputs": [
    {
     "name": "stdout",
     "output_type": "stream",
     "text": [
      "OR\n",
      "(True or True) o resultado é: True\n",
      "(True or False) o resultado é: True\n",
      "(False or True) o resultado é: True\n",
      "(False or False) o resultado é: False\n"
     ]
    }
   ],
   "source": [
    "print('OR')\n",
    "print(f'(True or True) o resultado é: {True or True}')\n",
    "print(f'(True or False) o resultado é: {True or False}')\n",
    "print(f'(False or True) o resultado é: {False or True}')\n",
    "print(f'(False or False) o resultado é: {False or False}')"
   ]
  },
  {
   "cell_type": "code",
   "execution_count": null,
   "metadata": {
    "id": "AfNdTPzElto3"
   },
   "outputs": [],
   "source": [
    "A, B , C = [], [], []\n",
    "\n",
    "for lista in dados:\n",
    "  if (lista[1] <=2000):\n",
    "    A.append(lista)\n",
    "  elif (lista[1] > 2000 and lista[1] <= 2010):\n",
    "    B.append(lista)\n",
    "  else:\n",
    "    C.append(lista)\n"
   ]
  },
  {
   "cell_type": "code",
   "execution_count": null,
   "metadata": {
    "colab": {
     "base_uri": "https://localhost:8080/"
    },
    "id": "5bN7SuvTlto4",
    "outputId": "da14e558-bf99-4dfb-c082-61a2e0ffdddc"
   },
   "outputs": [
    {
     "data": {
      "text/plain": [
       "[['Passat', 1991, False], ['Crossfox', 1990, False]]"
      ]
     },
     "execution_count": 176,
     "metadata": {
      "tags": []
     },
     "output_type": "execute_result"
    }
   ],
   "source": [
    "A"
   ]
  },
  {
   "cell_type": "code",
   "execution_count": null,
   "metadata": {
    "colab": {
     "base_uri": "https://localhost:8080/"
    },
    "id": "dDEl3Vfglto4",
    "outputId": "79b94807-fa71-4565-d92c-7f419b43a973"
   },
   "outputs": [
    {
     "data": {
      "text/plain": [
       "[['Jetta Variant', 2003, False],\n",
       " ['Aston Martin DB4', 2006, False],\n",
       " ['Série 3 Cabrio', 2009, False]]"
      ]
     },
     "execution_count": 177,
     "metadata": {
      "tags": []
     },
     "output_type": "execute_result"
    }
   ],
   "source": [
    "B"
   ]
  },
  {
   "cell_type": "code",
   "execution_count": null,
   "metadata": {
    "colab": {
     "base_uri": "https://localhost:8080/"
    },
    "id": "Ot4HLQlelto5",
    "outputId": "6a646ea8-d09c-428e-ea52-4a8b7c830375"
   },
   "outputs": [
    {
     "data": {
      "text/plain": [
       "[['DS5', 2019, True],\n",
       " ['Palio Weekend', 2012, False],\n",
       " ['A5', 2019, True],\n",
       " ['Dodge Jorney', 2019, False],\n",
       " ['Carens', 2011, False]]"
      ]
     },
     "execution_count": 178,
     "metadata": {
      "tags": []
     },
     "output_type": "execute_result"
    }
   ],
   "source": [
    "C"
   ]
  },
  {
   "cell_type": "code",
   "execution_count": null,
   "metadata": {
    "id": "FN26ZBKJlto5"
   },
   "outputs": [],
   "source": [
    "A, B , C = [], [], []\n",
    "\n",
    "for lista in dados:\n",
    "  if (lista[1] <=2000):\n",
    "    A.append(lista)\n",
    "  elif (2000 < lista[1] <= 2010):\n",
    "    B.append(lista)\n",
    "  else:\n",
    "    C.append(lista)"
   ]
  },
  {
   "cell_type": "markdown",
   "metadata": {
    "id": "aRfQfubxlto6"
   },
   "source": [
    "# <font color=green> 5. NUMPY BÁSICO\n",
    "---\n",
    "\n",
    "Numpy é a abreviação de Numerical Python e é um dos pacotes mais importantes para processamento numérico em Python. Numpy oferece a base para a maioria dos pacotes de aplicações científicas que utilizem dados numéricos em Python (estruturas de dados e algoritmos). Pode-se destacar os seguintes recursos que o pacote Numpy contém:\n",
    "\n",
    "- Um poderoso objeto array multidimensional;\n",
    "- Funções matemáticas sofisticadas para operações com arrays sem a necessidade de utilização de laços *for*;\n",
    "- Recursos de algebra linear e geração de números aleatórios\n",
    "\n",
    "Além de seus óbvios usos científicos, o pacote NumPy também é muito utilizado em análise de dados como um eficiente contêiner multidimensional de dados genéricos para transporte entre diversos algoritmos e bibliotecas em Python.\n",
    "\n",
    "**Versão:** 1.16.5\n",
    "\n",
    "**Instalação:** https://scipy.org/install.html\n",
    "\n",
    "**Documentação:** https://numpy.org/doc/1.16/"
   ]
  },
  {
   "cell_type": "markdown",
   "metadata": {
    "id": "RtG2-g1ultme"
   },
   "source": [
    "### Pacotes\n",
    "\n",
    "Existem diversos pacotes Python disponíveis para download na internet. Cada pacote tem como objetivo a solução de determinado tipo de problema e para isso são desenvolvidos novos tipos, funções e métodos.\n",
    "\n",
    "Alguns pacotes são bastante utilizados em um contexto de ciência de dados como por exemplo:\n",
    "\n",
    "- Numpy\n",
    "- Pandas\n",
    "- Scikit-learn\n",
    "- Matplotlib\n",
    "\n",
    "Alguns pacotes não são distribuídos com a instalação default do Python. Neste caso devemos instalar os pacotes que necessitamos em nosso sistema para podermos utilizar suas funcionalidades."
   ]
  },
  {
   "cell_type": "markdown",
   "metadata": {
    "id": "b8prsQjmltme"
   },
   "source": [
    "### Importando todo o pacote"
   ]
  },
  {
   "cell_type": "code",
   "execution_count": null,
   "metadata": {
    "id": "lP0tqXHLltmf"
   },
   "outputs": [],
   "source": [
    "import numpy"
   ]
  },
  {
   "cell_type": "markdown",
   "metadata": {
    "id": "IJAzNlnjAZ7W"
   },
   "source": [
    "https://numpy.org/doc/1.16/reference/generated/numpy.arange.html"
   ]
  },
  {
   "cell_type": "code",
   "execution_count": null,
   "metadata": {
    "colab": {
     "base_uri": "https://localhost:8080/"
    },
    "id": "Y40UP3K7ltmg",
    "outputId": "39312153-ad16-4ba7-8dd3-cb4cabadee6d"
   },
   "outputs": [
    {
     "data": {
      "text/plain": [
       "array([0, 1, 2, 3, 4, 5, 6, 7, 8, 9])"
      ]
     },
     "execution_count": 3,
     "metadata": {
      "tags": []
     },
     "output_type": "execute_result"
    }
   ],
   "source": [
    "numpy.arange(10)"
   ]
  },
  {
   "cell_type": "markdown",
   "metadata": {
    "id": "84-53f4Lltmh"
   },
   "source": [
    "### Importando todo o pacote e atribuindo um novo nome "
   ]
  },
  {
   "cell_type": "code",
   "execution_count": null,
   "metadata": {
    "id": "CzESWck7ltmi"
   },
   "outputs": [],
   "source": [
    "import numpy as np"
   ]
  },
  {
   "cell_type": "code",
   "execution_count": null,
   "metadata": {
    "colab": {
     "base_uri": "https://localhost:8080/"
    },
    "id": "RC7Dr5Viltmj",
    "outputId": "5df3e21e-d65d-4359-c2f0-015500e01965"
   },
   "outputs": [
    {
     "data": {
      "text/plain": [
       "array([0, 1, 2, 3, 4, 5, 6, 7, 8, 9])"
      ]
     },
     "execution_count": 5,
     "metadata": {
      "tags": []
     },
     "output_type": "execute_result"
    }
   ],
   "source": [
    "np.arange(10)"
   ]
  },
  {
   "cell_type": "markdown",
   "metadata": {
    "id": "WWawttSpltml"
   },
   "source": [
    "### Importando parte do pacote"
   ]
  },
  {
   "cell_type": "code",
   "execution_count": null,
   "metadata": {
    "id": "8kTeo3Ltltmo"
   },
   "outputs": [],
   "source": [
    "from numpy import arange"
   ]
  },
  {
   "cell_type": "code",
   "execution_count": null,
   "metadata": {
    "colab": {
     "base_uri": "https://localhost:8080/"
    },
    "id": "4LPnpiEwltmt",
    "outputId": "7559769b-0d8f-4ba4-f26d-3c2df73966bf"
   },
   "outputs": [
    {
     "data": {
      "text/plain": [
       "array([0, 1, 2, 3, 4, 5, 6, 7, 8, 9])"
      ]
     },
     "execution_count": 7,
     "metadata": {
      "tags": []
     },
     "output_type": "execute_result"
    }
   ],
   "source": [
    "arange(10)"
   ]
  },
  {
   "cell_type": "markdown",
   "metadata": {
    "id": "VSmffnCklto6"
   },
   "source": [
    "# 5.1 Criando arrays Numpy"
   ]
  },
  {
   "cell_type": "code",
   "execution_count": null,
   "metadata": {
    "id": "Wqpin_-Plto8"
   },
   "outputs": [],
   "source": [
    "import numpy as np"
   ]
  },
  {
   "cell_type": "markdown",
   "metadata": {
    "id": "ock4Ku-Ulto8"
   },
   "source": [
    "### A partir de listas\n",
    "\n",
    "https://numpy.org/doc/1.16/user/basics.creation.html"
   ]
  },
  {
   "cell_type": "code",
   "execution_count": null,
   "metadata": {
    "id": "82H-09CQlto9"
   },
   "outputs": [],
   "source": [
    "km = np.array([1000, 2300, 4987, 1500])"
   ]
  },
  {
   "cell_type": "code",
   "execution_count": null,
   "metadata": {
    "colab": {
     "base_uri": "https://localhost:8080/"
    },
    "id": "8VYE3JSYlto9",
    "outputId": "3fd5054b-f8eb-4b97-8259-400c4fb571ed"
   },
   "outputs": [
    {
     "data": {
      "text/plain": [
       "array([1000, 2300, 4987, 1500])"
      ]
     },
     "execution_count": 10,
     "metadata": {
      "tags": []
     },
     "output_type": "execute_result"
    }
   ],
   "source": [
    "km"
   ]
  },
  {
   "cell_type": "code",
   "execution_count": null,
   "metadata": {
    "colab": {
     "base_uri": "https://localhost:8080/"
    },
    "id": "OBsa5Cfplto-",
    "outputId": "89208055-49ba-46ab-bfd9-845aed7435e0"
   },
   "outputs": [
    {
     "data": {
      "text/plain": [
       "numpy.ndarray"
      ]
     },
     "execution_count": 11,
     "metadata": {
      "tags": []
     },
     "output_type": "execute_result"
    }
   ],
   "source": [
    "type(km)"
   ]
  },
  {
   "cell_type": "markdown",
   "metadata": {
    "id": "RfQ3jJSAlto-"
   },
   "source": [
    "https://numpy.org/doc/1.16/user/basics.types.html"
   ]
  },
  {
   "cell_type": "code",
   "execution_count": null,
   "metadata": {
    "colab": {
     "base_uri": "https://localhost:8080/"
    },
    "id": "6yLpkJcAlto-",
    "outputId": "70e4bb1d-e162-49ad-a869-7ebce4b956fa"
   },
   "outputs": [
    {
     "data": {
      "text/plain": [
       "dtype('int64')"
      ]
     },
     "execution_count": 12,
     "metadata": {
      "tags": []
     },
     "output_type": "execute_result"
    }
   ],
   "source": [
    "km.dtype"
   ]
  },
  {
   "cell_type": "markdown",
   "metadata": {
    "id": "1pFx86QPlto_"
   },
   "source": [
    "### A partir de dados externos\n",
    "\n",
    "https://numpy.org/doc/1.16/reference/generated/numpy.loadtxt.html"
   ]
  },
  {
   "cell_type": "code",
   "execution_count": null,
   "metadata": {
    "id": "26pQLNgrlto_"
   },
   "outputs": [],
   "source": [
    "km = np.loadtxt(fname = 'carros-km.txt', dtype = int)"
   ]
  },
  {
   "cell_type": "code",
   "execution_count": null,
   "metadata": {
    "colab": {
     "base_uri": "https://localhost:8080/"
    },
    "id": "FoP42bdpltpA",
    "outputId": "66656b3b-7901-4e30-990f-c9af58e772a9",
    "scrolled": true
   },
   "outputs": [
    {
     "data": {
      "text/plain": [
       "array([ 44410,   5712,  37123,      0,  25757,  10728,      0,  77599,\n",
       "        99197,  37978,  12859,   8052,  89773,      0,  41457, 115607,\n",
       "        46449,      0,  37086,  15173, 101193,      0,  98079, 102959,\n",
       "            0,      0,   5795,      0,  58848,  94381,  30163,  53332,\n",
       "        17720,  33808,  90684,  43975,      0,      0,   5526,      0,\n",
       "        93415,  40762,      0,  86302,      0,   9755,  69945,   2395,\n",
       "            0,  80349,  85554,  50496,  67716,  93947,  35345,  81007,\n",
       "       119513,      0,      0,      0,      0,      0, 118895,  48509,\n",
       "       100912,  95649,      0,  90495,      0,  29132,  23802,  84992,\n",
       "        54395,  26731,  44329, 118236, 113808,    610,      0,      0,\n",
       "        12887,  79607,  90924,  42733,      0,      0, 117714, 113885,\n",
       "            0,  30511,  74867, 119760,   8356,  64247,  88661,   4539,\n",
       "       110116,  33215,  92001,      0,  81708,  70641,      0,  91277,\n",
       "        26544,  52596,  47503,  89056,  28834, 110564,  56638,  17357,\n",
       "        74015,  15196,      0,  10821,      0,      0,   9595,  99052,\n",
       "        52389, 119945,  96005,  31639,      0,  80187,      0,  58212,\n",
       "        61672,  32017,      0,  56944,      0,  86519,   4821, 101025,\n",
       "        30705,      0,  32555, 103389,      0,  55289,      0,      0,\n",
       "       115930,  66437,  96800,  14237,  19896, 113045, 114942,   3173,\n",
       "        83611,  25356,  88634,   2314,   2627,  52034,      0,      0,\n",
       "        79577, 108201,  76453,  57683,  96610, 109001,  26212,  45971,\n",
       "        49182,  49907,  38620,  60996,  73914, 107392,   9146,      0,\n",
       "        17924,      0, 116949,  20476,  52804,   8849,  91724,  32056,\n",
       "        74886,      0,      0,  52189,  83559,      0,  20328,      0,\n",
       "        75577,  33659, 104341,  25510,  18965,  87161,   6652,  55738,\n",
       "            0,      0,      0,  64320,      0,  68678,  71697,      0,\n",
       "        34783,  33772,  85127,  13606,  35647,  95128,  14046,  41194,\n",
       "            0,  96100, 103900,  43814,  24638,      0, 110966,  15987,\n",
       "        53369,  10077,  71544,    107,   8394,  41498, 116002, 100858,\n",
       "        67475,   8497,   4420,      0,  58537,      0,      0, 112016,\n",
       "        91840, 112787,      0,      0,   9293,      0,  55083,  48796,\n",
       "            0,  89685,  85384,  98108,  71280,  27505,  29981,  52637,\n",
       "         7685,  50188])"
      ]
     },
     "execution_count": 14,
     "metadata": {
      "tags": []
     },
     "output_type": "execute_result"
    }
   ],
   "source": [
    "km"
   ]
  },
  {
   "cell_type": "code",
   "execution_count": null,
   "metadata": {
    "colab": {
     "base_uri": "https://localhost:8080/"
    },
    "id": "MNPjZJbYltpA",
    "outputId": "d36a375b-a16c-48ac-ff0f-2cecb2646f4a"
   },
   "outputs": [
    {
     "data": {
      "text/plain": [
       "dtype('int64')"
      ]
     },
     "execution_count": 15,
     "metadata": {
      "tags": []
     },
     "output_type": "execute_result"
    }
   ],
   "source": [
    "km.dtype"
   ]
  },
  {
   "cell_type": "markdown",
   "metadata": {
    "id": "_wnTg0wJltpB"
   },
   "source": [
    "### Arrays com duas dimensões"
   ]
  },
  {
   "cell_type": "code",
   "execution_count": null,
   "metadata": {
    "colab": {
     "base_uri": "https://localhost:8080/"
    },
    "id": "Gt1dL27GltpB",
    "outputId": "caf6b088-7baa-4196-8071-00418f942acf",
    "scrolled": true
   },
   "outputs": [
    {
     "data": {
      "text/plain": [
       "[['Rodas de liga',\n",
       "  'Travas elétricas',\n",
       "  'Piloto automático',\n",
       "  'Bancos de couro',\n",
       "  'Ar condicionado',\n",
       "  'Sensor de estacionamento',\n",
       "  'Sensor crepuscular',\n",
       "  'Sensor de chuva'],\n",
       " ['Central multimídia',\n",
       "  'Teto panorâmico',\n",
       "  'Freios ABS',\n",
       "  '4 X 4',\n",
       "  'Painel digital',\n",
       "  'Piloto automático',\n",
       "  'Bancos de couro',\n",
       "  'Câmera de estacionamento'],\n",
       " ['Piloto automático',\n",
       "  'Controle de estabilidade',\n",
       "  'Sensor crepuscular',\n",
       "  'Freios ABS',\n",
       "  'Câmbio automático',\n",
       "  'Bancos de couro',\n",
       "  'Central multimídia',\n",
       "  'Vidros elétricos']]"
      ]
     },
     "execution_count": 16,
     "metadata": {
      "tags": []
     },
     "output_type": "execute_result"
    }
   ],
   "source": [
    "dados = [ \n",
    "    ['Rodas de liga', 'Travas elétricas', 'Piloto automático', 'Bancos de couro', 'Ar condicionado', 'Sensor de estacionamento', 'Sensor crepuscular', 'Sensor de chuva'],\n",
    "    ['Central multimídia', 'Teto panorâmico', 'Freios ABS', '4 X 4', 'Painel digital', 'Piloto automático', 'Bancos de couro', 'Câmera de estacionamento'],\n",
    "    ['Piloto automático', 'Controle de estabilidade', 'Sensor crepuscular', 'Freios ABS', 'Câmbio automático', 'Bancos de couro', 'Central multimídia', 'Vidros elétricos']\n",
    "]\n",
    "dados"
   ]
  },
  {
   "cell_type": "code",
   "execution_count": null,
   "metadata": {
    "id": "IlbYeZPkltpC"
   },
   "outputs": [],
   "source": [
    "Acessorios = np.array(dados)"
   ]
  },
  {
   "cell_type": "code",
   "execution_count": null,
   "metadata": {
    "colab": {
     "base_uri": "https://localhost:8080/"
    },
    "id": "FgjmWozgltpD",
    "outputId": "d2f4dbed-953a-43e9-f941-51b04fbb2276",
    "scrolled": true
   },
   "outputs": [
    {
     "data": {
      "text/plain": [
       "array([['Rodas de liga', 'Travas elétricas', 'Piloto automático',\n",
       "        'Bancos de couro', 'Ar condicionado', 'Sensor de estacionamento',\n",
       "        'Sensor crepuscular', 'Sensor de chuva'],\n",
       "       ['Central multimídia', 'Teto panorâmico', 'Freios ABS', '4 X 4',\n",
       "        'Painel digital', 'Piloto automático', 'Bancos de couro',\n",
       "        'Câmera de estacionamento'],\n",
       "       ['Piloto automático', 'Controle de estabilidade',\n",
       "        'Sensor crepuscular', 'Freios ABS', 'Câmbio automático',\n",
       "        'Bancos de couro', 'Central multimídia', 'Vidros elétricos']],\n",
       "      dtype='<U24')"
      ]
     },
     "execution_count": 18,
     "metadata": {
      "tags": []
     },
     "output_type": "execute_result"
    }
   ],
   "source": [
    "Acessorios"
   ]
  },
  {
   "cell_type": "code",
   "execution_count": null,
   "metadata": {
    "colab": {
     "base_uri": "https://localhost:8080/"
    },
    "id": "TDM9HskUltpD",
    "outputId": "55eea1bf-7085-48b1-a7c1-abfe2cff75a5"
   },
   "outputs": [
    {
     "data": {
      "text/plain": [
       "(258,)"
      ]
     },
     "execution_count": 19,
     "metadata": {
      "tags": []
     },
     "output_type": "execute_result"
    }
   ],
   "source": [
    "km.shape"
   ]
  },
  {
   "cell_type": "code",
   "execution_count": null,
   "metadata": {
    "colab": {
     "base_uri": "https://localhost:8080/"
    },
    "id": "bBmnzpF5ltpE",
    "outputId": "69e10056-4fe4-44b6-c935-06e915b3bca9"
   },
   "outputs": [
    {
     "data": {
      "text/plain": [
       "(3, 8)"
      ]
     },
     "execution_count": 20,
     "metadata": {
      "tags": []
     },
     "output_type": "execute_result"
    }
   ],
   "source": [
    "Acessorios.shape"
   ]
  },
  {
   "cell_type": "markdown",
   "metadata": {
    "id": "cPbkST9pltpE"
   },
   "source": [
    "### Comparando desempenho com listas"
   ]
  },
  {
   "cell_type": "code",
   "execution_count": null,
   "metadata": {
    "id": "tTPC-G4vltpE"
   },
   "outputs": [],
   "source": [
    "np_array = np.arange(1000000)"
   ]
  },
  {
   "cell_type": "code",
   "execution_count": null,
   "metadata": {
    "id": "PIC-ndg9ltpF"
   },
   "outputs": [],
   "source": [
    "py_list = list(range(1000000))"
   ]
  },
  {
   "cell_type": "code",
   "execution_count": null,
   "metadata": {
    "colab": {
     "base_uri": "https://localhost:8080/"
    },
    "id": "vXy57nk2ltpF",
    "outputId": "97d85483-2034-43fd-dbcd-eed42c09e426"
   },
   "outputs": [
    {
     "name": "stdout",
     "output_type": "stream",
     "text": [
      "CPU times: user 64 ms, sys: 0 ns, total: 64 ms\n",
      "Wall time: 67.4 ms\n"
     ]
    }
   ],
   "source": [
    "%time for _ in range(100): np_array *= 2 "
   ]
  },
  {
   "cell_type": "code",
   "execution_count": null,
   "metadata": {
    "colab": {
     "base_uri": "https://localhost:8080/"
    },
    "id": "I94lVgCRltpG",
    "outputId": "27b5c8df-5dbe-4fc5-f58d-5e38f6f1335a"
   },
   "outputs": [
    {
     "name": "stdout",
     "output_type": "stream",
     "text": [
      "CPU times: user 8.27 s, sys: 1.96 s, total: 10.2 s\n",
      "Wall time: 10.2 s\n"
     ]
    }
   ],
   "source": [
    "%time for _ in range(100): py_list = [x * 2 for x in py_list]"
   ]
  },
  {
   "cell_type": "markdown",
   "metadata": {
    "id": "ul4MuKyTltpG"
   },
   "source": [
    "# 5.2 Operações aritméticas com arrays Numpy"
   ]
  },
  {
   "cell_type": "markdown",
   "metadata": {
    "id": "QwnxO_rYltpH"
   },
   "source": [
    "### Operações entre arrays e constantes"
   ]
  },
  {
   "cell_type": "code",
   "execution_count": null,
   "metadata": {
    "id": "63KVHPK0ltpH"
   },
   "outputs": [],
   "source": [
    "km = [44410., 5712., 37123., 0., 25757.]\n",
    "anos = [2003, 1991, 1990, 2019, 2006]"
   ]
  },
  {
   "cell_type": "code",
   "execution_count": null,
   "metadata": {
    "colab": {
     "base_uri": "https://localhost:8080/",
     "height": 168
    },
    "id": "AryIZaBIltpH",
    "outputId": "1e33e516-95a1-448b-e4d3-49de1297bce7"
   },
   "outputs": [
    {
     "ename": "TypeError",
     "evalue": "ignored",
     "output_type": "error",
     "traceback": [
      "\u001b[0;31m---------------------------------------------------------------------------\u001b[0m",
      "\u001b[0;31mTypeError\u001b[0m                                 Traceback (most recent call last)",
      "\u001b[0;32m<ipython-input-26-4084c5e6fc93>\u001b[0m in \u001b[0;36m<module>\u001b[0;34m()\u001b[0m\n\u001b[0;32m----> 1\u001b[0;31m \u001b[0midade\u001b[0m \u001b[0;34m=\u001b[0m \u001b[0;36m2019\u001b[0m \u001b[0;34m-\u001b[0m \u001b[0manos\u001b[0m\u001b[0;34m\u001b[0m\u001b[0;34m\u001b[0m\u001b[0m\n\u001b[0m",
      "\u001b[0;31mTypeError\u001b[0m: unsupported operand type(s) for -: 'int' and 'list'"
     ]
    }
   ],
   "source": [
    "# idade = 2019 - anos"
   ]
  },
  {
   "cell_type": "code",
   "execution_count": null,
   "metadata": {
    "id": "s8GvEk4HltpI"
   },
   "outputs": [],
   "source": [
    "km = np.array([44410., 5712., 37123., 0., 25757.])\n",
    "anos = np.array([2003, 1991, 1990, 2019, 2006])"
   ]
  },
  {
   "cell_type": "code",
   "execution_count": null,
   "metadata": {
    "id": "aUnYV7OultpI"
   },
   "outputs": [],
   "source": [
    "idade = 2019 - anos"
   ]
  },
  {
   "cell_type": "code",
   "execution_count": null,
   "metadata": {
    "colab": {
     "base_uri": "https://localhost:8080/"
    },
    "id": "vg5yZ9IpltpJ",
    "outputId": "2b5a1b90-d3ae-42ff-aa4d-383253452b37"
   },
   "outputs": [
    {
     "data": {
      "text/plain": [
       "array([16, 28, 29,  0, 13])"
      ]
     },
     "execution_count": 29,
     "metadata": {
      "tags": []
     },
     "output_type": "execute_result"
    }
   ],
   "source": [
    "idade"
   ]
  },
  {
   "cell_type": "markdown",
   "metadata": {
    "id": "qn1PUsM9ltpJ"
   },
   "source": [
    "### Operações entre arrays"
   ]
  },
  {
   "cell_type": "code",
   "execution_count": null,
   "metadata": {
    "colab": {
     "base_uri": "https://localhost:8080/"
    },
    "id": "gU_d5aZkltpJ",
    "outputId": "aaafbd40-0c8f-429b-de63-3e311994c28c"
   },
   "outputs": [
    {
     "name": "stderr",
     "output_type": "stream",
     "text": [
      "/usr/local/lib/python3.7/dist-packages/ipykernel_launcher.py:1: RuntimeWarning: invalid value encountered in true_divide\n",
      "  \"\"\"Entry point for launching an IPython kernel.\n"
     ]
    }
   ],
   "source": [
    "km_media = km / idade"
   ]
  },
  {
   "cell_type": "code",
   "execution_count": null,
   "metadata": {
    "colab": {
     "base_uri": "https://localhost:8080/"
    },
    "id": "U9DXntUEltpK",
    "outputId": "7db6d55a-4ae6-4344-a7ca-73975b06df2d"
   },
   "outputs": [
    {
     "data": {
      "text/plain": [
       "array([2775.625     ,  204.        , 1280.10344828,           nan,\n",
       "       1981.30769231])"
      ]
     },
     "execution_count": 31,
     "metadata": {
      "tags": []
     },
     "output_type": "execute_result"
    }
   ],
   "source": [
    "km_media"
   ]
  },
  {
   "cell_type": "markdown",
   "metadata": {
    "id": "o4-gsGICltpN"
   },
   "source": [
    "### Operações com arrays de duas dimensões"
   ]
  },
  {
   "cell_type": "code",
   "execution_count": null,
   "metadata": {
    "id": "VT71Pbb3ltpN"
   },
   "outputs": [],
   "source": [
    "dados = np.array([km, anos])"
   ]
  },
  {
   "cell_type": "code",
   "execution_count": null,
   "metadata": {
    "colab": {
     "base_uri": "https://localhost:8080/"
    },
    "id": "bgDe00q8ltpO",
    "outputId": "fbae38aa-2ba4-4215-aaf6-6ef4b7cc1a00"
   },
   "outputs": [
    {
     "data": {
      "text/plain": [
       "array([[44410.,  5712., 37123.,     0., 25757.],\n",
       "       [ 2003.,  1991.,  1990.,  2019.,  2006.]])"
      ]
     },
     "execution_count": 33,
     "metadata": {
      "tags": []
     },
     "output_type": "execute_result"
    }
   ],
   "source": [
    "dados"
   ]
  },
  {
   "cell_type": "code",
   "execution_count": null,
   "metadata": {
    "colab": {
     "base_uri": "https://localhost:8080/"
    },
    "id": "jIQU2ugKltpP",
    "outputId": "0b1c743c-dc82-4f6f-d2e9-4ef843782eab"
   },
   "outputs": [
    {
     "data": {
      "text/plain": [
       "(2, 5)"
      ]
     },
     "execution_count": 34,
     "metadata": {
      "tags": []
     },
     "output_type": "execute_result"
    }
   ],
   "source": [
    "dados.shape"
   ]
  },
  {
   "cell_type": "markdown",
   "metadata": {
    "id": "dsgz-E5ZltpP"
   },
   "source": [
    "![1410-img01.png](https://caelum-online-public.s3.amazonaws.com/1410-pythondatascience/01/1410-img01.png)"
   ]
  },
  {
   "cell_type": "code",
   "execution_count": null,
   "metadata": {
    "colab": {
     "base_uri": "https://localhost:8080/"
    },
    "id": "imANn6HultpQ",
    "outputId": "ea7fb18f-8937-4a89-cfbc-91c3bf77493c"
   },
   "outputs": [
    {
     "data": {
      "text/plain": [
       "array([44410.,  5712., 37123.,     0., 25757.])"
      ]
     },
     "execution_count": 35,
     "metadata": {
      "tags": []
     },
     "output_type": "execute_result"
    }
   ],
   "source": [
    "dados[0]"
   ]
  },
  {
   "cell_type": "code",
   "execution_count": null,
   "metadata": {
    "colab": {
     "base_uri": "https://localhost:8080/"
    },
    "id": "Nkp9ljkvltpQ",
    "outputId": "06044661-11b1-4b3a-a229-1d1cabcfa51f"
   },
   "outputs": [
    {
     "data": {
      "text/plain": [
       "array([2003., 1991., 1990., 2019., 2006.])"
      ]
     },
     "execution_count": 36,
     "metadata": {
      "tags": []
     },
     "output_type": "execute_result"
    }
   ],
   "source": [
    "dados[1]"
   ]
  },
  {
   "cell_type": "code",
   "execution_count": null,
   "metadata": {
    "colab": {
     "base_uri": "https://localhost:8080/"
    },
    "id": "njJ2z3HJltpR",
    "outputId": "3be9e848-b921-49ba-f1f9-dee345fefbb1"
   },
   "outputs": [
    {
     "name": "stderr",
     "output_type": "stream",
     "text": [
      "/usr/local/lib/python3.7/dist-packages/ipykernel_launcher.py:1: RuntimeWarning: invalid value encountered in true_divide\n",
      "  \"\"\"Entry point for launching an IPython kernel.\n"
     ]
    }
   ],
   "source": [
    "km_media = dados[0] / (2019 - dados[1])"
   ]
  },
  {
   "cell_type": "code",
   "execution_count": null,
   "metadata": {
    "colab": {
     "base_uri": "https://localhost:8080/"
    },
    "id": "nBReGH0ySV4a",
    "outputId": "a228b06f-a1d3-410e-d3e6-52ecd7778129"
   },
   "outputs": [
    {
     "data": {
      "text/plain": [
       "array([2775.625     ,  204.        , 1280.10344828,           nan,\n",
       "       1981.30769231])"
      ]
     },
     "execution_count": 38,
     "metadata": {
      "tags": []
     },
     "output_type": "execute_result"
    }
   ],
   "source": [
    "km_media"
   ]
  },
  {
   "cell_type": "markdown",
   "metadata": {
    "id": "4CAwtS0-ltpR"
   },
   "source": [
    "# 5.3 Seleções com arrays Numpy"
   ]
  },
  {
   "cell_type": "markdown",
   "metadata": {
    "id": "QDAT1vODltpS"
   },
   "source": [
    "![1410-img01.png](https://caelum-online-public.s3.amazonaws.com/1410-pythondatascience/01/1410-img01.png)"
   ]
  },
  {
   "cell_type": "code",
   "execution_count": null,
   "metadata": {
    "colab": {
     "base_uri": "https://localhost:8080/"
    },
    "id": "nZpPGS2TltpS",
    "outputId": "d01b2829-07ec-4c76-a6e1-18e8aa7e1e6a"
   },
   "outputs": [
    {
     "data": {
      "text/plain": [
       "array([[44410.,  5712., 37123.,     0., 25757.],\n",
       "       [ 2003.,  1991.,  1990.,  2019.,  2006.]])"
      ]
     },
     "execution_count": 39,
     "metadata": {
      "tags": []
     },
     "output_type": "execute_result"
    }
   ],
   "source": [
    "dados"
   ]
  },
  {
   "cell_type": "markdown",
   "metadata": {
    "id": "b--BIPcOltpT"
   },
   "source": [
    "![1410-img02.png](https://caelum-online-public.s3.amazonaws.com/1410-pythondatascience/01/1410-img02.png)"
   ]
  },
  {
   "cell_type": "markdown",
   "metadata": {
    "id": "86-hOHa7ltpT"
   },
   "source": [
    "### Indexação \n",
    "\n",
    "<font color=red>**Observação:**</font> A indexação tem origem no zero."
   ]
  },
  {
   "cell_type": "code",
   "execution_count": null,
   "metadata": {
    "colab": {
     "base_uri": "https://localhost:8080/"
    },
    "id": "mr0Q_X0JltpT",
    "outputId": "787ddbf0-6cf5-44ef-a6fc-d3baa3f4897a"
   },
   "outputs": [
    {
     "data": {
      "text/plain": [
       "array([0, 1, 2, 3, 4, 5, 6, 7, 8, 9])"
      ]
     },
     "execution_count": 40,
     "metadata": {
      "tags": []
     },
     "output_type": "execute_result"
    }
   ],
   "source": [
    "contador = np.arange(10)\n",
    "contador"
   ]
  },
  {
   "cell_type": "code",
   "execution_count": null,
   "metadata": {
    "colab": {
     "base_uri": "https://localhost:8080/"
    },
    "id": "VxiR_IgdltpU",
    "outputId": "3fd511bd-8dcc-4c05-d341-a4d4fe84049b"
   },
   "outputs": [
    {
     "data": {
      "text/plain": [
       "0"
      ]
     },
     "execution_count": 41,
     "metadata": {
      "tags": []
     },
     "output_type": "execute_result"
    }
   ],
   "source": [
    "contador[0]"
   ]
  },
  {
   "cell_type": "code",
   "execution_count": null,
   "metadata": {
    "colab": {
     "base_uri": "https://localhost:8080/"
    },
    "id": "xGDomIyAltpU",
    "outputId": "e922a59f-8a90-4f06-a6e2-38349d425b32"
   },
   "outputs": [
    {
     "data": {
      "text/plain": [
       "5"
      ]
     },
     "execution_count": 42,
     "metadata": {
      "tags": []
     },
     "output_type": "execute_result"
    }
   ],
   "source": [
    "item = 6\n",
    "index = item - 1\n",
    "contador[index]"
   ]
  },
  {
   "cell_type": "code",
   "execution_count": null,
   "metadata": {
    "colab": {
     "base_uri": "https://localhost:8080/"
    },
    "id": "QEO5Za5PltpV",
    "outputId": "6a026113-a22e-4bb3-f2aa-9f20f70f38f1"
   },
   "outputs": [
    {
     "data": {
      "text/plain": [
       "9"
      ]
     },
     "execution_count": 43,
     "metadata": {
      "tags": []
     },
     "output_type": "execute_result"
    }
   ],
   "source": [
    "contador[-1]"
   ]
  },
  {
   "cell_type": "code",
   "execution_count": null,
   "metadata": {
    "colab": {
     "base_uri": "https://localhost:8080/"
    },
    "id": "rvkeMK8KltpV",
    "outputId": "cbaf2533-058e-4455-b24c-f213d46012d7"
   },
   "outputs": [
    {
     "data": {
      "text/plain": [
       "array([44410.,  5712., 37123.,     0., 25757.])"
      ]
     },
     "execution_count": 44,
     "metadata": {
      "tags": []
     },
     "output_type": "execute_result"
    }
   ],
   "source": [
    "dados[0]"
   ]
  },
  {
   "cell_type": "code",
   "execution_count": null,
   "metadata": {
    "colab": {
     "base_uri": "https://localhost:8080/"
    },
    "id": "X8c-lJRJltpW",
    "outputId": "9e936789-165c-4e57-cc9f-c4a19d8f801f"
   },
   "outputs": [
    {
     "data": {
      "text/plain": [
       "array([2003., 1991., 1990., 2019., 2006.])"
      ]
     },
     "execution_count": 45,
     "metadata": {
      "tags": []
     },
     "output_type": "execute_result"
    }
   ],
   "source": [
    "dados[1]"
   ]
  },
  {
   "cell_type": "markdown",
   "metadata": {
    "id": "fCWUSI1zltpZ"
   },
   "source": [
    "## <font color=green>**Dica:**</font>\n",
    "### *ndarray[ linha ][ coluna ]* ou *ndarray[ linha, coluna ]*"
   ]
  },
  {
   "cell_type": "code",
   "execution_count": null,
   "metadata": {
    "colab": {
     "base_uri": "https://localhost:8080/"
    },
    "id": "Nxc3uY-ZltpZ",
    "outputId": "d00ac6a4-2003-4f28-a6b9-b3dcb2cc66d3"
   },
   "outputs": [
    {
     "data": {
      "text/plain": [
       "1990.0"
      ]
     },
     "execution_count": 47,
     "metadata": {
      "tags": []
     },
     "output_type": "execute_result"
    }
   ],
   "source": [
    "dados[1][2]"
   ]
  },
  {
   "cell_type": "code",
   "execution_count": null,
   "metadata": {
    "colab": {
     "base_uri": "https://localhost:8080/"
    },
    "id": "xp8ByjualtpZ",
    "outputId": "36605fd2-56b1-4ef1-9b56-8583a0753839"
   },
   "outputs": [
    {
     "data": {
      "text/plain": [
       "1990.0"
      ]
     },
     "execution_count": 48,
     "metadata": {
      "tags": []
     },
     "output_type": "execute_result"
    }
   ],
   "source": [
    "dados[1, 2]"
   ]
  },
  {
   "cell_type": "markdown",
   "metadata": {
    "id": "7osmTUC4ltpa"
   },
   "source": [
    " ### Fatiamentos\n",
    " \n",
    "A sintaxe para realizar fatiamento em um array Numpy é $i : j : k$ onde $i$ é o índice inicial, $j$ é o índice de parada, e $k$ é o indicador de passo ($k\\neq0$)\n",
    " \n",
    "<font color=red>**Observação:**</font> Nos fatiamentos (*slices*) o item com índice i é **incluído** e o item com índice j **não é incluído** no resultado."
   ]
  },
  {
   "cell_type": "markdown",
   "metadata": {
    "id": "HEx4TbNlltpa"
   },
   "source": [
    "![1410-img01.png](https://caelum-online-public.s3.amazonaws.com/1410-pythondatascience/01/1410-img01.png)"
   ]
  },
  {
   "cell_type": "code",
   "execution_count": null,
   "metadata": {
    "colab": {
     "base_uri": "https://localhost:8080/"
    },
    "id": "tlaD1SENltpb",
    "outputId": "fdd9b341-04ed-4d84-a834-8873a10858f0"
   },
   "outputs": [
    {
     "data": {
      "text/plain": [
       "array([0, 1, 2, 3, 4, 5, 6, 7, 8, 9])"
      ]
     },
     "execution_count": 49,
     "metadata": {
      "tags": []
     },
     "output_type": "execute_result"
    }
   ],
   "source": [
    "contador = np.arange(10)\n",
    "contador"
   ]
  },
  {
   "cell_type": "code",
   "execution_count": null,
   "metadata": {
    "colab": {
     "base_uri": "https://localhost:8080/"
    },
    "id": "vXLIO1cVltpc",
    "outputId": "6f52ae84-ca64-41aa-efe8-c2ada0fb60fb"
   },
   "outputs": [
    {
     "data": {
      "text/plain": [
       "array([1, 2, 3])"
      ]
     },
     "execution_count": 50,
     "metadata": {
      "tags": []
     },
     "output_type": "execute_result"
    }
   ],
   "source": [
    "contador[1:4]"
   ]
  },
  {
   "cell_type": "code",
   "execution_count": null,
   "metadata": {
    "colab": {
     "base_uri": "https://localhost:8080/"
    },
    "id": "kYLgsQcHltpc",
    "outputId": "d1cea0ba-377f-4127-a3f5-37bb54a84a18"
   },
   "outputs": [
    {
     "data": {
      "text/plain": [
       "array([1, 3, 5, 7])"
      ]
     },
     "execution_count": 51,
     "metadata": {
      "tags": []
     },
     "output_type": "execute_result"
    }
   ],
   "source": [
    "contador[1:8:2]"
   ]
  },
  {
   "cell_type": "code",
   "execution_count": null,
   "metadata": {
    "colab": {
     "base_uri": "https://localhost:8080/"
    },
    "id": "H2MJpIasltpd",
    "outputId": "79b94290-ee08-4080-f581-fe31e74c3bdb"
   },
   "outputs": [
    {
     "data": {
      "text/plain": [
       "array([0, 2, 4, 6, 8])"
      ]
     },
     "execution_count": 52,
     "metadata": {
      "tags": []
     },
     "output_type": "execute_result"
    }
   ],
   "source": [
    "contador[::2]"
   ]
  },
  {
   "cell_type": "code",
   "execution_count": null,
   "metadata": {
    "colab": {
     "base_uri": "https://localhost:8080/"
    },
    "id": "YVzf4fNCltpe",
    "outputId": "27de9d57-7eb2-4250-d447-c69c8432cbaa"
   },
   "outputs": [
    {
     "data": {
      "text/plain": [
       "array([1, 3, 5, 7, 9])"
      ]
     },
     "execution_count": 53,
     "metadata": {
      "tags": []
     },
     "output_type": "execute_result"
    }
   ],
   "source": [
    "contador[1::2]"
   ]
  },
  {
   "cell_type": "code",
   "execution_count": null,
   "metadata": {
    "colab": {
     "base_uri": "https://localhost:8080/"
    },
    "id": "bPyQsUFPltpf",
    "outputId": "a4ca3f3e-d270-4204-dba0-f40dd2fd7cf0"
   },
   "outputs": [
    {
     "data": {
      "text/plain": [
       "array([[44410.,  5712., 37123.,     0., 25757.],\n",
       "       [ 2003.,  1991.,  1990.,  2019.,  2006.]])"
      ]
     },
     "execution_count": 54,
     "metadata": {
      "tags": []
     },
     "output_type": "execute_result"
    }
   ],
   "source": [
    "dados"
   ]
  },
  {
   "cell_type": "code",
   "execution_count": null,
   "metadata": {
    "colab": {
     "base_uri": "https://localhost:8080/"
    },
    "id": "IRxfixG-ltpg",
    "outputId": "75bf8c84-fa98-42e4-d8e3-8174529149de"
   },
   "outputs": [
    {
     "data": {
      "text/plain": [
       "array([[ 5712., 37123.,     0.],\n",
       "       [ 1991.,  1990.,  2019.]])"
      ]
     },
     "execution_count": 55,
     "metadata": {
      "tags": []
     },
     "output_type": "execute_result"
    }
   ],
   "source": [
    "dados[:, 1:4]"
   ]
  },
  {
   "cell_type": "code",
   "execution_count": null,
   "metadata": {
    "colab": {
     "base_uri": "https://localhost:8080/"
    },
    "id": "wfoJ84haltph",
    "outputId": "9f016978-cfbb-4d8e-e2af-0e4e0d710cac"
   },
   "outputs": [
    {
     "data": {
      "text/plain": [
       "array([ 204.        , 1280.10344828])"
      ]
     },
     "execution_count": 60,
     "metadata": {
      "tags": []
     },
     "output_type": "execute_result"
    }
   ],
   "source": [
    "dados[:, 1:3][0] / (2019 - dados[:, 1:3][1])"
   ]
  },
  {
   "cell_type": "markdown",
   "metadata": {
    "id": "-fW4EXIqltpi"
   },
   "source": [
    "### Indexação com array booleano\n",
    "\n",
    "<font color=red>**Observação:**</font> Seleciona um grupo de linhas e colunas segundo os rótulos ou um array booleano."
   ]
  },
  {
   "cell_type": "code",
   "execution_count": null,
   "metadata": {
    "colab": {
     "base_uri": "https://localhost:8080/"
    },
    "id": "MgmH-rCSltpi",
    "outputId": "779429fc-ca7b-41a5-f9f4-fda933eb2439"
   },
   "outputs": [
    {
     "data": {
      "text/plain": [
       "array([0, 1, 2, 3, 4, 5, 6, 7, 8, 9])"
      ]
     },
     "execution_count": 61,
     "metadata": {
      "tags": []
     },
     "output_type": "execute_result"
    }
   ],
   "source": [
    "contador = np.arange(10)\n",
    "contador"
   ]
  },
  {
   "cell_type": "code",
   "execution_count": null,
   "metadata": {
    "colab": {
     "base_uri": "https://localhost:8080/"
    },
    "id": "HN1i-BlLltpj",
    "outputId": "d91eecef-73ce-471f-caeb-7de3c9be200b"
   },
   "outputs": [
    {
     "data": {
      "text/plain": [
       "array([False, False, False, False, False, False,  True,  True,  True,\n",
       "        True])"
      ]
     },
     "execution_count": 62,
     "metadata": {
      "tags": []
     },
     "output_type": "execute_result"
    }
   ],
   "source": [
    "contador > 5"
   ]
  },
  {
   "cell_type": "code",
   "execution_count": null,
   "metadata": {
    "colab": {
     "base_uri": "https://localhost:8080/"
    },
    "id": "iXJa9tL4ltpj",
    "outputId": "64d7f6f8-66a2-4774-bb90-569498b7d881"
   },
   "outputs": [
    {
     "data": {
      "text/plain": [
       "array([6, 7, 8, 9])"
      ]
     },
     "execution_count": 63,
     "metadata": {
      "tags": []
     },
     "output_type": "execute_result"
    }
   ],
   "source": [
    "contador[contador > 5] "
   ]
  },
  {
   "cell_type": "code",
   "execution_count": null,
   "metadata": {
    "colab": {
     "base_uri": "https://localhost:8080/"
    },
    "id": "54gH6X5eltpk",
    "outputId": "7a093ef9-a406-418f-aaf8-d5ae2c499f27"
   },
   "outputs": [
    {
     "data": {
      "text/plain": [
       "array([6, 7, 8, 9])"
      ]
     },
     "execution_count": 65,
     "metadata": {
      "tags": []
     },
     "output_type": "execute_result"
    }
   ],
   "source": [
    "contador[[False, False, False, False, False, False,  True,  True,  True,\n",
    "        True]]"
   ]
  },
  {
   "cell_type": "code",
   "execution_count": null,
   "metadata": {
    "colab": {
     "base_uri": "https://localhost:8080/"
    },
    "id": "F3z6zMELltpk",
    "outputId": "290164ef-2b20-40a1-940b-3660458623cc"
   },
   "outputs": [
    {
     "data": {
      "text/plain": [
       "array([[44410.,  5712., 37123.,     0., 25757.],\n",
       "       [ 2003.,  1991.,  1990.,  2019.,  2006.]])"
      ]
     },
     "execution_count": 66,
     "metadata": {
      "tags": []
     },
     "output_type": "execute_result"
    }
   ],
   "source": [
    "dados"
   ]
  },
  {
   "cell_type": "code",
   "execution_count": null,
   "metadata": {
    "colab": {
     "base_uri": "https://localhost:8080/"
    },
    "id": "pk8A68z1ltpl",
    "outputId": "20f56600-1ae4-4d27-eece-0e23e0f91a22"
   },
   "outputs": [
    {
     "data": {
      "text/plain": [
       "array([ True, False, False,  True,  True])"
      ]
     },
     "execution_count": 67,
     "metadata": {
      "tags": []
     },
     "output_type": "execute_result"
    }
   ],
   "source": [
    "dados[1] > 2000"
   ]
  },
  {
   "cell_type": "code",
   "execution_count": null,
   "metadata": {
    "colab": {
     "base_uri": "https://localhost:8080/"
    },
    "id": "WUVMN29_ltpm",
    "outputId": "ad71715e-11ad-4f36-ff31-fd75f5eeecb7"
   },
   "outputs": [
    {
     "data": {
      "text/plain": [
       "array([[44410.,     0., 25757.],\n",
       "       [ 2003.,  2019.,  2006.]])"
      ]
     },
     "execution_count": 68,
     "metadata": {
      "tags": []
     },
     "output_type": "execute_result"
    }
   ],
   "source": [
    "dados[:, dados[1] > 2000]"
   ]
  },
  {
   "cell_type": "markdown",
   "metadata": {
    "id": "Acw1DffHltpn"
   },
   "source": [
    "# 5.4 Atributos e métodos de arrays Numpy"
   ]
  },
  {
   "cell_type": "markdown",
   "metadata": {
    "id": "RBnSne6Eltpo"
   },
   "source": [
    "### Atributos\n",
    "\n",
    "https://numpy.org/doc/1.16/reference/arrays.ndarray.html#array-attributes"
   ]
  },
  {
   "cell_type": "code",
   "execution_count": null,
   "metadata": {
    "colab": {
     "base_uri": "https://localhost:8080/"
    },
    "id": "stjvD6m8ltpo",
    "outputId": "a5ef9912-feca-47d1-825a-54c8bb727548"
   },
   "outputs": [
    {
     "data": {
      "text/plain": [
       "array([[44410.,  5712., 37123.,     0., 25757.],\n",
       "       [ 2003.,  1991.,  1990.,  2019.,  2006.]])"
      ]
     },
     "execution_count": 69,
     "metadata": {
      "tags": []
     },
     "output_type": "execute_result"
    }
   ],
   "source": [
    "dados"
   ]
  },
  {
   "cell_type": "markdown",
   "metadata": {
    "id": "uKqPxg2Zltpo"
   },
   "source": [
    "## *ndarray.shape*\n",
    "\n",
    "Retorna uma tupla com as dimensões do array."
   ]
  },
  {
   "cell_type": "code",
   "execution_count": null,
   "metadata": {
    "colab": {
     "base_uri": "https://localhost:8080/"
    },
    "id": "gmaZhF04ltpp",
    "outputId": "77e074ad-861d-43cb-ef75-e1b9dcc34d43"
   },
   "outputs": [
    {
     "data": {
      "text/plain": [
       "(2, 5)"
      ]
     },
     "execution_count": 70,
     "metadata": {
      "tags": []
     },
     "output_type": "execute_result"
    }
   ],
   "source": [
    "dados.shape"
   ]
  },
  {
   "cell_type": "markdown",
   "metadata": {
    "id": "XaY6oXkmltpp"
   },
   "source": [
    "## *ndarray.ndim*\n",
    "\n",
    "Retorna o número de dimensões do array."
   ]
  },
  {
   "cell_type": "code",
   "execution_count": null,
   "metadata": {
    "colab": {
     "base_uri": "https://localhost:8080/"
    },
    "id": "inJ4HDjaltpq",
    "outputId": "f7ea2548-ad79-43d6-f773-b608a070f03d"
   },
   "outputs": [
    {
     "data": {
      "text/plain": [
       "2"
      ]
     },
     "execution_count": 71,
     "metadata": {
      "tags": []
     },
     "output_type": "execute_result"
    }
   ],
   "source": [
    "dados.ndim"
   ]
  },
  {
   "cell_type": "markdown",
   "metadata": {
    "id": "ESgVt5xOltpq"
   },
   "source": [
    "## *ndarray.size*\n",
    "\n",
    "Retorna o número de elementos do array."
   ]
  },
  {
   "cell_type": "code",
   "execution_count": null,
   "metadata": {
    "colab": {
     "base_uri": "https://localhost:8080/"
    },
    "id": "BWr4efoiltpq",
    "outputId": "a3c01e4c-6780-4530-9850-399bcdde3864"
   },
   "outputs": [
    {
     "data": {
      "text/plain": [
       "10"
      ]
     },
     "execution_count": 72,
     "metadata": {
      "tags": []
     },
     "output_type": "execute_result"
    }
   ],
   "source": [
    "dados.size"
   ]
  },
  {
   "cell_type": "markdown",
   "metadata": {
    "id": "Ox8JlBM3ltpr"
   },
   "source": [
    "## *ndarray.dtype*\n",
    "\n",
    "Retorna o tipo de dados dos elementos do array."
   ]
  },
  {
   "cell_type": "code",
   "execution_count": null,
   "metadata": {
    "colab": {
     "base_uri": "https://localhost:8080/"
    },
    "id": "npiL84Vfltpu",
    "outputId": "632d3f8a-bb99-4434-90b1-80146f40e498"
   },
   "outputs": [
    {
     "data": {
      "text/plain": [
       "dtype('float64')"
      ]
     },
     "execution_count": 73,
     "metadata": {
      "tags": []
     },
     "output_type": "execute_result"
    }
   ],
   "source": [
    "dados.dtype"
   ]
  },
  {
   "cell_type": "markdown",
   "metadata": {
    "id": "j7uPN16oltpv"
   },
   "source": [
    "## *ndarray.T*\n",
    "\n",
    "Retorna o array transposto, isto é, converte linhas em colunas e vice versa."
   ]
  },
  {
   "cell_type": "code",
   "execution_count": null,
   "metadata": {
    "colab": {
     "base_uri": "https://localhost:8080/"
    },
    "id": "bLjrrx56ltpv",
    "outputId": "45039378-352c-4b62-c45c-abc276910efb"
   },
   "outputs": [
    {
     "data": {
      "text/plain": [
       "array([[44410.,  2003.],\n",
       "       [ 5712.,  1991.],\n",
       "       [37123.,  1990.],\n",
       "       [    0.,  2019.],\n",
       "       [25757.,  2006.]])"
      ]
     },
     "execution_count": 74,
     "metadata": {
      "tags": []
     },
     "output_type": "execute_result"
    }
   ],
   "source": [
    "dados.T"
   ]
  },
  {
   "cell_type": "code",
   "execution_count": null,
   "metadata": {
    "colab": {
     "base_uri": "https://localhost:8080/"
    },
    "id": "5A9SlJQvltpw",
    "outputId": "9ac28bbc-0fae-4293-d122-a5302992c24e"
   },
   "outputs": [
    {
     "data": {
      "text/plain": [
       "array([[44410.,  2003.],\n",
       "       [ 5712.,  1991.],\n",
       "       [37123.,  1990.],\n",
       "       [    0.,  2019.],\n",
       "       [25757.,  2006.]])"
      ]
     },
     "execution_count": 75,
     "metadata": {
      "tags": []
     },
     "output_type": "execute_result"
    }
   ],
   "source": [
    "dados.transpose()"
   ]
  },
  {
   "cell_type": "markdown",
   "metadata": {
    "id": "e9r6ryTrltpw"
   },
   "source": [
    "### Métodos\n",
    "\n",
    "https://numpy.org/doc/1.16/reference/arrays.ndarray.html#array-methods"
   ]
  },
  {
   "cell_type": "markdown",
   "metadata": {
    "id": "SR9KYy-0ltpw"
   },
   "source": [
    "## *ndarray.tolist()*\n",
    "\n",
    "Retorna o array como uma lista Python."
   ]
  },
  {
   "cell_type": "code",
   "execution_count": null,
   "metadata": {
    "colab": {
     "base_uri": "https://localhost:8080/"
    },
    "id": "C2aTAwOXltpw",
    "outputId": "f597290d-97f8-4ca1-e674-e8c19e780fad"
   },
   "outputs": [
    {
     "data": {
      "text/plain": [
       "[[44410.0, 5712.0, 37123.0, 0.0, 25757.0],\n",
       " [2003.0, 1991.0, 1990.0, 2019.0, 2006.0]]"
      ]
     },
     "execution_count": 76,
     "metadata": {
      "tags": []
     },
     "output_type": "execute_result"
    }
   ],
   "source": [
    "dados.tolist()"
   ]
  },
  {
   "cell_type": "markdown",
   "metadata": {
    "id": "bHxcxugPltpx"
   },
   "source": [
    "## *ndarray.reshape(shape[, order])*\n",
    "\n",
    "Retorna um array que contém os mesmos dados com uma nova forma."
   ]
  },
  {
   "cell_type": "code",
   "execution_count": null,
   "metadata": {
    "colab": {
     "base_uri": "https://localhost:8080/"
    },
    "id": "lwESxO71ltpx",
    "outputId": "c6d9b644-4272-4172-a9ca-e4a9be62c80b"
   },
   "outputs": [
    {
     "data": {
      "text/plain": [
       "array([0, 1, 2, 3, 4, 5, 6, 7, 8, 9])"
      ]
     },
     "execution_count": 77,
     "metadata": {
      "tags": []
     },
     "output_type": "execute_result"
    }
   ],
   "source": [
    "contador = np.arange(10)\n",
    "contador"
   ]
  },
  {
   "cell_type": "code",
   "execution_count": null,
   "metadata": {
    "colab": {
     "base_uri": "https://localhost:8080/"
    },
    "id": "sh9poyfzltpy",
    "outputId": "b49333c2-6f86-4ea4-f830-a17f7a1cb58a"
   },
   "outputs": [
    {
     "data": {
      "text/plain": [
       "array([[0, 1],\n",
       "       [2, 3],\n",
       "       [4, 5],\n",
       "       [6, 7],\n",
       "       [8, 9]])"
      ]
     },
     "execution_count": 78,
     "metadata": {
      "tags": []
     },
     "output_type": "execute_result"
    }
   ],
   "source": [
    "contador.reshape((5, 2))"
   ]
  },
  {
   "cell_type": "code",
   "execution_count": null,
   "metadata": {
    "colab": {
     "base_uri": "https://localhost:8080/"
    },
    "id": "5332Xu8-ltpy",
    "outputId": "6e9396d3-31f9-407b-c5bc-019804869655"
   },
   "outputs": [
    {
     "data": {
      "text/plain": [
       "array([[0, 1],\n",
       "       [2, 3],\n",
       "       [4, 5],\n",
       "       [6, 7],\n",
       "       [8, 9]])"
      ]
     },
     "execution_count": 79,
     "metadata": {
      "tags": []
     },
     "output_type": "execute_result"
    }
   ],
   "source": [
    "contador.reshape((5, 2), order = 'C') # libguagem C"
   ]
  },
  {
   "cell_type": "code",
   "execution_count": null,
   "metadata": {
    "colab": {
     "base_uri": "https://localhost:8080/"
    },
    "id": "2RoZvbgHltpz",
    "outputId": "ffdb2d63-7add-4ebf-ca1f-526f270aee75"
   },
   "outputs": [
    {
     "data": {
      "text/plain": [
       "array([[0, 5],\n",
       "       [1, 6],\n",
       "       [2, 7],\n",
       "       [3, 8],\n",
       "       [4, 9]])"
      ]
     },
     "execution_count": 80,
     "metadata": {
      "tags": []
     },
     "output_type": "execute_result"
    }
   ],
   "source": [
    "contador.reshape((5, 2), order = 'F')"
   ]
  },
  {
   "cell_type": "code",
   "execution_count": null,
   "metadata": {
    "id": "6q0dJZ-dltp0"
   },
   "outputs": [],
   "source": [
    "km = [44410, 5712, 37123, 0, 25757]\n",
    "anos = [2003, 1991, 1990, 2019, 2006]"
   ]
  },
  {
   "cell_type": "code",
   "execution_count": null,
   "metadata": {
    "colab": {
     "base_uri": "https://localhost:8080/"
    },
    "id": "bs56aGrkltp0",
    "outputId": "64aa3ad7-f917-4aef-acdf-67cb33566b45"
   },
   "outputs": [
    {
     "data": {
      "text/plain": [
       "[44410, 5712, 37123, 0, 25757, 2003, 1991, 1990, 2019, 2006]"
      ]
     },
     "execution_count": 83,
     "metadata": {
      "tags": []
     },
     "output_type": "execute_result"
    }
   ],
   "source": [
    "info_carros = km + anos\n",
    "info_carros"
   ]
  },
  {
   "cell_type": "code",
   "execution_count": null,
   "metadata": {
    "colab": {
     "base_uri": "https://localhost:8080/"
    },
    "id": "s_GkTk2fltp1",
    "outputId": "2a603c3f-4cab-458c-b215-c89c9c5a2002"
   },
   "outputs": [
    {
     "data": {
      "text/plain": [
       "array([[44410,  5712, 37123,     0, 25757],\n",
       "       [ 2003,  1991,  1990,  2019,  2006]])"
      ]
     },
     "execution_count": 84,
     "metadata": {
      "tags": []
     },
     "output_type": "execute_result"
    }
   ],
   "source": [
    "np.array(info_carros).reshape((2, 5))"
   ]
  },
  {
   "cell_type": "code",
   "execution_count": null,
   "metadata": {
    "colab": {
     "base_uri": "https://localhost:8080/"
    },
    "id": "xodm8DVZltp1",
    "outputId": "ba9191fe-c0c9-46d7-ab48-33339f92b370"
   },
   "outputs": [
    {
     "data": {
      "text/plain": [
       "array([[44410,  2003],\n",
       "       [ 5712,  1991],\n",
       "       [37123,  1990],\n",
       "       [    0,  2019],\n",
       "       [25757,  2006]])"
      ]
     },
     "execution_count": 86,
     "metadata": {
      "tags": []
     },
     "output_type": "execute_result"
    }
   ],
   "source": [
    "np.array(info_carros).reshape((5, 2), order='F')"
   ]
  },
  {
   "cell_type": "markdown",
   "metadata": {
    "id": "Tdj5iArbltp2"
   },
   "source": [
    "## *ndarray.resize(new_shape[, refcheck])*\n",
    "\n",
    "Altera a forma e o tamanho do array."
   ]
  },
  {
   "cell_type": "code",
   "execution_count": null,
   "metadata": {
    "colab": {
     "base_uri": "https://localhost:8080/"
    },
    "id": "vB2zxCDtltp2",
    "outputId": "ccbc0269-456e-4e8f-8b99-b05ecd9e556d"
   },
   "outputs": [
    {
     "data": {
      "text/plain": [
       "array([[44410.,  5712., 37123.,     0., 25757.],\n",
       "       [ 2003.,  1991.,  1990.,  2019.,  2006.]])"
      ]
     },
     "execution_count": 87,
     "metadata": {
      "tags": []
     },
     "output_type": "execute_result"
    }
   ],
   "source": [
    "dados_new = dados.copy()\n",
    "dados_new"
   ]
  },
  {
   "cell_type": "code",
   "execution_count": null,
   "metadata": {
    "id": "IMv0m4Multp2"
   },
   "outputs": [],
   "source": [
    "dados_new.resize((3, 5), refcheck=False)"
   ]
  },
  {
   "cell_type": "code",
   "execution_count": null,
   "metadata": {
    "colab": {
     "base_uri": "https://localhost:8080/"
    },
    "id": "wpAi9928ltp3",
    "outputId": "eec4c66c-df14-4652-87cf-2f1eeb0c22a4"
   },
   "outputs": [
    {
     "data": {
      "text/plain": [
       "array([[44410.,  5712., 37123.,     0., 25757.],\n",
       "       [ 2003.,  1991.,  1990.,  2019.,  2006.],\n",
       "       [    0.,     0.,     0.,     0.,     0.]])"
      ]
     },
     "execution_count": 91,
     "metadata": {
      "tags": []
     },
     "output_type": "execute_result"
    }
   ],
   "source": [
    "dados_new"
   ]
  },
  {
   "cell_type": "code",
   "execution_count": null,
   "metadata": {
    "colab": {
     "base_uri": "https://localhost:8080/"
    },
    "id": "CJyuKqaFltp3",
    "outputId": "a7537c46-2d76-4066-c468-94641c114f12"
   },
   "outputs": [
    {
     "name": "stderr",
     "output_type": "stream",
     "text": [
      "/usr/local/lib/python3.7/dist-packages/ipykernel_launcher.py:1: RuntimeWarning: invalid value encountered in true_divide\n",
      "  \"\"\"Entry point for launching an IPython kernel.\n"
     ]
    }
   ],
   "source": [
    "dados_new[2] = dados_new[0] / (2019 - dados_new[1])"
   ]
  },
  {
   "cell_type": "code",
   "execution_count": null,
   "metadata": {
    "colab": {
     "base_uri": "https://localhost:8080/"
    },
    "id": "bj_iPZAultp4",
    "outputId": "2cd27ca4-3502-4d54-a2e1-6d7b1aa0dc50"
   },
   "outputs": [
    {
     "data": {
      "text/plain": [
       "array([[44410.        ,  5712.        , 37123.        ,     0.        ,\n",
       "        25757.        ],\n",
       "       [ 2003.        ,  1991.        ,  1990.        ,  2019.        ,\n",
       "         2006.        ],\n",
       "       [ 2775.625     ,   204.        ,  1280.10344828,            nan,\n",
       "         1981.30769231]])"
      ]
     },
     "execution_count": 93,
     "metadata": {
      "tags": []
     },
     "output_type": "execute_result"
    }
   ],
   "source": [
    "dados_new"
   ]
  },
  {
   "cell_type": "markdown",
   "metadata": {
    "id": "GPSk7Q_Dltp4"
   },
   "source": [
    "# 5.5 Estatísticas com arrays Numpy\n",
    "\n",
    "https://numpy.org/doc/1.16/reference/arrays.ndarray.html#calculation\n",
    "\n",
    "e\n",
    "\n",
    "https://numpy.org/doc/1.16/reference/routines.statistics.html\n",
    "\n",
    "e\n",
    "\n",
    "https://numpy.org/doc/1.16/reference/routines.math.html"
   ]
  },
  {
   "cell_type": "code",
   "execution_count": null,
   "metadata": {
    "id": "RH2u1orXltp5"
   },
   "outputs": [],
   "source": [
    "anos = np.loadtxt(fname = \"carros-anos.txt\", dtype = int)\n",
    "km = np.loadtxt(fname = \"carros-km.txt\")\n",
    "valor = np.loadtxt(fname = \"carros-valor.txt\")"
   ]
  },
  {
   "cell_type": "code",
   "execution_count": null,
   "metadata": {
    "colab": {
     "base_uri": "https://localhost:8080/"
    },
    "id": "wbITF7r6ltp5",
    "outputId": "3dca1638-5e58-46ce-f54b-7dfbdb534317"
   },
   "outputs": [
    {
     "data": {
      "text/plain": [
       "(258,)"
      ]
     },
     "execution_count": 95,
     "metadata": {
      "tags": []
     },
     "output_type": "execute_result"
    }
   ],
   "source": [
    "anos.shape"
   ]
  },
  {
   "cell_type": "markdown",
   "metadata": {
    "id": "U_x3SOVDltp7"
   },
   "source": [
    "https://numpy.org/doc/1.16/reference/generated/numpy.column_stack.html"
   ]
  },
  {
   "cell_type": "code",
   "execution_count": null,
   "metadata": {
    "colab": {
     "base_uri": "https://localhost:8080/"
    },
    "id": "wefxl-XBltp8",
    "outputId": "98a099ee-351d-4506-89c9-dad03d729726"
   },
   "outputs": [
    {
     "data": {
      "text/plain": [
       "array([[2.0030000e+03, 4.4410000e+04, 8.8078640e+04],\n",
       "       [1.9910000e+03, 5.7120000e+03, 1.0616194e+05],\n",
       "       [1.9900000e+03, 3.7123000e+04, 7.2832160e+04],\n",
       "       [2.0190000e+03, 0.0000000e+00, 1.2454907e+05],\n",
       "       [2.0060000e+03, 2.5757000e+04, 9.2612100e+04],\n",
       "       [2.0120000e+03, 1.0728000e+04, 9.7497730e+04],\n",
       "       [2.0190000e+03, 0.0000000e+00, 5.6445200e+04],\n",
       "       [2.0090000e+03, 7.7599000e+04, 1.1231044e+05],\n",
       "       [2.0100000e+03, 9.9197000e+04, 1.2071627e+05],\n",
       "       [2.0110000e+03, 3.7978000e+04, 7.6566490e+04],\n",
       "       [2.0020000e+03, 1.2859000e+04, 7.1647590e+04],\n",
       "       [2.0070000e+03, 8.0520000e+03, 7.3919530e+04],\n",
       "       [2.0010000e+03, 8.9773000e+04, 1.1273299e+05],\n",
       "       [2.0190000e+03, 0.0000000e+00, 5.3183380e+04],\n",
       "       [2.0090000e+03, 4.1457000e+04, 1.2748842e+05],\n",
       "       [2.0160000e+03, 1.1560700e+05, 5.9910400e+04],\n",
       "       [2.0120000e+03, 4.6449000e+04, 6.1118590e+04],\n",
       "       [2.0190000e+03, 0.0000000e+00, 8.8552390e+04],\n",
       "       [2.0160000e+03, 3.7086000e+04, 6.2696690e+04],\n",
       "       [2.0170000e+03, 1.5173000e+04, 1.0172630e+05],\n",
       "       [2.0020000e+03, 1.0119300e+05, 1.0614738e+05],\n",
       "       [2.0190000e+03, 0.0000000e+00, 9.4564400e+04],\n",
       "       [1.9940000e+03, 9.8079000e+04, 1.3352984e+05],\n",
       "       [1.9910000e+03, 1.0295900e+05, 1.2568465e+05],\n",
       "       [2.0190000e+03, 0.0000000e+00, 1.2159621e+05],\n",
       "       [2.0190000e+03, 0.0000000e+00, 7.1367100e+04],\n",
       "       [2.0160000e+03, 5.7950000e+03, 9.5347750e+04],\n",
       "       [2.0190000e+03, 0.0000000e+00, 1.0543284e+05],\n",
       "       [2.0020000e+03, 5.8848000e+04, 5.7045270e+04],\n",
       "       [1.9910000e+03, 9.4381000e+04, 1.2043270e+05],\n",
       "       [1.9970000e+03, 3.0163000e+04, 7.0707200e+04],\n",
       "       [1.9950000e+03, 5.3332000e+04, 6.9105180e+04],\n",
       "       [2.0180000e+03, 1.7720000e+04, 5.9358690e+04],\n",
       "       [1.9910000e+03, 3.3808000e+04, 6.5955400e+04],\n",
       "       [2.0140000e+03, 9.0684000e+04, 6.0017030e+04],\n",
       "       [1.9950000e+03, 4.3975000e+04, 1.1890952e+05],\n",
       "       [2.0190000e+03, 0.0000000e+00, 5.1606590e+04],\n",
       "       [2.0190000e+03, 0.0000000e+00, 1.2328187e+05],\n",
       "       [2.0090000e+03, 5.5260000e+03, 6.9770180e+04],\n",
       "       [2.0190000e+03, 0.0000000e+00, 1.0260954e+05],\n",
       "       [2.0130000e+03, 9.3415000e+04, 6.7997190e+04],\n",
       "       [2.0030000e+03, 4.0762000e+04, 1.3523529e+05],\n",
       "       [2.0190000e+03, 0.0000000e+00, 8.6641340e+04],\n",
       "       [2.0020000e+03, 8.6302000e+04, 1.3681839e+05],\n",
       "       [2.0190000e+03, 0.0000000e+00, 1.1762673e+05],\n",
       "       [2.0020000e+03, 9.7550000e+03, 5.6208700e+04],\n",
       "       [2.0040000e+03, 6.9945000e+04, 8.4222650e+04],\n",
       "       [2.0010000e+03, 2.3950000e+03, 9.0781650e+04],\n",
       "       [2.0190000e+03, 0.0000000e+00, 6.4701100e+04],\n",
       "       [2.0030000e+03, 8.0349000e+04, 1.2635049e+05],\n",
       "       [2.0090000e+03, 8.5554000e+04, 1.4815289e+05],\n",
       "       [2.0060000e+03, 5.0496000e+04, 1.3229883e+05],\n",
       "       [2.0000000e+03, 6.7716000e+04, 1.3762763e+05],\n",
       "       [2.0060000e+03, 9.3947000e+04, 8.0422710e+04],\n",
       "       [2.0100000e+03, 3.5345000e+04, 5.6373990e+04],\n",
       "       [1.9940000e+03, 8.1007000e+04, 7.0846030e+04],\n",
       "       [2.0070000e+03, 1.1951300e+05, 1.2869423e+05],\n",
       "       [2.0190000e+03, 0.0000000e+00, 1.3332919e+05],\n",
       "       [2.0190000e+03, 0.0000000e+00, 1.3196143e+05],\n",
       "       [2.0190000e+03, 0.0000000e+00, 1.1203327e+05],\n",
       "       [2.0190000e+03, 0.0000000e+00, 8.1399350e+04],\n",
       "       [2.0190000e+03, 0.0000000e+00, 9.7163100e+04],\n",
       "       [2.0170000e+03, 1.1889500e+05, 6.6007160e+04],\n",
       "       [2.0110000e+03, 4.8509000e+04, 1.2877622e+05],\n",
       "       [2.0010000e+03, 1.0091200e+05, 1.4262302e+05],\n",
       "       [1.9960000e+03, 9.5649000e+04, 1.3693013e+05],\n",
       "       [2.0190000e+03, 0.0000000e+00, 6.6526610e+04],\n",
       "       [1.9940000e+03, 9.0495000e+04, 1.1415487e+05],\n",
       "       [2.0190000e+03, 0.0000000e+00, 1.4239275e+05],\n",
       "       [2.0070000e+03, 2.9132000e+04, 1.4671691e+05],\n",
       "       [1.9940000e+03, 2.3802000e+04, 1.2248568e+05],\n",
       "       [2.0070000e+03, 8.4992000e+04, 9.7951030e+04],\n",
       "       [1.9970000e+03, 5.4395000e+04, 7.8283490e+04],\n",
       "       [2.0060000e+03, 2.6731000e+04, 8.3434040e+04],\n",
       "       [2.0130000e+03, 4.4329000e+04, 7.7836230e+04],\n",
       "       [1.9940000e+03, 1.1823600e+05, 6.0813920e+04],\n",
       "       [2.0080000e+03, 1.1380800e+05, 9.1353860e+04],\n",
       "       [2.0080000e+03, 6.1000000e+02, 1.1628121e+05],\n",
       "       [2.0190000e+03, 0.0000000e+00, 1.4519770e+05],\n",
       "       [2.0190000e+03, 0.0000000e+00, 5.0742100e+04],\n",
       "       [1.9990000e+03, 1.2887000e+04, 7.3033530e+04],\n",
       "       [2.0070000e+03, 7.9607000e+04, 5.4332870e+04],\n",
       "       [1.9930000e+03, 9.0924000e+04, 5.2207450e+04],\n",
       "       [1.9950000e+03, 4.2733000e+04, 6.3578500e+04],\n",
       "       [2.0190000e+03, 0.0000000e+00, 6.4507720e+04],\n",
       "       [2.0190000e+03, 0.0000000e+00, 1.1507559e+05],\n",
       "       [2.0160000e+03, 1.1771400e+05, 1.3303060e+05],\n",
       "       [2.0110000e+03, 1.1388500e+05, 1.4159186e+05],\n",
       "       [2.0190000e+03, 0.0000000e+00, 1.0038028e+05],\n",
       "       [2.0020000e+03, 3.0511000e+04, 9.6369040e+04],\n",
       "       [2.0130000e+03, 7.4867000e+04, 1.4260384e+05],\n",
       "       [2.0170000e+03, 1.1976000e+05, 1.1770967e+05],\n",
       "       [2.0160000e+03, 8.3560000e+03, 1.0224154e+05],\n",
       "       [2.0080000e+03, 6.4247000e+04, 9.6065380e+04],\n",
       "       [2.0180000e+03, 8.8661000e+04, 5.3894610e+04],\n",
       "       [2.0030000e+03, 4.5390000e+03, 1.2391178e+05],\n",
       "       [2.0030000e+03, 1.1011600e+05, 1.0199635e+05],\n",
       "       [2.0040000e+03, 3.3215000e+04, 8.3431660e+04],\n",
       "       [2.0100000e+03, 9.2001000e+04, 1.2297563e+05],\n",
       "       [2.0190000e+03, 0.0000000e+00, 9.3227730e+04],\n",
       "       [2.0060000e+03, 8.1708000e+04, 5.8762650e+04],\n",
       "       [2.0010000e+03, 7.0641000e+04, 1.3954967e+05],\n",
       "       [2.0190000e+03, 0.0000000e+00, 1.2201642e+05],\n",
       "       [2.0150000e+03, 9.1277000e+04, 7.2731980e+04],\n",
       "       [2.0180000e+03, 2.6544000e+04, 8.8416540e+04],\n",
       "       [2.0170000e+03, 5.2596000e+04, 7.3873420e+04],\n",
       "       [1.9920000e+03, 4.7503000e+04, 7.0709340e+04],\n",
       "       [2.0010000e+03, 8.9056000e+04, 1.1530650e+05],\n",
       "       [1.9930000e+03, 2.8834000e+04, 5.5924630e+04],\n",
       "       [1.9950000e+03, 1.1056400e+05, 8.5052260e+04],\n",
       "       [2.0030000e+03, 5.6638000e+04, 5.6646340e+04],\n",
       "       [2.0140000e+03, 1.7357000e+04, 1.3894688e+05],\n",
       "       [2.0080000e+03, 7.4015000e+04, 1.0825672e+05],\n",
       "       [2.0130000e+03, 1.5196000e+04, 5.8979300e+04],\n",
       "       [2.0190000e+03, 0.0000000e+00, 1.1472768e+05],\n",
       "       [2.0170000e+03, 1.0821000e+04, 1.3966148e+05],\n",
       "       [2.0190000e+03, 0.0000000e+00, 8.0382240e+04],\n",
       "       [2.0190000e+03, 0.0000000e+00, 1.4915717e+05],\n",
       "       [2.0060000e+03, 9.5950000e+03, 8.7830410e+04],\n",
       "       [2.0150000e+03, 9.9052000e+04, 1.4356822e+05],\n",
       "       [2.0070000e+03, 5.2389000e+04, 1.3817185e+05],\n",
       "       [2.0050000e+03, 1.1994500e+05, 1.1578495e+05],\n",
       "       [2.0170000e+03, 9.6005000e+04, 1.4650899e+05],\n",
       "       [1.9980000e+03, 3.1639000e+04, 1.3767023e+05],\n",
       "       [2.0190000e+03, 0.0000000e+00, 1.3859727e+05],\n",
       "       [1.9990000e+03, 8.0187000e+04, 1.4762781e+05],\n",
       "       [2.0190000e+03, 0.0000000e+00, 6.2999020e+04],\n",
       "       [2.0090000e+03, 5.8212000e+04, 9.1242440e+04],\n",
       "       [2.0030000e+03, 6.1672000e+04, 1.4948992e+05],\n",
       "       [1.9940000e+03, 3.2017000e+04, 6.3529950e+04],\n",
       "       [2.0190000e+03, 0.0000000e+00, 5.8525410e+04],\n",
       "       [1.9940000e+03, 5.6944000e+04, 9.0345050e+04],\n",
       "       [2.0190000e+03, 0.0000000e+00, 1.4777087e+05],\n",
       "       [2.0150000e+03, 8.6519000e+04, 1.0661771e+05],\n",
       "       [1.9960000e+03, 4.8210000e+03, 1.0492988e+05],\n",
       "       [1.9970000e+03, 1.0102500e+05, 1.0071245e+05],\n",
       "       [1.9930000e+03, 3.0705000e+04, 1.4198293e+05],\n",
       "       [2.0190000e+03, 0.0000000e+00, 1.0403879e+05],\n",
       "       [1.9920000e+03, 3.2555000e+04, 8.8501540e+04],\n",
       "       [1.9950000e+03, 1.0338900e+05, 7.9782020e+04],\n",
       "       [2.0190000e+03, 0.0000000e+00, 8.6224100e+04],\n",
       "       [1.9900000e+03, 5.5289000e+04, 1.0359618e+05],\n",
       "       [2.0190000e+03, 0.0000000e+00, 1.4899647e+05],\n",
       "       [2.0190000e+03, 0.0000000e+00, 6.0948010e+04],\n",
       "       [1.9910000e+03, 1.1593000e+05, 6.9535440e+04],\n",
       "       [1.9900000e+03, 6.6437000e+04, 1.1113033e+05],\n",
       "       [2.0120000e+03, 9.6800000e+04, 6.5847690e+04],\n",
       "       [2.0070000e+03, 1.4237000e+04, 7.8096060e+04],\n",
       "       [2.0130000e+03, 1.9896000e+04, 6.9219890e+04],\n",
       "       [2.0000000e+03, 1.1304500e+05, 1.4411891e+05],\n",
       "       [2.0020000e+03, 1.1494200e+05, 7.7397050e+04],\n",
       "       [1.9960000e+03, 3.1730000e+03, 6.8974250e+04],\n",
       "       [1.9960000e+03, 8.3611000e+04, 1.2523130e+05],\n",
       "       [2.0150000e+03, 2.5356000e+04, 8.5501120e+04],\n",
       "       [1.9930000e+03, 8.8634000e+04, 1.3711621e+05],\n",
       "       [2.0130000e+03, 2.3140000e+03, 1.3882381e+05],\n",
       "       [2.0130000e+03, 2.6270000e+03, 1.1796195e+05],\n",
       "       [2.0090000e+03, 5.2034000e+04, 1.3266232e+05],\n",
       "       [2.0190000e+03, 0.0000000e+00, 1.4640579e+05],\n",
       "       [2.0190000e+03, 0.0000000e+00, 8.1999210e+04],\n",
       "       [2.0020000e+03, 7.9577000e+04, 1.4093460e+05],\n",
       "       [1.9970000e+03, 1.0820100e+05, 8.2366810e+04],\n",
       "       [1.9980000e+03, 7.6453000e+04, 7.0424110e+04],\n",
       "       [2.0040000e+03, 5.7683000e+04, 5.3620310e+04],\n",
       "       [1.9960000e+03, 9.6610000e+04, 7.3389180e+04],\n",
       "       [2.0150000e+03, 1.0900100e+05, 1.1161812e+05],\n",
       "       [2.0160000e+03, 2.6212000e+04, 1.1218737e+05],\n",
       "       [2.0050000e+03, 4.5971000e+04, 1.2081257e+05],\n",
       "       [1.9990000e+03, 4.9182000e+04, 1.1603104e+05],\n",
       "       [1.9950000e+03, 4.9907000e+04, 1.2539811e+05],\n",
       "       [1.9930000e+03, 3.8620000e+04, 7.6101470e+04],\n",
       "       [2.0040000e+03, 6.0996000e+04, 7.5263240e+04],\n",
       "       [2.0130000e+03, 7.3914000e+04, 1.4738776e+05],\n",
       "       [1.9980000e+03, 1.0739200e+05, 8.5311400e+04],\n",
       "       [2.0180000e+03, 9.1460000e+03, 5.4388110e+04],\n",
       "       [2.0190000e+03, 0.0000000e+00, 1.2415665e+05],\n",
       "       [2.0180000e+03, 1.7924000e+04, 1.4620334e+05],\n",
       "       [2.0190000e+03, 0.0000000e+00, 5.6453940e+04],\n",
       "       [1.9900000e+03, 1.1694900e+05, 6.8873790e+04],\n",
       "       [2.0090000e+03, 2.0476000e+04, 9.1667610e+04],\n",
       "       [1.9900000e+03, 5.2804000e+04, 9.3776520e+04],\n",
       "       [2.0060000e+03, 8.8490000e+03, 6.6433820e+04],\n",
       "       [2.0020000e+03, 9.1724000e+04, 1.0905927e+05],\n",
       "       [1.9910000e+03, 3.2056000e+04, 1.2206997e+05],\n",
       "       [1.9920000e+03, 7.4886000e+04, 1.1309032e+05],\n",
       "       [2.0190000e+03, 0.0000000e+00, 8.9401100e+04],\n",
       "       [2.0190000e+03, 0.0000000e+00, 5.6842790e+04],\n",
       "       [2.0050000e+03, 5.2189000e+04, 1.4667671e+05],\n",
       "       [2.0100000e+03, 8.3559000e+04, 8.9511960e+04],\n",
       "       [2.0190000e+03, 0.0000000e+00, 9.7290180e+04],\n",
       "       [2.0160000e+03, 2.0328000e+04, 1.2067356e+05],\n",
       "       [2.0190000e+03, 0.0000000e+00, 1.1443494e+05],\n",
       "       [2.0100000e+03, 7.5577000e+04, 1.3954669e+05],\n",
       "       [1.9940000e+03, 3.3659000e+04, 9.5078160e+04],\n",
       "       [2.0010000e+03, 1.0434100e+05, 6.8091770e+04],\n",
       "       [2.0140000e+03, 2.5510000e+04, 6.1496970e+04],\n",
       "       [1.9960000e+03, 1.8965000e+04, 1.3966930e+05],\n",
       "       [1.9930000e+03, 8.7161000e+04, 8.0661390e+04],\n",
       "       [1.9930000e+03, 6.6520000e+03, 6.1783650e+04],\n",
       "       [2.0010000e+03, 5.5738000e+04, 5.2805910e+04],\n",
       "       [2.0190000e+03, 0.0000000e+00, 1.2702475e+05],\n",
       "       [2.0190000e+03, 0.0000000e+00, 1.3554300e+05],\n",
       "       [2.0190000e+03, 0.0000000e+00, 1.2170873e+05],\n",
       "       [2.0070000e+03, 6.4320000e+04, 1.0734268e+05],\n",
       "       [2.0190000e+03, 0.0000000e+00, 5.7888100e+04],\n",
       "       [2.0160000e+03, 6.8678000e+04, 1.1816148e+05],\n",
       "       [2.0140000e+03, 7.1697000e+04, 1.4249906e+05],\n",
       "       [2.0190000e+03, 0.0000000e+00, 1.2839611e+05],\n",
       "       [2.0150000e+03, 3.4783000e+04, 1.1235061e+05],\n",
       "       [2.0150000e+03, 3.3772000e+04, 1.2466138e+05],\n",
       "       [1.9960000e+03, 8.5127000e+04, 5.4263160e+04],\n",
       "       [2.0020000e+03, 1.3606000e+04, 6.2041320e+04],\n",
       "       [2.0050000e+03, 3.5647000e+04, 1.2929611e+05],\n",
       "       [1.9950000e+03, 9.5128000e+04, 6.0998330e+04],\n",
       "       [1.9990000e+03, 1.4046000e+04, 5.8008500e+04],\n",
       "       [2.0050000e+03, 4.1194000e+04, 8.2304190e+04],\n",
       "       [2.0190000e+03, 0.0000000e+00, 1.1453174e+05],\n",
       "       [1.9970000e+03, 9.6100000e+04, 1.2856561e+05],\n",
       "       [1.9900000e+03, 1.0390000e+05, 1.2648826e+05],\n",
       "       [2.0010000e+03, 4.3814000e+04, 1.1907455e+05],\n",
       "       [2.0130000e+03, 2.4638000e+04, 1.3023804e+05],\n",
       "       [2.0190000e+03, 0.0000000e+00, 1.1576017e+05],\n",
       "       [2.0170000e+03, 1.1096600e+05, 1.2124800e+05],\n",
       "       [2.0110000e+03, 1.5987000e+04, 9.8156350e+04],\n",
       "       [2.0050000e+03, 5.3369000e+04, 1.1214680e+05],\n",
       "       [2.0070000e+03, 1.0077000e+04, 1.0272963e+05],\n",
       "       [1.9930000e+03, 7.1544000e+04, 1.4108335e+05],\n",
       "       [1.9910000e+03, 1.0700000e+02, 1.0296876e+05],\n",
       "       [1.9910000e+03, 8.3940000e+03, 7.6310010e+04],\n",
       "       [1.9970000e+03, 4.1498000e+04, 1.2048174e+05],\n",
       "       [2.0000000e+03, 1.1600200e+05, 5.4559180e+04],\n",
       "       [2.0070000e+03, 1.0085800e+05, 9.2957640e+04],\n",
       "       [2.0060000e+03, 6.7475000e+04, 1.2781006e+05],\n",
       "       [2.0150000e+03, 8.4970000e+03, 7.3311750e+04],\n",
       "       [2.0080000e+03, 4.4200000e+03, 6.5138030e+04],\n",
       "       [2.0190000e+03, 0.0000000e+00, 9.0141470e+04],\n",
       "       [1.9960000e+03, 5.8537000e+04, 7.1160360e+04],\n",
       "       [2.0190000e+03, 0.0000000e+00, 6.7539790e+04],\n",
       "       [2.0190000e+03, 0.0000000e+00, 6.7664860e+04],\n",
       "       [2.0140000e+03, 1.1201600e+05, 6.8652160e+04],\n",
       "       [2.0040000e+03, 9.1840000e+04, 1.1472874e+05],\n",
       "       [2.0080000e+03, 1.1278700e+05, 1.4164508e+05],\n",
       "       [2.0190000e+03, 0.0000000e+00, 1.2624784e+05],\n",
       "       [2.0190000e+03, 0.0000000e+00, 1.2885221e+05],\n",
       "       [2.0120000e+03, 9.2930000e+03, 1.3238476e+05],\n",
       "       [2.0190000e+03, 0.0000000e+00, 1.2941533e+05],\n",
       "       [1.9960000e+03, 5.5083000e+04, 8.9536820e+04],\n",
       "       [2.0110000e+03, 4.8796000e+04, 8.7975300e+04],\n",
       "       [2.0190000e+03, 0.0000000e+00, 7.7675790e+04],\n",
       "       [2.0100000e+03, 8.9685000e+04, 5.8881670e+04],\n",
       "       [2.0070000e+03, 8.5384000e+04, 5.5081990e+04],\n",
       "       [1.9940000e+03, 9.8108000e+04, 1.1882644e+05],\n",
       "       [2.0070000e+03, 7.1280000e+04, 1.3762762e+05],\n",
       "       [2.0140000e+03, 2.7505000e+04, 5.1759580e+04],\n",
       "       [1.9910000e+03, 2.9981000e+04, 5.1667060e+04],\n",
       "       [2.0020000e+03, 5.2637000e+04, 6.8934030e+04],\n",
       "       [1.9960000e+03, 7.6850000e+03, 1.2211090e+05],\n",
       "       [1.9920000e+03, 5.0188000e+04, 9.0381470e+04]])"
      ]
     },
     "execution_count": 96,
     "metadata": {
      "tags": []
     },
     "output_type": "execute_result"
    }
   ],
   "source": [
    "dataset = np.column_stack((anos, km, valor))\n",
    "dataset"
   ]
  },
  {
   "cell_type": "code",
   "execution_count": null,
   "metadata": {
    "colab": {
     "base_uri": "https://localhost:8080/"
    },
    "id": "OzDTTmj8ltp_",
    "outputId": "2b967d7c-c4d0-47c5-a4ee-cfb92942dacf",
    "scrolled": true
   },
   "outputs": [
    {
     "data": {
      "text/plain": [
       "(258, 3)"
      ]
     },
     "execution_count": 97,
     "metadata": {
      "tags": []
     },
     "output_type": "execute_result"
    }
   ],
   "source": [
    "dataset.shape"
   ]
  },
  {
   "cell_type": "markdown",
   "metadata": {
    "id": "Me6yUU_RltqA"
   },
   "source": [
    "## *np.mean()*\n",
    "\n",
    "Retorna a média dos elementos do array ao longo do eixo especificado."
   ]
  },
  {
   "cell_type": "code",
   "execution_count": null,
   "metadata": {
    "colab": {
     "base_uri": "https://localhost:8080/"
    },
    "id": "MNEKcP38ltqA",
    "outputId": "1a2da2a2-b12b-46f0-d144-4eabbdf1dbc2"
   },
   "outputs": [
    {
     "data": {
      "text/plain": [
       "array([ 2007.51162791, 44499.41472868, 98960.51310078])"
      ]
     },
     "execution_count": 99,
     "metadata": {
      "tags": []
     },
     "output_type": "execute_result"
    }
   ],
   "source": [
    "np.mean(dataset, axis = 0)"
   ]
  },
  {
   "cell_type": "code",
   "execution_count": null,
   "metadata": {
    "colab": {
     "base_uri": "https://localhost:8080/"
    },
    "id": "sekHQ84zltqB",
    "outputId": "7b8dd4e3-7768-4c75-d7be-ece6bbba88b4"
   },
   "outputs": [
    {
     "data": {
      "text/plain": [
       "array([44830.54666667, 37954.98      , 37315.05333333, 42189.35666667,\n",
       "       40125.03333333, 36745.91      , 19488.06666667, 63972.81333333,\n",
       "       73974.42333333, 38851.83      , 28836.19666667, 27992.84333333,\n",
       "       68168.99666667, 18400.79333333, 56984.80666667, 59177.8       ,\n",
       "       36526.53      , 30190.46333333, 33932.89666667, 39638.76666667,\n",
       "       69780.79333333, 32194.46666667, 77867.61333333, 76878.21666667,\n",
       "       41205.07      , 24462.03333333, 34386.25      , 35817.28      ,\n",
       "       39298.42333333, 72268.23333333, 34289.06666667, 41477.39333333,\n",
       "       26365.56333333, 33918.13333333, 50905.01      , 54959.84      ,\n",
       "       17875.19666667, 41766.95666667, 25768.39333333, 34876.18      ,\n",
       "       54475.06333333, 59333.43      , 29553.44666667, 75040.79666667,\n",
       "       39881.91      , 22655.23333333, 52057.21666667, 31725.88333333,\n",
       "       22240.03333333, 69567.49666667, 78571.96333333, 61600.27666667,\n",
       "       69114.54333333, 58791.90333333, 31242.99666667, 51282.34333333,\n",
       "       83404.74333333, 45116.06333333, 44660.14333333, 38017.42333333,\n",
       "       27806.11666667, 33060.7       , 62306.38666667, 59765.40666667,\n",
       "       81845.34      , 78191.71      , 22848.53666667, 68881.29      ,\n",
       "       48137.25      , 59285.30333333, 49427.22666667, 61650.01      ,\n",
       "       44891.83      , 37390.34666667, 41392.74333333, 60347.97333333,\n",
       "       69056.62      , 39633.07      , 49072.23333333, 17587.03333333,\n",
       "       29306.51      , 45315.62333333, 48374.81666667, 36102.16666667,\n",
       "       22175.57333333, 39031.53      , 84253.53333333, 85829.28666667,\n",
       "       34133.09333333, 42960.68      , 73161.28      , 79828.89      ,\n",
       "       37537.84666667, 54106.79333333, 48191.20333333, 43484.59333333,\n",
       "       71371.78333333, 39550.22      , 72328.87666667, 31748.91      ,\n",
       "       47492.21666667, 70730.55666667, 41345.14      , 55341.32666667,\n",
       "       38992.84666667, 42828.80666667, 40068.11333333, 68787.83333333,\n",
       "       28917.21      , 65870.42      , 38429.11333333, 52772.62666667,\n",
       "       61426.57333333, 25396.1       , 38915.56      , 50833.16      ,\n",
       "       27467.08      , 50392.05666667, 33143.80333333, 81545.07333333,\n",
       "       64189.28333333, 79244.98333333, 81510.33      , 57102.41      ,\n",
       "       46872.09      , 76604.60333333, 21672.67333333, 50487.81333333,\n",
       "       71054.97333333, 32513.65      , 20181.47      , 49761.01666667,\n",
       "       49929.95666667, 65050.57      , 37248.96      , 67911.48333333,\n",
       "       58226.97666667, 35352.59666667, 41016.18      , 61722.00666667,\n",
       "       29414.36666667, 53625.06      , 50338.49      , 20989.00333333,\n",
       "       62485.48      , 59852.44333333, 54886.56333333, 31446.68666667,\n",
       "       30376.29666667, 86387.97      , 64780.35      , 24714.41666667,\n",
       "       70279.43333333, 37624.04      , 75914.40333333, 47716.93666667,\n",
       "       40867.31666667, 62235.10666667, 49474.93      , 28006.07      ,\n",
       "       74171.2       , 64188.27      , 49625.03666667, 37769.10333333,\n",
       "       57331.72666667, 74211.37333333, 46805.12333333, 56262.85666667,\n",
       "       55737.34666667, 59100.03666667, 38904.82333333, 46087.74666667,\n",
       "       74438.25333333, 64900.46666667, 21850.70333333, 42058.55      ,\n",
       "       55381.78      , 19490.98      , 62604.26333333, 38050.87      ,\n",
       "       49523.50666667, 25762.94      , 67595.09      , 52038.99      ,\n",
       "       63322.77333333, 30473.36666667, 19620.59666667, 66956.90333333,\n",
       "       58360.32      , 33103.06      , 47672.52      , 38817.98      ,\n",
       "       72377.89666667, 43577.05333333, 58144.59      , 29673.65666667,\n",
       "       53543.43333333, 56605.13      , 23476.21666667, 36848.30333333,\n",
       "       43014.58333333, 45854.        , 41242.57666667, 57889.89333333,\n",
       "       19969.03333333, 62951.82666667, 72070.02      , 43471.70333333,\n",
       "       49716.20333333, 53482.79333333, 47128.72      , 25883.10666667,\n",
       "       55649.37      , 52707.11      , 24684.5       , 41834.39666667,\n",
       "       38850.24666667, 75554.20333333, 77459.42      , 54963.18333333,\n",
       "       52296.34666667, 39259.72333333, 78077.        , 38718.11666667,\n",
       "       55840.26666667, 38271.21      , 71540.11666667, 35022.25333333,\n",
       "       28898.33666667, 54658.91333333, 57520.39333333, 65274.21333333,\n",
       "       65763.68666667, 27941.25      , 23855.34333333, 30720.15666667,\n",
       "       43897.78666667, 23186.26333333, 23227.95333333, 60894.05333333,\n",
       "       69524.24666667, 85480.02666667, 42755.61333333, 43623.73666667,\n",
       "       47896.58666667, 43811.44333333, 48871.94      , 46260.76666667,\n",
       "       26564.93      , 50192.22333333, 47490.99666667, 72976.14666667,\n",
       "       70304.87333333, 27092.86      , 27879.68666667, 41191.01      ,\n",
       "       43930.63333333, 47520.49      ])"
      ]
     },
     "execution_count": 100,
     "metadata": {
      "tags": []
     },
     "output_type": "execute_result"
    }
   ],
   "source": [
    "np.mean(dataset, axis = 1)"
   ]
  },
  {
   "cell_type": "code",
   "execution_count": null,
   "metadata": {
    "colab": {
     "base_uri": "https://localhost:8080/"
    },
    "id": "RpyETIVSltqC",
    "outputId": "e6add25c-b9f6-4bd9-854d-c9dc7c7a126d"
   },
   "outputs": [
    {
     "data": {
      "text/plain": [
       "44499.41472868217"
      ]
     },
     "execution_count": 101,
     "metadata": {
      "tags": []
     },
     "output_type": "execute_result"
    }
   ],
   "source": [
    "np.mean(dataset[:, 1])"
   ]
  },
  {
   "cell_type": "code",
   "execution_count": null,
   "metadata": {
    "colab": {
     "base_uri": "https://localhost:8080/"
    },
    "id": "_-kpcTI8ltqD",
    "outputId": "447a03f6-abc0-4a1a-c3a2-409b7831e678",
    "scrolled": true
   },
   "outputs": [
    {
     "data": {
      "text/plain": [
       "98960.51310077519"
      ]
     },
     "execution_count": 102,
     "metadata": {
      "tags": []
     },
     "output_type": "execute_result"
    }
   ],
   "source": [
    "np.mean(dataset[:, 2])"
   ]
  },
  {
   "cell_type": "markdown",
   "metadata": {
    "id": "71jViVBUltqE"
   },
   "source": [
    "## *np.std()*\n",
    "\n",
    "Retorna o desvio padrão dos elementos do array ao longo do eixo especificado."
   ]
  },
  {
   "cell_type": "code",
   "execution_count": null,
   "metadata": {
    "colab": {
     "base_uri": "https://localhost:8080/"
    },
    "id": "lEwUbPx2ltqE",
    "outputId": "55252afb-8099-436a-afb5-f54ada073655",
    "scrolled": true
   },
   "outputs": [
    {
     "data": {
      "text/plain": [
       "29754.101150388564"
      ]
     },
     "execution_count": 104,
     "metadata": {
      "tags": []
     },
     "output_type": "execute_result"
    }
   ],
   "source": [
    "np.std(dataset[:, 2])\n"
   ]
  },
  {
   "cell_type": "markdown",
   "metadata": {
    "id": "JTUH-vAeltqG"
   },
   "source": [
    "## *ndarray.sum()*\n",
    "\n",
    "Retorna a soma dos elementos do array ao longo do eixo especificado."
   ]
  },
  {
   "cell_type": "code",
   "execution_count": null,
   "metadata": {
    "colab": {
     "base_uri": "https://localhost:8080/"
    },
    "id": "jIi3yoaWltqG",
    "outputId": "aa72685e-d66f-4799-c525-f8044b20f3c6"
   },
   "outputs": [
    {
     "data": {
      "text/plain": [
       "array([  517938.        , 11480849.        , 25531812.37999999])"
      ]
     },
     "execution_count": 105,
     "metadata": {
      "tags": []
     },
     "output_type": "execute_result"
    }
   ],
   "source": [
    "dataset.sum(axis =0)"
   ]
  },
  {
   "cell_type": "code",
   "execution_count": null,
   "metadata": {
    "colab": {
     "base_uri": "https://localhost:8080/"
    },
    "id": "X3QYbdYLltqH",
    "outputId": "af196385-08bc-4fa2-a16f-c44834f81b4a"
   },
   "outputs": [
    {
     "data": {
      "text/plain": [
       "11480849.0"
      ]
     },
     "execution_count": 106,
     "metadata": {
      "tags": []
     },
     "output_type": "execute_result"
    }
   ],
   "source": [
    "dataset[:, 1].sum()"
   ]
  },
  {
   "cell_type": "markdown",
   "metadata": {
    "id": "WbBD5ixaltqH"
   },
   "source": [
    "## *np.sum()*\n",
    "\n",
    "Retorna a soma dos elementos do array ao longo do eixo especificado."
   ]
  },
  {
   "cell_type": "code",
   "execution_count": null,
   "metadata": {
    "colab": {
     "base_uri": "https://localhost:8080/"
    },
    "id": "omB6kgWgltqH",
    "outputId": "0385306b-f57a-4baa-fe6b-f2754ddc4737"
   },
   "outputs": [
    {
     "data": {
      "text/plain": [
       "array([  517938.        , 11480849.        , 25531812.37999999])"
      ]
     },
     "execution_count": 107,
     "metadata": {
      "tags": []
     },
     "output_type": "execute_result"
    }
   ],
   "source": [
    "np.sum(dataset, axis = 0)"
   ]
  },
  {
   "cell_type": "code",
   "execution_count": null,
   "metadata": {
    "colab": {
     "base_uri": "https://localhost:8080/"
    },
    "id": "LiD4G3kQltqI",
    "outputId": "070e534c-d340-48c7-f9b7-80c89eace061"
   },
   "outputs": [
    {
     "data": {
      "text/plain": [
       "25531812.38"
      ]
     },
     "execution_count": 108,
     "metadata": {
      "tags": []
     },
     "output_type": "execute_result"
    }
   ],
   "source": [
    "np.sum(dataset[:, 2])"
   ]
  }
 ],
 "metadata": {
  "colab": {
   "collapsed_sections": [],
   "name": "Python_Data_Science_Numpy.ipynb",
   "provenance": []
  },
  "kernelspec": {
   "display_name": "Python 3",
   "language": "python",
   "name": "python3"
  },
  "language_info": {
   "codemirror_mode": {
    "name": "ipython",
    "version": 3
   },
   "file_extension": ".py",
   "mimetype": "text/x-python",
   "name": "python",
   "nbconvert_exporter": "python",
   "pygments_lexer": "ipython3",
   "version": "3.8.8"
  }
 },
 "nbformat": 4,
 "nbformat_minor": 1
}
